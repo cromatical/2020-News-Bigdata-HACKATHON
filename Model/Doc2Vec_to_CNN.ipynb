{
 "cells": [
  {
   "cell_type": "markdown",
   "metadata": {},
   "source": [
    "### data load"
   ]
  },
  {
   "cell_type": "code",
   "execution_count": 1,
   "metadata": {
    "scrolled": true
   },
   "outputs": [
    {
     "data": {
      "text/html": [
       "<div>\n",
       "<style scoped>\n",
       "    .dataframe tbody tr th:only-of-type {\n",
       "        vertical-align: middle;\n",
       "    }\n",
       "\n",
       "    .dataframe tbody tr th {\n",
       "        vertical-align: top;\n",
       "    }\n",
       "\n",
       "    .dataframe thead th {\n",
       "        text-align: right;\n",
       "    }\n",
       "</style>\n",
       "<table border=\"1\" class=\"dataframe\">\n",
       "  <thead>\n",
       "    <tr style=\"text-align: right;\">\n",
       "      <th></th>\n",
       "      <th>section</th>\n",
       "      <th>news_id</th>\n",
       "      <th>title</th>\n",
       "      <th>dateline</th>\n",
       "      <th>provider_link_page</th>\n",
       "    </tr>\n",
       "  </thead>\n",
       "  <tbody>\n",
       "    <tr>\n",
       "      <th>0</th>\n",
       "      <td>web developer</td>\n",
       "      <td>1400201.202</td>\n",
       "      <td>예산군 '기록관' 전국 자치단체 롤-모델 부각</td>\n",
       "      <td>2020-09-10T11:27:44.000+09:00</td>\n",
       "      <td>http://www.daejonilbo.com/news/newsitem.asp?pk...</td>\n",
       "    </tr>\n",
       "    <tr>\n",
       "      <th>1</th>\n",
       "      <td>web developer</td>\n",
       "      <td>1400601.202</td>\n",
       "      <td>'건강한 일터 자가진단 모형' 개발</td>\n",
       "      <td>2020-09-10T21:19:32.000+09:00</td>\n",
       "      <td>http://www.ccdailynews.com/news/articleView.ht...</td>\n",
       "    </tr>\n",
       "    <tr>\n",
       "      <th>2</th>\n",
       "      <td>web developer</td>\n",
       "      <td>8100201.202</td>\n",
       "      <td>신천지·발레학원이 지식산업?…이상한 '지식산업센터'</td>\n",
       "      <td>2020-09-10T20:55:57.000+09:00</td>\n",
       "      <td>https://imnews.imbc.com/replay/2020/nwdesk/art...</td>\n",
       "    </tr>\n",
       "    <tr>\n",
       "      <th>3</th>\n",
       "      <td>web developer</td>\n",
       "      <td>1601001.202</td>\n",
       "      <td>산림조합 전북본부 2020 벌초도우미서비스 실시</td>\n",
       "      <td>2020-09-10T20:11:08.000+09:00</td>\n",
       "      <td>http://www.domin.co.kr/news/articleView.html?i...</td>\n",
       "    </tr>\n",
       "    <tr>\n",
       "      <th>4</th>\n",
       "      <td>web developer</td>\n",
       "      <td>7101201.202</td>\n",
       "      <td>올해의 천문연구원에 안영숙 박사</td>\n",
       "      <td>2020-09-10T18:59:11.000+09:00</td>\n",
       "      <td>http://www.dt.co.kr/contents.html?article_no=2...</td>\n",
       "    </tr>\n",
       "  </tbody>\n",
       "</table>\n",
       "</div>"
      ],
      "text/plain": [
       "         section      news_id                         title  \\\n",
       "0  web developer  1400201.202     예산군 '기록관' 전국 자치단체 롤-모델 부각   \n",
       "1  web developer  1400601.202           '건강한 일터 자가진단 모형' 개발   \n",
       "2  web developer  8100201.202  신천지·발레학원이 지식산업?…이상한 '지식산업센터'   \n",
       "3  web developer  1601001.202    산림조합 전북본부 2020 벌초도우미서비스 실시   \n",
       "4  web developer  7101201.202             올해의 천문연구원에 안영숙 박사   \n",
       "\n",
       "                        dateline  \\\n",
       "0  2020-09-10T11:27:44.000+09:00   \n",
       "1  2020-09-10T21:19:32.000+09:00   \n",
       "2  2020-09-10T20:55:57.000+09:00   \n",
       "3  2020-09-10T20:11:08.000+09:00   \n",
       "4  2020-09-10T18:59:11.000+09:00   \n",
       "\n",
       "                                  provider_link_page  \n",
       "0  http://www.daejonilbo.com/news/newsitem.asp?pk...  \n",
       "1  http://www.ccdailynews.com/news/articleView.ht...  \n",
       "2  https://imnews.imbc.com/replay/2020/nwdesk/art...  \n",
       "3  http://www.domin.co.kr/news/articleView.html?i...  \n",
       "4  http://www.dt.co.kr/contents.html?article_no=2...  "
      ]
     },
     "execution_count": 1,
     "metadata": {},
     "output_type": "execute_result"
    }
   ],
   "source": [
    "import pandas as pd\n",
    "import numpy as np\n",
    "\n",
    "news_data = pd.read_csv(\"computer_science.csv\")\n",
    "news_data.head(5)"
   ]
  },
  {
   "cell_type": "code",
   "execution_count": 3,
   "metadata": {},
   "outputs": [
    {
     "data": {
      "text/plain": [
       "68618"
      ]
     },
     "execution_count": 3,
     "metadata": {},
     "output_type": "execute_result"
    }
   ],
   "source": [
    "len(news_data)"
   ]
  },
  {
   "cell_type": "code",
   "execution_count": 2,
   "metadata": {},
   "outputs": [
    {
     "data": {
      "text/plain": [
       "array(['web developer', 'mobile developer', 'embedded developer',\n",
       "       'data developer', 'AI developer', 'SIS developer', 'SW developer'],\n",
       "      dtype=object)"
      ]
     },
     "execution_count": 2,
     "metadata": {},
     "output_type": "execute_result"
    }
   ],
   "source": [
    "news_data['section'].unique()"
   ]
  },
  {
   "cell_type": "markdown",
   "metadata": {},
   "source": [
    "### 데이터 전처리"
   ]
  },
  {
   "cell_type": "code",
   "execution_count": 3,
   "metadata": {},
   "outputs": [],
   "source": [
    "news_data['title'] = news_data['title'].str.replace(\"[^\\w | \\s]\", \"\")"
   ]
  },
  {
   "cell_type": "code",
   "execution_count": 5,
   "metadata": {},
   "outputs": [
    {
     "data": {
      "text/html": [
       "<div>\n",
       "<style scoped>\n",
       "    .dataframe tbody tr th:only-of-type {\n",
       "        vertical-align: middle;\n",
       "    }\n",
       "\n",
       "    .dataframe tbody tr th {\n",
       "        vertical-align: top;\n",
       "    }\n",
       "\n",
       "    .dataframe thead th {\n",
       "        text-align: right;\n",
       "    }\n",
       "</style>\n",
       "<table border=\"1\" class=\"dataframe\">\n",
       "  <thead>\n",
       "    <tr style=\"text-align: right;\">\n",
       "      <th></th>\n",
       "      <th>section</th>\n",
       "      <th>news_id</th>\n",
       "      <th>title</th>\n",
       "      <th>dateline</th>\n",
       "      <th>provider_link_page</th>\n",
       "    </tr>\n",
       "  </thead>\n",
       "  <tbody>\n",
       "    <tr>\n",
       "      <th>0</th>\n",
       "      <td>web developer</td>\n",
       "      <td>1400201.202</td>\n",
       "      <td>예산군 기록관 전국 자치단체 롤모델 부각</td>\n",
       "      <td>2020-09-10T11:27:44.000+09:00</td>\n",
       "      <td>http://www.daejonilbo.com/news/newsitem.asp?pk...</td>\n",
       "    </tr>\n",
       "    <tr>\n",
       "      <th>1</th>\n",
       "      <td>web developer</td>\n",
       "      <td>1400601.202</td>\n",
       "      <td>건강한 일터 자가진단 모형 개발</td>\n",
       "      <td>2020-09-10T21:19:32.000+09:00</td>\n",
       "      <td>http://www.ccdailynews.com/news/articleView.ht...</td>\n",
       "    </tr>\n",
       "    <tr>\n",
       "      <th>2</th>\n",
       "      <td>web developer</td>\n",
       "      <td>8100201.202</td>\n",
       "      <td>신천지발레학원이 지식산업이상한 지식산업센터</td>\n",
       "      <td>2020-09-10T20:55:57.000+09:00</td>\n",
       "      <td>https://imnews.imbc.com/replay/2020/nwdesk/art...</td>\n",
       "    </tr>\n",
       "    <tr>\n",
       "      <th>3</th>\n",
       "      <td>web developer</td>\n",
       "      <td>1601001.202</td>\n",
       "      <td>산림조합 전북본부 2020 벌초도우미서비스 실시</td>\n",
       "      <td>2020-09-10T20:11:08.000+09:00</td>\n",
       "      <td>http://www.domin.co.kr/news/articleView.html?i...</td>\n",
       "    </tr>\n",
       "    <tr>\n",
       "      <th>4</th>\n",
       "      <td>web developer</td>\n",
       "      <td>7101201.202</td>\n",
       "      <td>올해의 천문연구원에 안영숙 박사</td>\n",
       "      <td>2020-09-10T18:59:11.000+09:00</td>\n",
       "      <td>http://www.dt.co.kr/contents.html?article_no=2...</td>\n",
       "    </tr>\n",
       "  </tbody>\n",
       "</table>\n",
       "</div>"
      ],
      "text/plain": [
       "         section      news_id                       title  \\\n",
       "0  web developer  1400201.202      예산군 기록관 전국 자치단체 롤모델 부각   \n",
       "1  web developer  1400601.202           건강한 일터 자가진단 모형 개발   \n",
       "2  web developer  8100201.202     신천지발레학원이 지식산업이상한 지식산업센터   \n",
       "3  web developer  1601001.202  산림조합 전북본부 2020 벌초도우미서비스 실시   \n",
       "4  web developer  7101201.202           올해의 천문연구원에 안영숙 박사   \n",
       "\n",
       "                        dateline  \\\n",
       "0  2020-09-10T11:27:44.000+09:00   \n",
       "1  2020-09-10T21:19:32.000+09:00   \n",
       "2  2020-09-10T20:55:57.000+09:00   \n",
       "3  2020-09-10T20:11:08.000+09:00   \n",
       "4  2020-09-10T18:59:11.000+09:00   \n",
       "\n",
       "                                  provider_link_page  \n",
       "0  http://www.daejonilbo.com/news/newsitem.asp?pk...  \n",
       "1  http://www.ccdailynews.com/news/articleView.ht...  \n",
       "2  https://imnews.imbc.com/replay/2020/nwdesk/art...  \n",
       "3  http://www.domin.co.kr/news/articleView.html?i...  \n",
       "4  http://www.dt.co.kr/contents.html?article_no=2...  "
      ]
     },
     "execution_count": 5,
     "metadata": {},
     "output_type": "execute_result"
    }
   ],
   "source": [
    "news_data.head(5)"
   ]
  },
  {
   "cell_type": "markdown",
   "metadata": {},
   "source": [
    "### WPM (WordPiece Model) tokenizaton"
   ]
  },
  {
   "cell_type": "code",
   "execution_count": 6,
   "metadata": {},
   "outputs": [],
   "source": [
    "import tensorflow_datasets as tfds\n",
    "\n",
    "tokenizer = tfds.features.text.SubwordTextEncoder.build_from_corpus(\n",
    "    news_data['title'], target_vocab_size=2**13)"
   ]
  },
  {
   "cell_type": "code",
   "execution_count": 7,
   "metadata": {},
   "outputs": [
    {
     "name": "stdout",
     "output_type": "stream",
     "text": [
      "['에_', '의_', '도_', '로_', '한_', '는_', '이_', '은_', '다', '이', '서_', '으로_', '과_', '와_', '코로나_', '가_', '출시', '지', '서비스_', '원_', 'AI_', '리', '수', '고_', '고', '을_', '대', '대_', '코로나19_', '기_', '전', '사업_', '자_', '시장_', '등_', '자', '정', '시', '사', '아', '어', '일', '원', '기', '스', '디지털_', '비', '성', '기업_', '부', '장', '인', '온라인_', '나', '유', '가', '도', '시스템_', '주', '미', '개최', '조', '로', '재', '한', '지원', '플랫폼_', '상', '클라우드_', '선정', '비대면_', '기술_', '세', '오', '소', '하는_', '라', '신', '스_', '까지_', '장_', '시대_', '첫_', '서', '동', '것', '수_', '보', '트', '한다', '화', '명', '무', '구축', '시_', '2020_', '구', '한국', '형_', '마']\n"
     ]
    }
   ],
   "source": [
    "print(tokenizer.subwords[:100])"
   ]
  },
  {
   "cell_type": "code",
   "execution_count": 9,
   "metadata": {},
   "outputs": [
    {
     "name": "stdout",
     "output_type": "stream",
     "text": [
      "Tokenized sample question: [1287, 301, 1178, 248, 293, 1899, 1970, 1968, 771, 50, 470]\n"
     ]
    }
   ],
   "source": [
    "print('Tokenized sample question: {}'.format(tokenizer.encode(news_data['title'][0])))"
   ]
  },
  {
   "cell_type": "code",
   "execution_count": 18,
   "metadata": {},
   "outputs": [
    {
     "data": {
      "text/plain": [
       "[1287, 301, 1178, 248, 293, 1899, 1970, 1968, 771, 50, 470]"
      ]
     },
     "execution_count": 18,
     "metadata": {},
     "output_type": "execute_result"
    }
   ],
   "source": [
    "tokenizer.encode(news_data['title'][0])"
   ]
  },
  {
   "cell_type": "code",
   "execution_count": 21,
   "metadata": {},
   "outputs": [
    {
     "name": "stderr",
     "output_type": "stream",
     "text": [
      "C:\\Users\\MyLaptop\\anaconda3\\lib\\site-packages\\ipykernel_launcher.py:2: SettingWithCopyWarning: \n",
      "A value is trying to be set on a copy of a slice from a DataFrame\n",
      "\n",
      "See the caveats in the documentation: https://pandas.pydata.org/pandas-docs/stable/user_guide/indexing.html#returning-a-view-versus-a-copy\n",
      "  \n"
     ]
    }
   ],
   "source": [
    "for idx in range(len(news_data)):\n",
    "    news_data['title'][idx] = [tokenizer.decode([num]) for num in tokenizer.encode(news_data['title'][idx])]"
   ]
  },
  {
   "cell_type": "code",
   "execution_count": 50,
   "metadata": {},
   "outputs": [
    {
     "data": {
      "text/html": [
       "<div>\n",
       "<style scoped>\n",
       "    .dataframe tbody tr th:only-of-type {\n",
       "        vertical-align: middle;\n",
       "    }\n",
       "\n",
       "    .dataframe tbody tr th {\n",
       "        vertical-align: top;\n",
       "    }\n",
       "\n",
       "    .dataframe thead th {\n",
       "        text-align: right;\n",
       "    }\n",
       "</style>\n",
       "<table border=\"1\" class=\"dataframe\">\n",
       "  <thead>\n",
       "    <tr style=\"text-align: right;\">\n",
       "      <th></th>\n",
       "      <th>section</th>\n",
       "      <th>news_id</th>\n",
       "      <th>title</th>\n",
       "      <th>dateline</th>\n",
       "      <th>provider_link_page</th>\n",
       "    </tr>\n",
       "  </thead>\n",
       "  <tbody>\n",
       "    <tr>\n",
       "      <th>0</th>\n",
       "      <td>web developer</td>\n",
       "      <td>1400201.202</td>\n",
       "      <td>[예산, 군 , 기록, 관 , 전국 , 자치, 단체 , 롤, 모델 , 부, 각]</td>\n",
       "      <td>2020-09-10T11:27:44.000+09:00</td>\n",
       "      <td>http://www.daejonilbo.com/news/newsitem.asp?pk...</td>\n",
       "    </tr>\n",
       "    <tr>\n",
       "      <th>1</th>\n",
       "      <td>web developer</td>\n",
       "      <td>1400601.202</td>\n",
       "      <td>[건강한 , 일, 터 , 자가진단 , 모, 형 , 개발]</td>\n",
       "      <td>2020-09-10T21:19:32.000+09:00</td>\n",
       "      <td>http://www.ccdailynews.com/news/articleView.ht...</td>\n",
       "    </tr>\n",
       "    <tr>\n",
       "      <th>2</th>\n",
       "      <td>web developer</td>\n",
       "      <td>8100201.202</td>\n",
       "      <td>[신, 천지, 발, 레, 학, 원, 이 , 지식, 산업, 이상, 한 , 지식산업센터]</td>\n",
       "      <td>2020-09-10T20:55:57.000+09:00</td>\n",
       "      <td>https://imnews.imbc.com/replay/2020/nwdesk/art...</td>\n",
       "    </tr>\n",
       "    <tr>\n",
       "      <th>3</th>\n",
       "      <td>web developer</td>\n",
       "      <td>1601001.202</td>\n",
       "      <td>[산림, 조합 , 전북, 본부 , 2020 , 벌초, 도, 우, 미, 서비스 , 실시]</td>\n",
       "      <td>2020-09-10T20:11:08.000+09:00</td>\n",
       "      <td>http://www.domin.co.kr/news/articleView.html?i...</td>\n",
       "    </tr>\n",
       "    <tr>\n",
       "      <th>4</th>\n",
       "      <td>web developer</td>\n",
       "      <td>7101201.202</td>\n",
       "      <td>[올해의 , 천, 문, 연구원, 에 , 안, 영, 숙 , 박사]</td>\n",
       "      <td>2020-09-10T18:59:11.000+09:00</td>\n",
       "      <td>http://www.dt.co.kr/contents.html?article_no=2...</td>\n",
       "    </tr>\n",
       "    <tr>\n",
       "      <th>5</th>\n",
       "      <td>web developer</td>\n",
       "      <td>7101201.202</td>\n",
       "      <td>[SW, 명, 장 , 창업, 에 , 도전, 하다 , 계약, 부터 , 고객, 관리, ...</td>\n",
       "      <td>2020-09-10T18:59:12.000+09:00</td>\n",
       "      <td>http://www.dt.co.kr/contents.html?article_no=2...</td>\n",
       "    </tr>\n",
       "  </tbody>\n",
       "</table>\n",
       "</div>"
      ],
      "text/plain": [
       "         section      news_id  \\\n",
       "0  web developer  1400201.202   \n",
       "1  web developer  1400601.202   \n",
       "2  web developer  8100201.202   \n",
       "3  web developer  1601001.202   \n",
       "4  web developer  7101201.202   \n",
       "5  web developer  7101201.202   \n",
       "\n",
       "                                               title  \\\n",
       "0       [예산, 군 , 기록, 관 , 전국 , 자치, 단체 , 롤, 모델 , 부, 각]   \n",
       "1                    [건강한 , 일, 터 , 자가진단 , 모, 형 , 개발]   \n",
       "2    [신, 천지, 발, 레, 학, 원, 이 , 지식, 산업, 이상, 한 , 지식산업센터]   \n",
       "3   [산림, 조합 , 전북, 본부 , 2020 , 벌초, 도, 우, 미, 서비스 , 실시]   \n",
       "4                [올해의 , 천, 문, 연구원, 에 , 안, 영, 숙 , 박사]   \n",
       "5  [SW, 명, 장 , 창업, 에 , 도전, 하다 , 계약, 부터 , 고객, 관리, ...   \n",
       "\n",
       "                        dateline  \\\n",
       "0  2020-09-10T11:27:44.000+09:00   \n",
       "1  2020-09-10T21:19:32.000+09:00   \n",
       "2  2020-09-10T20:55:57.000+09:00   \n",
       "3  2020-09-10T20:11:08.000+09:00   \n",
       "4  2020-09-10T18:59:11.000+09:00   \n",
       "5  2020-09-10T18:59:12.000+09:00   \n",
       "\n",
       "                                  provider_link_page  \n",
       "0  http://www.daejonilbo.com/news/newsitem.asp?pk...  \n",
       "1  http://www.ccdailynews.com/news/articleView.ht...  \n",
       "2  https://imnews.imbc.com/replay/2020/nwdesk/art...  \n",
       "3  http://www.domin.co.kr/news/articleView.html?i...  \n",
       "4  http://www.dt.co.kr/contents.html?article_no=2...  \n",
       "5  http://www.dt.co.kr/contents.html?article_no=2...  "
      ]
     },
     "execution_count": 50,
     "metadata": {},
     "output_type": "execute_result"
    }
   ],
   "source": [
    "news_data.head(6)"
   ]
  },
  {
   "cell_type": "code",
   "execution_count": 72,
   "metadata": {},
   "outputs": [
    {
     "data": {
      "text/plain": [
       "array([1400201.202, 1400601.202, 8100201.202, 1601001.202, 7101201.202,\n",
       "       7100501.202, 2100601.202, 2100201.202, 2100311.202, 2100851.202,\n",
       "       1101001.202, 2100801.202, 1400401.202, 1100501.202, 1100701.202,\n",
       "       1300201.202, 1400701.202, 1400351.202, 2100501.202, 1500701.202,\n",
       "       1400501.202, 1600501.202, 2100701.202, 1100611.202, 1100201.202,\n",
       "       8100401.202, 1500301.202, 1500401.202, 1500901.202, 1100901.202,\n",
       "       1100401.202, 1400551.202, 1500801.202, 1600301.202, 1300101.202,\n",
       "       1700101.202, 1200101.202, 1600201.202, 1700201.202, 1100101.202,\n",
       "       1600801.202, 1200201.202, 1500601.202, 1100301.202, 1500501.202,\n",
       "       1500151.202, 1601101.202, 1500051.202, 8100301.202, 8200101.202,\n",
       "       8100101.202])"
      ]
     },
     "execution_count": 72,
     "metadata": {},
     "output_type": "execute_result"
    }
   ],
   "source": [
    "news_data['news_id'].unique()"
   ]
  },
  {
   "cell_type": "markdown",
   "metadata": {},
   "source": [
    "### data preprocessing"
   ]
  },
  {
   "cell_type": "code",
   "execution_count": 81,
   "metadata": {},
   "outputs": [],
   "source": [
    "import gensim\n",
    "from gensim.models.doc2vec import Doc2Vec, TaggedDocument\n",
    "\n",
    "tagged_data = [TaggedDocument(words=[i.lower() for i in _d], \n",
    "                              tags=[idx]) for idx, _d in enumerate(news_data['title'])]"
   ]
  },
  {
   "cell_type": "code",
   "execution_count": 82,
   "metadata": {},
   "outputs": [
    {
     "data": {
      "text/plain": [
       "[TaggedDocument(words=['예산', '군 ', '기록', '관 ', '전국 ', '자치', '단체 ', '롤', '모델 ', '부', '각'], tags=[0]),\n",
       " TaggedDocument(words=['건강한 ', '일', '터 ', '자가진단 ', '모', '형 ', '개발'], tags=[1]),\n",
       " TaggedDocument(words=['신', '천지', '발', '레', '학', '원', '이 ', '지식', '산업', '이상', '한 ', '지식산업센터'], tags=[2]),\n",
       " TaggedDocument(words=['산림', '조합 ', '전북', '본부 ', '2020 ', '벌초', '도', '우', '미', '서비스 ', '실시'], tags=[3]),\n",
       " TaggedDocument(words=['올해의 ', '천', '문', '연구원', '에 ', '안', '영', '숙 ', '박사'], tags=[4])]"
      ]
     },
     "execution_count": 82,
     "metadata": {},
     "output_type": "execute_result"
    }
   ],
   "source": [
    "tagged_data[:5]"
   ]
  },
  {
   "cell_type": "code",
   "execution_count": 83,
   "metadata": {},
   "outputs": [
    {
     "data": {
      "text/plain": [
       "68618"
      ]
     },
     "execution_count": 83,
     "metadata": {},
     "output_type": "execute_result"
    }
   ],
   "source": [
    "len(tagged_data)"
   ]
  },
  {
   "cell_type": "markdown",
   "metadata": {},
   "source": [
    "### Model train"
   ]
  },
  {
   "cell_type": "code",
   "execution_count": 84,
   "metadata": {
    "scrolled": true
   },
   "outputs": [
    {
     "name": "stderr",
     "output_type": "stream",
     "text": [
      "C:\\Users\\MyLaptop\\anaconda3\\lib\\site-packages\\gensim\\models\\doc2vec.py:319: UserWarning: The parameter `size` is deprecated, will be removed in 4.0.0, use `vector_size` instead.\n",
      "  warnings.warn(\"The parameter `size` is deprecated, will be removed in 4.0.0, use `vector_size` instead.\")\n"
     ]
    },
    {
     "name": "stdout",
     "output_type": "stream",
     "text": [
      "iteration 0\n"
     ]
    },
    {
     "name": "stderr",
     "output_type": "stream",
     "text": [
      "C:\\Users\\MyLaptop\\anaconda3\\lib\\site-packages\\ipykernel_launcher.py:17: DeprecationWarning: Call to deprecated `iter` (Attribute will be removed in 4.0.0, use self.epochs instead).\n",
      "WARNING:gensim.models.base_any2vec:Effective 'alpha' higher than previous training cycles\n"
     ]
    },
    {
     "name": "stdout",
     "output_type": "stream",
     "text": [
      "iteration 1\n",
      "iteration 2\n",
      "iteration 3\n",
      "iteration 4\n",
      "iteration 5\n",
      "iteration 6\n",
      "iteration 7\n",
      "iteration 8\n",
      "iteration 9\n",
      "iteration 10\n",
      "iteration 11\n",
      "iteration 12\n",
      "iteration 13\n",
      "iteration 14\n",
      "iteration 15\n",
      "iteration 16\n",
      "iteration 17\n",
      "iteration 18\n",
      "iteration 19\n",
      "iteration 20\n",
      "iteration 21\n",
      "iteration 22\n",
      "iteration 23\n",
      "iteration 24\n",
      "iteration 25\n",
      "iteration 26\n",
      "iteration 27\n",
      "iteration 28\n",
      "iteration 29\n",
      "iteration 30\n",
      "iteration 31\n",
      "iteration 32\n",
      "iteration 33\n",
      "iteration 34\n",
      "iteration 35\n",
      "iteration 36\n",
      "iteration 37\n",
      "iteration 38\n",
      "iteration 39\n",
      "iteration 40\n",
      "iteration 41\n",
      "iteration 42\n",
      "iteration 43\n",
      "iteration 44\n",
      "iteration 45\n",
      "iteration 46\n",
      "iteration 47\n",
      "iteration 48\n",
      "iteration 49\n",
      "iteration 50\n",
      "iteration 51\n",
      "iteration 52\n",
      "iteration 53\n",
      "iteration 54\n",
      "iteration 55\n",
      "iteration 56\n",
      "iteration 57\n",
      "iteration 58\n",
      "iteration 59\n",
      "iteration 60\n",
      "iteration 61\n",
      "iteration 62\n",
      "iteration 63\n",
      "iteration 64\n",
      "iteration 65\n",
      "iteration 66\n",
      "iteration 67\n",
      "iteration 68\n",
      "iteration 69\n",
      "iteration 70\n",
      "iteration 71\n",
      "iteration 72\n",
      "iteration 73\n",
      "iteration 74\n",
      "iteration 75\n",
      "iteration 76\n",
      "iteration 77\n",
      "iteration 78\n",
      "iteration 79\n",
      "iteration 80\n",
      "iteration 81\n",
      "iteration 82\n",
      "iteration 83\n",
      "iteration 84\n",
      "iteration 85\n",
      "iteration 86\n",
      "iteration 87\n",
      "iteration 88\n",
      "iteration 89\n",
      "iteration 90\n",
      "iteration 91\n",
      "iteration 92\n",
      "iteration 93\n",
      "iteration 94\n",
      "iteration 95\n",
      "iteration 96\n",
      "iteration 97\n",
      "iteration 98\n",
      "iteration 99\n",
      "Model Saved\n"
     ]
    }
   ],
   "source": [
    "max_epochs = 100\n",
    "vec_size = 20\n",
    "alpha = 0.025\n",
    "\n",
    "d2v_model = Doc2Vec(size=vec_size,\n",
    "                alpha=alpha, \n",
    "                min_alpha=0.00025,\n",
    "                min_count=1,\n",
    "                dm =1)\n",
    "  \n",
    "d2v_model.build_vocab(tagged_data)\n",
    "\n",
    "for epoch in range(max_epochs):\n",
    "    print('iteration {0}'.format(epoch))\n",
    "    d2v_model.train(tagged_data,\n",
    "                total_examples=d2v_model.corpus_count,\n",
    "                epochs=d2v_model.iter)\n",
    "    # decrease the learning rate\n",
    "    d2v_model.alpha -= 0.0002\n",
    "    # fix the learning rate, no decay\n",
    "    d2v_model.min_alpha = d2v_model.alpha\n",
    "\n",
    "d2v_model.save(\"d2v.model\")\n",
    "print(\"Model Saved\")"
   ]
  },
  {
   "cell_type": "code",
   "execution_count": 91,
   "metadata": {
    "scrolled": true
   },
   "outputs": [
    {
     "data": {
      "text/plain": [
       "[]"
      ]
     },
     "execution_count": 91,
     "metadata": {},
     "output_type": "execute_result"
    }
   ],
   "source": [
    "# tags\n",
    "\n",
    "d2v_model.docvecs.offset2doctag"
   ]
  },
  {
   "cell_type": "code",
   "execution_count": 89,
   "metadata": {
    "scrolled": true
   },
   "outputs": [
    {
     "name": "stderr",
     "output_type": "stream",
     "text": [
      "C:\\Users\\MyLaptop\\anaconda3\\lib\\site-packages\\ipykernel_launcher.py:1: DeprecationWarning: Call to deprecated `doctag_syn0` (Attribute will be removed in 4.0.0, use docvecs.vectors_docs instead).\n",
      "  \"\"\"Entry point for launching an IPython kernel.\n"
     ]
    },
    {
     "data": {
      "text/plain": [
       "array([[ 0.62977177, -6.0020404 , -3.0430608 , ..., -5.310898  ,\n",
       "         0.26875967, -2.408109  ],\n",
       "       [ 1.7644455 ,  0.976511  , -1.3608624 , ...,  2.2232146 ,\n",
       "        -7.3721538 ,  4.118886  ],\n",
       "       [ 4.5147076 ,  2.2187421 , -2.5592365 , ..., -4.35489   ,\n",
       "         3.7881103 , -4.6801043 ],\n",
       "       ...,\n",
       "       [-2.3975663 , -1.0016649 ,  0.13753901, ...,  2.1369393 ,\n",
       "         4.0569606 ,  1.6593772 ],\n",
       "       [-2.9675379 ,  2.806499  , -5.6495695 , ...,  5.55664   ,\n",
       "         5.066531  ,  5.2266197 ],\n",
       "       [ 5.094768  ,  1.9410326 , -3.2910101 , ..., -4.487082  ,\n",
       "        -1.598795  , -1.1193295 ]], dtype=float32)"
      ]
     },
     "execution_count": 89,
     "metadata": {},
     "output_type": "execute_result"
    }
   ],
   "source": [
    "# vetors\n",
    "\n",
    "d2v_model.docvecs.doctag_syn0"
   ]
  },
  {
   "cell_type": "markdown",
   "metadata": {},
   "source": [
    "### title => vetor"
   ]
  },
  {
   "cell_type": "code",
   "execution_count": 92,
   "metadata": {},
   "outputs": [
    {
     "name": "stderr",
     "output_type": "stream",
     "text": [
      "C:\\Users\\MyLaptop\\anaconda3\\lib\\site-packages\\ipykernel_launcher.py:1: DeprecationWarning: Call to deprecated `doctag_syn0` (Attribute will be removed in 4.0.0, use docvecs.vectors_docs instead).\n",
      "  \"\"\"Entry point for launching an IPython kernel.\n",
      "C:\\Users\\MyLaptop\\anaconda3\\lib\\site-packages\\ipykernel_launcher.py:2: SettingWithCopyWarning: \n",
      "A value is trying to be set on a copy of a slice from a DataFrame\n",
      "\n",
      "See the caveats in the documentation: https://pandas.pydata.org/pandas-docs/stable/user_guide/indexing.html#returning-a-view-versus-a-copy\n",
      "  \n"
     ]
    }
   ],
   "source": [
    "for idx, v in enumerate(d2v_model.docvecs.doctag_syn0):\n",
    "    news_data['title'][idx] = v"
   ]
  },
  {
   "cell_type": "code",
   "execution_count": 93,
   "metadata": {
    "scrolled": true
   },
   "outputs": [
    {
     "data": {
      "text/html": [
       "<div>\n",
       "<style scoped>\n",
       "    .dataframe tbody tr th:only-of-type {\n",
       "        vertical-align: middle;\n",
       "    }\n",
       "\n",
       "    .dataframe tbody tr th {\n",
       "        vertical-align: top;\n",
       "    }\n",
       "\n",
       "    .dataframe thead th {\n",
       "        text-align: right;\n",
       "    }\n",
       "</style>\n",
       "<table border=\"1\" class=\"dataframe\">\n",
       "  <thead>\n",
       "    <tr style=\"text-align: right;\">\n",
       "      <th></th>\n",
       "      <th>section</th>\n",
       "      <th>news_id</th>\n",
       "      <th>title</th>\n",
       "      <th>dateline</th>\n",
       "      <th>provider_link_page</th>\n",
       "    </tr>\n",
       "  </thead>\n",
       "  <tbody>\n",
       "    <tr>\n",
       "      <th>0</th>\n",
       "      <td>web developer</td>\n",
       "      <td>1400201.202</td>\n",
       "      <td>[0.62977177, -6.0020404, -3.0430608, 7.746626,...</td>\n",
       "      <td>2020-09-10T11:27:44.000+09:00</td>\n",
       "      <td>http://www.daejonilbo.com/news/newsitem.asp?pk...</td>\n",
       "    </tr>\n",
       "    <tr>\n",
       "      <th>1</th>\n",
       "      <td>web developer</td>\n",
       "      <td>1400601.202</td>\n",
       "      <td>[1.7644455, 0.976511, -1.3608624, 1.514463, 0....</td>\n",
       "      <td>2020-09-10T21:19:32.000+09:00</td>\n",
       "      <td>http://www.ccdailynews.com/news/articleView.ht...</td>\n",
       "    </tr>\n",
       "    <tr>\n",
       "      <th>2</th>\n",
       "      <td>web developer</td>\n",
       "      <td>8100201.202</td>\n",
       "      <td>[4.5147076, 2.2187421, -2.5592365, 1.9661222, ...</td>\n",
       "      <td>2020-09-10T20:55:57.000+09:00</td>\n",
       "      <td>https://imnews.imbc.com/replay/2020/nwdesk/art...</td>\n",
       "    </tr>\n",
       "    <tr>\n",
       "      <th>3</th>\n",
       "      <td>web developer</td>\n",
       "      <td>1601001.202</td>\n",
       "      <td>[0.9904615, -0.093818046, 1.7925162, 0.8770222...</td>\n",
       "      <td>2020-09-10T20:11:08.000+09:00</td>\n",
       "      <td>http://www.domin.co.kr/news/articleView.html?i...</td>\n",
       "    </tr>\n",
       "    <tr>\n",
       "      <th>4</th>\n",
       "      <td>web developer</td>\n",
       "      <td>7101201.202</td>\n",
       "      <td>[0.09731135, 5.122567, 0.17382027, 1.8286847, ...</td>\n",
       "      <td>2020-09-10T18:59:11.000+09:00</td>\n",
       "      <td>http://www.dt.co.kr/contents.html?article_no=2...</td>\n",
       "    </tr>\n",
       "  </tbody>\n",
       "</table>\n",
       "</div>"
      ],
      "text/plain": [
       "         section      news_id  \\\n",
       "0  web developer  1400201.202   \n",
       "1  web developer  1400601.202   \n",
       "2  web developer  8100201.202   \n",
       "3  web developer  1601001.202   \n",
       "4  web developer  7101201.202   \n",
       "\n",
       "                                               title  \\\n",
       "0  [0.62977177, -6.0020404, -3.0430608, 7.746626,...   \n",
       "1  [1.7644455, 0.976511, -1.3608624, 1.514463, 0....   \n",
       "2  [4.5147076, 2.2187421, -2.5592365, 1.9661222, ...   \n",
       "3  [0.9904615, -0.093818046, 1.7925162, 0.8770222...   \n",
       "4  [0.09731135, 5.122567, 0.17382027, 1.8286847, ...   \n",
       "\n",
       "                        dateline  \\\n",
       "0  2020-09-10T11:27:44.000+09:00   \n",
       "1  2020-09-10T21:19:32.000+09:00   \n",
       "2  2020-09-10T20:55:57.000+09:00   \n",
       "3  2020-09-10T20:11:08.000+09:00   \n",
       "4  2020-09-10T18:59:11.000+09:00   \n",
       "\n",
       "                                  provider_link_page  \n",
       "0  http://www.daejonilbo.com/news/newsitem.asp?pk...  \n",
       "1  http://www.ccdailynews.com/news/articleView.ht...  \n",
       "2  https://imnews.imbc.com/replay/2020/nwdesk/art...  \n",
       "3  http://www.domin.co.kr/news/articleView.html?i...  \n",
       "4  http://www.dt.co.kr/contents.html?article_no=2...  "
      ]
     },
     "execution_count": 93,
     "metadata": {},
     "output_type": "execute_result"
    }
   ],
   "source": [
    "news_data.head(5)"
   ]
  },
  {
   "cell_type": "markdown",
   "metadata": {},
   "source": [
    "### section one_hot_vector"
   ]
  },
  {
   "cell_type": "code",
   "execution_count": 108,
   "metadata": {},
   "outputs": [
    {
     "data": {
      "text/plain": [
       "LabelEncoder()"
      ]
     },
     "execution_count": 108,
     "metadata": {},
     "output_type": "execute_result"
    }
   ],
   "source": [
    "from sklearn import preprocessing\n",
    "\n",
    "le = preprocessing.LabelEncoder()\n",
    "le.fit(news_data['section'])"
   ]
  },
  {
   "cell_type": "code",
   "execution_count": 109,
   "metadata": {},
   "outputs": [
    {
     "data": {
      "text/plain": [
       "['AI developer',\n",
       " 'SIS developer',\n",
       " 'SW developer',\n",
       " 'data developer',\n",
       " 'embedded developer',\n",
       " 'mobile developer',\n",
       " 'web developer']"
      ]
     },
     "execution_count": 109,
     "metadata": {},
     "output_type": "execute_result"
    }
   ],
   "source": [
    "list(le.classes_)"
   ]
  },
  {
   "cell_type": "code",
   "execution_count": 111,
   "metadata": {},
   "outputs": [],
   "source": [
    "news_data['section'] = le.transform(news_data['section'])"
   ]
  },
  {
   "cell_type": "code",
   "execution_count": 112,
   "metadata": {},
   "outputs": [
    {
     "data": {
      "text/html": [
       "<div>\n",
       "<style scoped>\n",
       "    .dataframe tbody tr th:only-of-type {\n",
       "        vertical-align: middle;\n",
       "    }\n",
       "\n",
       "    .dataframe tbody tr th {\n",
       "        vertical-align: top;\n",
       "    }\n",
       "\n",
       "    .dataframe thead th {\n",
       "        text-align: right;\n",
       "    }\n",
       "</style>\n",
       "<table border=\"1\" class=\"dataframe\">\n",
       "  <thead>\n",
       "    <tr style=\"text-align: right;\">\n",
       "      <th></th>\n",
       "      <th>section</th>\n",
       "      <th>news_id</th>\n",
       "      <th>title</th>\n",
       "      <th>dateline</th>\n",
       "      <th>provider_link_page</th>\n",
       "    </tr>\n",
       "  </thead>\n",
       "  <tbody>\n",
       "    <tr>\n",
       "      <th>0</th>\n",
       "      <td>6</td>\n",
       "      <td>1400201.202</td>\n",
       "      <td>[0.62977177, -6.0020404, -3.0430608, 7.746626,...</td>\n",
       "      <td>2020-09-10T11:27:44.000+09:00</td>\n",
       "      <td>http://www.daejonilbo.com/news/newsitem.asp?pk...</td>\n",
       "    </tr>\n",
       "    <tr>\n",
       "      <th>1</th>\n",
       "      <td>6</td>\n",
       "      <td>1400601.202</td>\n",
       "      <td>[1.7644455, 0.976511, -1.3608624, 1.514463, 0....</td>\n",
       "      <td>2020-09-10T21:19:32.000+09:00</td>\n",
       "      <td>http://www.ccdailynews.com/news/articleView.ht...</td>\n",
       "    </tr>\n",
       "    <tr>\n",
       "      <th>2</th>\n",
       "      <td>6</td>\n",
       "      <td>8100201.202</td>\n",
       "      <td>[4.5147076, 2.2187421, -2.5592365, 1.9661222, ...</td>\n",
       "      <td>2020-09-10T20:55:57.000+09:00</td>\n",
       "      <td>https://imnews.imbc.com/replay/2020/nwdesk/art...</td>\n",
       "    </tr>\n",
       "    <tr>\n",
       "      <th>3</th>\n",
       "      <td>6</td>\n",
       "      <td>1601001.202</td>\n",
       "      <td>[0.9904615, -0.093818046, 1.7925162, 0.8770222...</td>\n",
       "      <td>2020-09-10T20:11:08.000+09:00</td>\n",
       "      <td>http://www.domin.co.kr/news/articleView.html?i...</td>\n",
       "    </tr>\n",
       "    <tr>\n",
       "      <th>4</th>\n",
       "      <td>6</td>\n",
       "      <td>7101201.202</td>\n",
       "      <td>[0.09731135, 5.122567, 0.17382027, 1.8286847, ...</td>\n",
       "      <td>2020-09-10T18:59:11.000+09:00</td>\n",
       "      <td>http://www.dt.co.kr/contents.html?article_no=2...</td>\n",
       "    </tr>\n",
       "  </tbody>\n",
       "</table>\n",
       "</div>"
      ],
      "text/plain": [
       "   section      news_id                                              title  \\\n",
       "0        6  1400201.202  [0.62977177, -6.0020404, -3.0430608, 7.746626,...   \n",
       "1        6  1400601.202  [1.7644455, 0.976511, -1.3608624, 1.514463, 0....   \n",
       "2        6  8100201.202  [4.5147076, 2.2187421, -2.5592365, 1.9661222, ...   \n",
       "3        6  1601001.202  [0.9904615, -0.093818046, 1.7925162, 0.8770222...   \n",
       "4        6  7101201.202  [0.09731135, 5.122567, 0.17382027, 1.8286847, ...   \n",
       "\n",
       "                        dateline  \\\n",
       "0  2020-09-10T11:27:44.000+09:00   \n",
       "1  2020-09-10T21:19:32.000+09:00   \n",
       "2  2020-09-10T20:55:57.000+09:00   \n",
       "3  2020-09-10T20:11:08.000+09:00   \n",
       "4  2020-09-10T18:59:11.000+09:00   \n",
       "\n",
       "                                  provider_link_page  \n",
       "0  http://www.daejonilbo.com/news/newsitem.asp?pk...  \n",
       "1  http://www.ccdailynews.com/news/articleView.ht...  \n",
       "2  https://imnews.imbc.com/replay/2020/nwdesk/art...  \n",
       "3  http://www.domin.co.kr/news/articleView.html?i...  \n",
       "4  http://www.dt.co.kr/contents.html?article_no=2...  "
      ]
     },
     "execution_count": 112,
     "metadata": {},
     "output_type": "execute_result"
    }
   ],
   "source": [
    "news_data.head(5)"
   ]
  },
  {
   "cell_type": "code",
   "execution_count": 113,
   "metadata": {
    "scrolled": true
   },
   "outputs": [
    {
     "data": {
      "text/html": [
       "<div>\n",
       "<style scoped>\n",
       "    .dataframe tbody tr th:only-of-type {\n",
       "        vertical-align: middle;\n",
       "    }\n",
       "\n",
       "    .dataframe tbody tr th {\n",
       "        vertical-align: top;\n",
       "    }\n",
       "\n",
       "    .dataframe thead th {\n",
       "        text-align: right;\n",
       "    }\n",
       "</style>\n",
       "<table border=\"1\" class=\"dataframe\">\n",
       "  <thead>\n",
       "    <tr style=\"text-align: right;\">\n",
       "      <th></th>\n",
       "      <th>section</th>\n",
       "      <th>news_id</th>\n",
       "      <th>title</th>\n",
       "      <th>dateline</th>\n",
       "      <th>provider_link_page</th>\n",
       "    </tr>\n",
       "  </thead>\n",
       "  <tbody>\n",
       "    <tr>\n",
       "      <th>68613</th>\n",
       "      <td>2</td>\n",
       "      <td>7101201.202</td>\n",
       "      <td>[-0.91330165, -1.7853624, -5.9192033, 2.767834...</td>\n",
       "      <td>2020-08-26T15:20:03.000+09:00</td>\n",
       "      <td>http://www.dt.co.kr/contents.html?article_no=2...</td>\n",
       "    </tr>\n",
       "    <tr>\n",
       "      <th>68614</th>\n",
       "      <td>2</td>\n",
       "      <td>1100701.202</td>\n",
       "      <td>[5.983479, -4.434872, -4.701555, 1.8551528, -0...</td>\n",
       "      <td>2020-08-26T15:30:30.000+09:00</td>\n",
       "      <td>http://www.segye.com/content/html/2020/08/26/2...</td>\n",
       "    </tr>\n",
       "    <tr>\n",
       "      <th>68615</th>\n",
       "      <td>2</td>\n",
       "      <td>1100101.202</td>\n",
       "      <td>[-2.3975663, -1.0016649, 0.13753901, 4.9917946...</td>\n",
       "      <td>2020-08-26T15:30:13.000+09:00</td>\n",
       "      <td>http://news.khan.co.kr/kh_news/khan_art_view.h...</td>\n",
       "    </tr>\n",
       "    <tr>\n",
       "      <th>68616</th>\n",
       "      <td>2</td>\n",
       "      <td>1101001.202</td>\n",
       "      <td>[-2.9675379, 2.806499, -5.6495695, 2.1811996, ...</td>\n",
       "      <td>2020-08-26T15:48:52.000+09:00</td>\n",
       "      <td>http://www.hani.co.kr/arti/area/chungcheong/95...</td>\n",
       "    </tr>\n",
       "    <tr>\n",
       "      <th>68617</th>\n",
       "      <td>2</td>\n",
       "      <td>1100611.202</td>\n",
       "      <td>[5.094768, 1.9410326, -3.2910101, -5.011853, 0...</td>\n",
       "      <td>2020-08-26T15:22:55.000+09:00</td>\n",
       "      <td>http://www.seoul.co.kr/news/newsView.php?id=20...</td>\n",
       "    </tr>\n",
       "  </tbody>\n",
       "</table>\n",
       "</div>"
      ],
      "text/plain": [
       "       section      news_id  \\\n",
       "68613        2  7101201.202   \n",
       "68614        2  1100701.202   \n",
       "68615        2  1100101.202   \n",
       "68616        2  1101001.202   \n",
       "68617        2  1100611.202   \n",
       "\n",
       "                                                   title  \\\n",
       "68613  [-0.91330165, -1.7853624, -5.9192033, 2.767834...   \n",
       "68614  [5.983479, -4.434872, -4.701555, 1.8551528, -0...   \n",
       "68615  [-2.3975663, -1.0016649, 0.13753901, 4.9917946...   \n",
       "68616  [-2.9675379, 2.806499, -5.6495695, 2.1811996, ...   \n",
       "68617  [5.094768, 1.9410326, -3.2910101, -5.011853, 0...   \n",
       "\n",
       "                            dateline  \\\n",
       "68613  2020-08-26T15:20:03.000+09:00   \n",
       "68614  2020-08-26T15:30:30.000+09:00   \n",
       "68615  2020-08-26T15:30:13.000+09:00   \n",
       "68616  2020-08-26T15:48:52.000+09:00   \n",
       "68617  2020-08-26T15:22:55.000+09:00   \n",
       "\n",
       "                                      provider_link_page  \n",
       "68613  http://www.dt.co.kr/contents.html?article_no=2...  \n",
       "68614  http://www.segye.com/content/html/2020/08/26/2...  \n",
       "68615  http://news.khan.co.kr/kh_news/khan_art_view.h...  \n",
       "68616  http://www.hani.co.kr/arti/area/chungcheong/95...  \n",
       "68617  http://www.seoul.co.kr/news/newsView.php?id=20...  "
      ]
     },
     "execution_count": 113,
     "metadata": {},
     "output_type": "execute_result"
    }
   ],
   "source": [
    "news_data.tail(5)"
   ]
  },
  {
   "cell_type": "code",
   "execution_count": null,
   "metadata": {},
   "outputs": [],
   "source": [
    "# list(le.inverse_transform())"
   ]
  },
  {
   "cell_type": "markdown",
   "metadata": {},
   "source": [
    "### train_test_split"
   ]
  },
  {
   "cell_type": "code",
   "execution_count": 298,
   "metadata": {},
   "outputs": [
    {
     "data": {
      "text/plain": [
       "((51463,), (17155,), (51463,), (17155,))"
      ]
     },
     "execution_count": 298,
     "metadata": {},
     "output_type": "execute_result"
    }
   ],
   "source": [
    "from sklearn.model_selection import train_test_split\n",
    "\n",
    "X_train, X_test, y_train, y_test = train_test_split(news_data['title'], news_data['section'], shuffle=True, random_state=42)\n",
    "X_train.shape, X_test.shape, y_train.shape, y_test.shape"
   ]
  },
  {
   "cell_type": "code",
   "execution_count": 299,
   "metadata": {
    "scrolled": true
   },
   "outputs": [],
   "source": [
    "X_train = np.asarray(X_train)\n",
    "y_train = np.asarray(y_train)\n",
    "\n",
    "X_test = np.asarray(X_test)\n",
    "y_test = np.asarray(y_test)"
   ]
  },
  {
   "cell_type": "code",
   "execution_count": 270,
   "metadata": {},
   "outputs": [
    {
     "data": {
      "text/plain": [
       "((51463, 1), (17155, 1), (51463,), (17155,))"
      ]
     },
     "execution_count": 270,
     "metadata": {},
     "output_type": "execute_result"
    }
   ],
   "source": [
    "X_train.shape, X_test.shape, y_train.shape, y_test.shape"
   ]
  },
  {
   "cell_type": "code",
   "execution_count": 300,
   "metadata": {},
   "outputs": [
    {
     "data": {
      "text/plain": [
       "(51463,)"
      ]
     },
     "execution_count": 300,
     "metadata": {},
     "output_type": "execute_result"
    }
   ],
   "source": [
    "X_train.shape"
   ]
  },
  {
   "cell_type": "code",
   "execution_count": null,
   "metadata": {},
   "outputs": [],
   "source": [
    "X_train.reshape()"
   ]
  },
  {
   "cell_type": "markdown",
   "metadata": {},
   "source": [
    "### CNN"
   ]
  },
  {
   "cell_type": "code",
   "execution_count": 297,
   "metadata": {
    "scrolled": false
   },
   "outputs": [
    {
     "name": "stdout",
     "output_type": "stream",
     "text": [
      "WARNING:tensorflow:Falling back from v2 loop because of error: Failed to find data adapter that can handle input: <class 'pandas.core.series.Series'>, <class 'NoneType'>\n"
     ]
    },
    {
     "name": "stderr",
     "output_type": "stream",
     "text": [
      "WARNING:tensorflow:Falling back from v2 loop because of error: Failed to find data adapter that can handle input: <class 'pandas.core.series.Series'>, <class 'NoneType'>\n"
     ]
    },
    {
     "ename": "ValueError",
     "evalue": "Error when checking input: expected conv1d_31_input to have 3 dimensions, but got array with shape (51463, 1)",
     "output_type": "error",
     "traceback": [
      "\u001b[1;31m---------------------------------------------------------------------------\u001b[0m",
      "\u001b[1;31mValueError\u001b[0m                                Traceback (most recent call last)",
      "\u001b[1;32m<ipython-input-297-d443a9cadf97>\u001b[0m in \u001b[0;36m<module>\u001b[1;34m\u001b[0m\n\u001b[0;32m      9\u001b[0m \u001b[1;33m\u001b[0m\u001b[0m\n\u001b[0;32m     10\u001b[0m \u001b[0mmodel\u001b[0m\u001b[1;33m.\u001b[0m\u001b[0mcompile\u001b[0m\u001b[1;33m(\u001b[0m\u001b[0mloss\u001b[0m\u001b[1;33m=\u001b[0m\u001b[1;34m'sparse_categorical_crossentropy'\u001b[0m\u001b[1;33m,\u001b[0m \u001b[0moptimizer\u001b[0m\u001b[1;33m=\u001b[0m\u001b[1;34m'adam'\u001b[0m\u001b[1;33m,\u001b[0m \u001b[0mmetrix\u001b[0m\u001b[1;33m=\u001b[0m\u001b[1;33m[\u001b[0m\u001b[1;34m'acc'\u001b[0m\u001b[1;33m]\u001b[0m\u001b[1;33m)\u001b[0m\u001b[1;33m\u001b[0m\u001b[1;33m\u001b[0m\u001b[0m\n\u001b[1;32m---> 11\u001b[1;33m \u001b[0mmodel\u001b[0m\u001b[1;33m.\u001b[0m\u001b[0mfit\u001b[0m\u001b[1;33m(\u001b[0m\u001b[0mX_train\u001b[0m\u001b[1;33m,\u001b[0m \u001b[0my_train\u001b[0m\u001b[1;33m,\u001b[0m \u001b[0mvalidation_data\u001b[0m\u001b[1;33m=\u001b[0m\u001b[1;33m(\u001b[0m\u001b[0mX_test\u001b[0m\u001b[1;33m,\u001b[0m \u001b[0my_test\u001b[0m\u001b[1;33m)\u001b[0m\u001b[1;33m,\u001b[0m \u001b[0mepochs\u001b[0m\u001b[1;33m=\u001b[0m\u001b[1;36m100\u001b[0m\u001b[1;33m,\u001b[0m \u001b[0mbatch_size\u001b[0m\u001b[1;33m=\u001b[0m\u001b[1;36m32\u001b[0m\u001b[1;33m)\u001b[0m\u001b[1;33m\u001b[0m\u001b[1;33m\u001b[0m\u001b[0m\n\u001b[0m",
      "\u001b[1;32m~\\anaconda3\\lib\\site-packages\\tensorflow_core\\python\\keras\\engine\\training.py\u001b[0m in \u001b[0;36mfit\u001b[1;34m(self, x, y, batch_size, epochs, verbose, callbacks, validation_split, validation_data, shuffle, class_weight, sample_weight, initial_epoch, steps_per_epoch, validation_steps, validation_freq, max_queue_size, workers, use_multiprocessing, **kwargs)\u001b[0m\n\u001b[0;32m    726\u001b[0m         \u001b[0mmax_queue_size\u001b[0m\u001b[1;33m=\u001b[0m\u001b[0mmax_queue_size\u001b[0m\u001b[1;33m,\u001b[0m\u001b[1;33m\u001b[0m\u001b[1;33m\u001b[0m\u001b[0m\n\u001b[0;32m    727\u001b[0m         \u001b[0mworkers\u001b[0m\u001b[1;33m=\u001b[0m\u001b[0mworkers\u001b[0m\u001b[1;33m,\u001b[0m\u001b[1;33m\u001b[0m\u001b[1;33m\u001b[0m\u001b[0m\n\u001b[1;32m--> 728\u001b[1;33m         use_multiprocessing=use_multiprocessing)\n\u001b[0m\u001b[0;32m    729\u001b[0m \u001b[1;33m\u001b[0m\u001b[0m\n\u001b[0;32m    730\u001b[0m   def evaluate(self,\n",
      "\u001b[1;32m~\\anaconda3\\lib\\site-packages\\tensorflow_core\\python\\keras\\engine\\training_arrays.py\u001b[0m in \u001b[0;36mfit\u001b[1;34m(self, model, x, y, batch_size, epochs, verbose, callbacks, validation_split, validation_data, shuffle, class_weight, sample_weight, initial_epoch, steps_per_epoch, validation_steps, validation_freq, **kwargs)\u001b[0m\n\u001b[0;32m    640\u001b[0m         \u001b[0msteps\u001b[0m\u001b[1;33m=\u001b[0m\u001b[0msteps_per_epoch\u001b[0m\u001b[1;33m,\u001b[0m\u001b[1;33m\u001b[0m\u001b[1;33m\u001b[0m\u001b[0m\n\u001b[0;32m    641\u001b[0m         \u001b[0mvalidation_split\u001b[0m\u001b[1;33m=\u001b[0m\u001b[0mvalidation_split\u001b[0m\u001b[1;33m,\u001b[0m\u001b[1;33m\u001b[0m\u001b[1;33m\u001b[0m\u001b[0m\n\u001b[1;32m--> 642\u001b[1;33m         shuffle=shuffle)\n\u001b[0m\u001b[0;32m    643\u001b[0m \u001b[1;33m\u001b[0m\u001b[0m\n\u001b[0;32m    644\u001b[0m     \u001b[1;32mif\u001b[0m \u001b[0mvalidation_data\u001b[0m\u001b[1;33m:\u001b[0m\u001b[1;33m\u001b[0m\u001b[1;33m\u001b[0m\u001b[0m\n",
      "\u001b[1;32m~\\anaconda3\\lib\\site-packages\\tensorflow_core\\python\\keras\\engine\\training.py\u001b[0m in \u001b[0;36m_standardize_user_data\u001b[1;34m(self, x, y, sample_weight, class_weight, batch_size, check_steps, steps_name, steps, validation_split, shuffle, extract_tensors_from_dataset)\u001b[0m\n\u001b[0;32m   2470\u001b[0m           \u001b[0mfeed_input_shapes\u001b[0m\u001b[1;33m,\u001b[0m\u001b[1;33m\u001b[0m\u001b[1;33m\u001b[0m\u001b[0m\n\u001b[0;32m   2471\u001b[0m           \u001b[0mcheck_batch_axis\u001b[0m\u001b[1;33m=\u001b[0m\u001b[1;32mFalse\u001b[0m\u001b[1;33m,\u001b[0m  \u001b[1;31m# Don't enforce the batch size.\u001b[0m\u001b[1;33m\u001b[0m\u001b[1;33m\u001b[0m\u001b[0m\n\u001b[1;32m-> 2472\u001b[1;33m           exception_prefix='input')\n\u001b[0m\u001b[0;32m   2473\u001b[0m \u001b[1;33m\u001b[0m\u001b[0m\n\u001b[0;32m   2474\u001b[0m     \u001b[1;31m# Get typespecs for the input data and sanitize it if necessary.\u001b[0m\u001b[1;33m\u001b[0m\u001b[1;33m\u001b[0m\u001b[1;33m\u001b[0m\u001b[0m\n",
      "\u001b[1;32m~\\anaconda3\\lib\\site-packages\\tensorflow_core\\python\\keras\\engine\\training_utils.py\u001b[0m in \u001b[0;36mstandardize_input_data\u001b[1;34m(data, names, shapes, check_batch_axis, exception_prefix)\u001b[0m\n\u001b[0;32m    563\u001b[0m                            \u001b[1;34m': expected '\u001b[0m \u001b[1;33m+\u001b[0m \u001b[0mnames\u001b[0m\u001b[1;33m[\u001b[0m\u001b[0mi\u001b[0m\u001b[1;33m]\u001b[0m \u001b[1;33m+\u001b[0m \u001b[1;34m' to have '\u001b[0m \u001b[1;33m+\u001b[0m\u001b[1;33m\u001b[0m\u001b[1;33m\u001b[0m\u001b[0m\n\u001b[0;32m    564\u001b[0m                            \u001b[0mstr\u001b[0m\u001b[1;33m(\u001b[0m\u001b[0mlen\u001b[0m\u001b[1;33m(\u001b[0m\u001b[0mshape\u001b[0m\u001b[1;33m)\u001b[0m\u001b[1;33m)\u001b[0m \u001b[1;33m+\u001b[0m \u001b[1;34m' dimensions, but got array '\u001b[0m\u001b[1;33m\u001b[0m\u001b[1;33m\u001b[0m\u001b[0m\n\u001b[1;32m--> 565\u001b[1;33m                            'with shape ' + str(data_shape))\n\u001b[0m\u001b[0;32m    566\u001b[0m         \u001b[1;32mif\u001b[0m \u001b[1;32mnot\u001b[0m \u001b[0mcheck_batch_axis\u001b[0m\u001b[1;33m:\u001b[0m\u001b[1;33m\u001b[0m\u001b[1;33m\u001b[0m\u001b[0m\n\u001b[0;32m    567\u001b[0m           \u001b[0mdata_shape\u001b[0m \u001b[1;33m=\u001b[0m \u001b[0mdata_shape\u001b[0m\u001b[1;33m[\u001b[0m\u001b[1;36m1\u001b[0m\u001b[1;33m:\u001b[0m\u001b[1;33m]\u001b[0m\u001b[1;33m\u001b[0m\u001b[1;33m\u001b[0m\u001b[0m\n",
      "\u001b[1;31mValueError\u001b[0m: Error when checking input: expected conv1d_31_input to have 3 dimensions, but got array with shape (51463, 1)"
     ]
    }
   ],
   "source": [
    "from tensorflow.keras.models import Sequential\n",
    "from tensorflow.keras.layers import Dense, Embedding, Conv1D, GlobalMaxPooling1D, Flatten\n",
    "\n",
    "model = Sequential()\n",
    "model.add(Conv1D(256, 3, padding='valid', activation='relu', input_shape=))\n",
    "model.add(GlobalMaxPooling1D())\n",
    "model.add(Flatten())\n",
    "model.add(Dense(7, activation='softmax'))\n",
    "\n",
    "model.compile(loss='sparse_categorical_crossentropy', optimizer='adam', metrix=['acc'])\n",
    "model.fit(X_train, y_train, validation_data=(X_test, y_test), epochs=100, batch_size=32)"
   ]
  },
  {
   "cell_type": "code",
   "execution_count": null,
   "metadata": {},
   "outputs": [],
   "source": []
  }
 ],
 "metadata": {
  "kernelspec": {
   "display_name": "Python 3",
   "language": "python",
   "name": "python3"
  },
  "language_info": {
   "codemirror_mode": {
    "name": "ipython",
    "version": 3
   },
   "file_extension": ".py",
   "mimetype": "text/x-python",
   "name": "python",
   "nbconvert_exporter": "python",
   "pygments_lexer": "ipython3",
   "version": "3.7.6"
  }
 },
 "nbformat": 4,
 "nbformat_minor": 4
}

{
 "cells": [
  {
   "cell_type": "markdown",
   "metadata": {},
   "source": [
    "### data load"
   ]
  },
  {
   "cell_type": "code",
   "execution_count": 2,
   "metadata": {
    "scrolled": true
   },
   "outputs": [
    {
     "data": {
      "text/html": [
       "<div>\n",
       "<style scoped>\n",
       "    .dataframe tbody tr th:only-of-type {\n",
       "        vertical-align: middle;\n",
       "    }\n",
       "\n",
       "    .dataframe tbody tr th {\n",
       "        vertical-align: top;\n",
       "    }\n",
       "\n",
       "    .dataframe thead th {\n",
       "        text-align: right;\n",
       "    }\n",
       "</style>\n",
       "<table border=\"1\" class=\"dataframe\">\n",
       "  <thead>\n",
       "    <tr style=\"text-align: right;\">\n",
       "      <th></th>\n",
       "      <th>section</th>\n",
       "      <th>news_id</th>\n",
       "      <th>title</th>\n",
       "      <th>dateline</th>\n",
       "      <th>provider_link_page</th>\n",
       "    </tr>\n",
       "  </thead>\n",
       "  <tbody>\n",
       "    <tr>\n",
       "      <th>0</th>\n",
       "      <td>web developer</td>\n",
       "      <td>1400201.202</td>\n",
       "      <td>예산군 '기록관' 전국 자치단체 롤-모델 부각</td>\n",
       "      <td>2020-09-10T11:27:44.000+09:00</td>\n",
       "      <td>http://www.daejonilbo.com/news/newsitem.asp?pk...</td>\n",
       "    </tr>\n",
       "    <tr>\n",
       "      <th>1</th>\n",
       "      <td>web developer</td>\n",
       "      <td>1400601.202</td>\n",
       "      <td>'건강한 일터 자가진단 모형' 개발</td>\n",
       "      <td>2020-09-10T21:19:32.000+09:00</td>\n",
       "      <td>http://www.ccdailynews.com/news/articleView.ht...</td>\n",
       "    </tr>\n",
       "    <tr>\n",
       "      <th>2</th>\n",
       "      <td>web developer</td>\n",
       "      <td>8100201.202</td>\n",
       "      <td>신천지·발레학원이 지식산업?…이상한 '지식산업센터'</td>\n",
       "      <td>2020-09-10T20:55:57.000+09:00</td>\n",
       "      <td>https://imnews.imbc.com/replay/2020/nwdesk/art...</td>\n",
       "    </tr>\n",
       "    <tr>\n",
       "      <th>3</th>\n",
       "      <td>web developer</td>\n",
       "      <td>1601001.202</td>\n",
       "      <td>산림조합 전북본부 2020 벌초도우미서비스 실시</td>\n",
       "      <td>2020-09-10T20:11:08.000+09:00</td>\n",
       "      <td>http://www.domin.co.kr/news/articleView.html?i...</td>\n",
       "    </tr>\n",
       "    <tr>\n",
       "      <th>4</th>\n",
       "      <td>web developer</td>\n",
       "      <td>7101201.202</td>\n",
       "      <td>올해의 천문연구원에 안영숙 박사</td>\n",
       "      <td>2020-09-10T18:59:11.000+09:00</td>\n",
       "      <td>http://www.dt.co.kr/contents.html?article_no=2...</td>\n",
       "    </tr>\n",
       "  </tbody>\n",
       "</table>\n",
       "</div>"
      ],
      "text/plain": [
       "         section      news_id                         title  \\\n",
       "0  web developer  1400201.202     예산군 '기록관' 전국 자치단체 롤-모델 부각   \n",
       "1  web developer  1400601.202           '건강한 일터 자가진단 모형' 개발   \n",
       "2  web developer  8100201.202  신천지·발레학원이 지식산업?…이상한 '지식산업센터'   \n",
       "3  web developer  1601001.202    산림조합 전북본부 2020 벌초도우미서비스 실시   \n",
       "4  web developer  7101201.202             올해의 천문연구원에 안영숙 박사   \n",
       "\n",
       "                        dateline  \\\n",
       "0  2020-09-10T11:27:44.000+09:00   \n",
       "1  2020-09-10T21:19:32.000+09:00   \n",
       "2  2020-09-10T20:55:57.000+09:00   \n",
       "3  2020-09-10T20:11:08.000+09:00   \n",
       "4  2020-09-10T18:59:11.000+09:00   \n",
       "\n",
       "                                  provider_link_page  \n",
       "0  http://www.daejonilbo.com/news/newsitem.asp?pk...  \n",
       "1  http://www.ccdailynews.com/news/articleView.ht...  \n",
       "2  https://imnews.imbc.com/replay/2020/nwdesk/art...  \n",
       "3  http://www.domin.co.kr/news/articleView.html?i...  \n",
       "4  http://www.dt.co.kr/contents.html?article_no=2...  "
      ]
     },
     "execution_count": 2,
     "metadata": {},
     "output_type": "execute_result"
    }
   ],
   "source": [
    "import pandas as pd\n",
    "import numpy as np\n",
    "\n",
    "news_data = pd.read_csv(\"computer_science.csv\")\n",
    "news_data.head(5)"
   ]
  },
  {
   "cell_type": "code",
   "execution_count": 3,
   "metadata": {},
   "outputs": [
    {
     "data": {
      "text/plain": [
       "68618"
      ]
     },
     "execution_count": 3,
     "metadata": {},
     "output_type": "execute_result"
    }
   ],
   "source": [
    "len(news_data)"
   ]
  },
  {
   "cell_type": "code",
   "execution_count": 4,
   "metadata": {},
   "outputs": [
    {
     "data": {
      "text/plain": [
       "array(['web developer', 'mobile developer', 'embedded developer',\n",
       "       'data developer', 'AI developer', 'SIS developer', 'SW developer'],\n",
       "      dtype=object)"
      ]
     },
     "execution_count": 4,
     "metadata": {},
     "output_type": "execute_result"
    }
   ],
   "source": [
    "news_data['section'].unique()"
   ]
  },
  {
   "cell_type": "markdown",
   "metadata": {},
   "source": [
    "### 데이터 전처리"
   ]
  },
  {
   "cell_type": "code",
   "execution_count": 5,
   "metadata": {},
   "outputs": [],
   "source": [
    "news_data['title'] = news_data['title'].str.replace(\"[^\\w | \\s]\", \"\")"
   ]
  },
  {
   "cell_type": "code",
   "execution_count": 6,
   "metadata": {},
   "outputs": [
    {
     "data": {
      "text/html": [
       "<div>\n",
       "<style scoped>\n",
       "    .dataframe tbody tr th:only-of-type {\n",
       "        vertical-align: middle;\n",
       "    }\n",
       "\n",
       "    .dataframe tbody tr th {\n",
       "        vertical-align: top;\n",
       "    }\n",
       "\n",
       "    .dataframe thead th {\n",
       "        text-align: right;\n",
       "    }\n",
       "</style>\n",
       "<table border=\"1\" class=\"dataframe\">\n",
       "  <thead>\n",
       "    <tr style=\"text-align: right;\">\n",
       "      <th></th>\n",
       "      <th>section</th>\n",
       "      <th>news_id</th>\n",
       "      <th>title</th>\n",
       "      <th>dateline</th>\n",
       "      <th>provider_link_page</th>\n",
       "    </tr>\n",
       "  </thead>\n",
       "  <tbody>\n",
       "    <tr>\n",
       "      <th>0</th>\n",
       "      <td>web developer</td>\n",
       "      <td>1400201.202</td>\n",
       "      <td>예산군 기록관 전국 자치단체 롤모델 부각</td>\n",
       "      <td>2020-09-10T11:27:44.000+09:00</td>\n",
       "      <td>http://www.daejonilbo.com/news/newsitem.asp?pk...</td>\n",
       "    </tr>\n",
       "    <tr>\n",
       "      <th>1</th>\n",
       "      <td>web developer</td>\n",
       "      <td>1400601.202</td>\n",
       "      <td>건강한 일터 자가진단 모형 개발</td>\n",
       "      <td>2020-09-10T21:19:32.000+09:00</td>\n",
       "      <td>http://www.ccdailynews.com/news/articleView.ht...</td>\n",
       "    </tr>\n",
       "    <tr>\n",
       "      <th>2</th>\n",
       "      <td>web developer</td>\n",
       "      <td>8100201.202</td>\n",
       "      <td>신천지발레학원이 지식산업이상한 지식산업센터</td>\n",
       "      <td>2020-09-10T20:55:57.000+09:00</td>\n",
       "      <td>https://imnews.imbc.com/replay/2020/nwdesk/art...</td>\n",
       "    </tr>\n",
       "    <tr>\n",
       "      <th>3</th>\n",
       "      <td>web developer</td>\n",
       "      <td>1601001.202</td>\n",
       "      <td>산림조합 전북본부 2020 벌초도우미서비스 실시</td>\n",
       "      <td>2020-09-10T20:11:08.000+09:00</td>\n",
       "      <td>http://www.domin.co.kr/news/articleView.html?i...</td>\n",
       "    </tr>\n",
       "    <tr>\n",
       "      <th>4</th>\n",
       "      <td>web developer</td>\n",
       "      <td>7101201.202</td>\n",
       "      <td>올해의 천문연구원에 안영숙 박사</td>\n",
       "      <td>2020-09-10T18:59:11.000+09:00</td>\n",
       "      <td>http://www.dt.co.kr/contents.html?article_no=2...</td>\n",
       "    </tr>\n",
       "  </tbody>\n",
       "</table>\n",
       "</div>"
      ],
      "text/plain": [
       "         section      news_id                       title  \\\n",
       "0  web developer  1400201.202      예산군 기록관 전국 자치단체 롤모델 부각   \n",
       "1  web developer  1400601.202           건강한 일터 자가진단 모형 개발   \n",
       "2  web developer  8100201.202     신천지발레학원이 지식산업이상한 지식산업센터   \n",
       "3  web developer  1601001.202  산림조합 전북본부 2020 벌초도우미서비스 실시   \n",
       "4  web developer  7101201.202           올해의 천문연구원에 안영숙 박사   \n",
       "\n",
       "                        dateline  \\\n",
       "0  2020-09-10T11:27:44.000+09:00   \n",
       "1  2020-09-10T21:19:32.000+09:00   \n",
       "2  2020-09-10T20:55:57.000+09:00   \n",
       "3  2020-09-10T20:11:08.000+09:00   \n",
       "4  2020-09-10T18:59:11.000+09:00   \n",
       "\n",
       "                                  provider_link_page  \n",
       "0  http://www.daejonilbo.com/news/newsitem.asp?pk...  \n",
       "1  http://www.ccdailynews.com/news/articleView.ht...  \n",
       "2  https://imnews.imbc.com/replay/2020/nwdesk/art...  \n",
       "3  http://www.domin.co.kr/news/articleView.html?i...  \n",
       "4  http://www.dt.co.kr/contents.html?article_no=2...  "
      ]
     },
     "execution_count": 6,
     "metadata": {},
     "output_type": "execute_result"
    }
   ],
   "source": [
    "news_data.head(5)"
   ]
  },
  {
   "cell_type": "markdown",
   "metadata": {},
   "source": [
    "### WPM (WordPiece Model) tokenizaton"
   ]
  },
  {
   "cell_type": "code",
   "execution_count": 8,
   "metadata": {},
   "outputs": [],
   "source": [
    "import tensorflow_datasets as tfds\n",
    "\n",
    "tokenizer = tfds.features.text.SubwordTextEncoder.build_from_corpus(\n",
    "    news_data['title'], target_vocab_size=2**13)"
   ]
  },
  {
   "cell_type": "code",
   "execution_count": 9,
   "metadata": {},
   "outputs": [
    {
     "name": "stdout",
     "output_type": "stream",
     "text": [
      "['에_', '의_', '도_', '로_', '한_', '는_', '이_', '은_', '다', '이', '서_', '으로_', '과_', '와_', '코로나_', '가_', '출시', '지', '서비스_', '원_', 'AI_', '리', '수', '고_', '고', '을_', '대', '대_', '코로나19_', '기_', '전', '사업_', '자_', '시장_', '등_', '자', '정', '시', '사', '아', '어', '일', '원', '기', '스', '디지털_', '비', '성', '기업_', '부', '장', '인', '온라인_', '나', '유', '가', '도', '시스템_', '주', '미', '개최', '조', '로', '재', '한', '지원', '플랫폼_', '상', '클라우드_', '선정', '비대면_', '기술_', '세', '오', '소', '하는_', '라', '신', '스_', '까지_', '장_', '시대_', '첫_', '서', '동', '것', '수_', '보', '트', '한다', '화', '명', '무', '구축', '시_', '2020_', '구', '한국', '형_', '마']\n"
     ]
    }
   ],
   "source": [
    "print(tokenizer.subwords[:100])"
   ]
  },
  {
   "cell_type": "code",
   "execution_count": 9,
   "metadata": {},
   "outputs": [
    {
     "name": "stdout",
     "output_type": "stream",
     "text": [
      "Tokenized sample question: [1287, 301, 1178, 248, 293, 1899, 1970, 1968, 771, 50, 470]\n"
     ]
    }
   ],
   "source": [
    "print('Tokenized sample question: {}'.format(tokenizer.encode(news_data['title'][0])))"
   ]
  },
  {
   "cell_type": "code",
   "execution_count": 18,
   "metadata": {},
   "outputs": [
    {
     "data": {
      "text/plain": [
       "[1287, 301, 1178, 248, 293, 1899, 1970, 1968, 771, 50, 470]"
      ]
     },
     "execution_count": 18,
     "metadata": {},
     "output_type": "execute_result"
    }
   ],
   "source": [
    "tokenizer.encode(news_data['title'][0])"
   ]
  },
  {
   "cell_type": "code",
   "execution_count": 10,
   "metadata": {},
   "outputs": [
    {
     "name": "stderr",
     "output_type": "stream",
     "text": [
      "C:\\Users\\MyLaptop\\anaconda3\\lib\\site-packages\\ipykernel_launcher.py:3: SettingWithCopyWarning: \n",
      "A value is trying to be set on a copy of a slice from a DataFrame\n",
      "\n",
      "See the caveats in the documentation: https://pandas.pydata.org/pandas-docs/stable/user_guide/indexing.html#returning-a-view-versus-a-copy\n",
      "  This is separate from the ipykernel package so we can avoid doing imports until\n"
     ]
    }
   ],
   "source": [
    "for idx in range(len(news_data)):\n",
    "#     news_data['title'][idx] = [tokenizer.decode([num]) for num in tokenizer.encode(news_data['title'][idx])]\n",
    "    news_data['title'][idx] = [num for num in tokenizer.encode(news_data['title'][idx])]"
   ]
  },
  {
   "cell_type": "code",
   "execution_count": 11,
   "metadata": {},
   "outputs": [
    {
     "data": {
      "text/html": [
       "<div>\n",
       "<style scoped>\n",
       "    .dataframe tbody tr th:only-of-type {\n",
       "        vertical-align: middle;\n",
       "    }\n",
       "\n",
       "    .dataframe tbody tr th {\n",
       "        vertical-align: top;\n",
       "    }\n",
       "\n",
       "    .dataframe thead th {\n",
       "        text-align: right;\n",
       "    }\n",
       "</style>\n",
       "<table border=\"1\" class=\"dataframe\">\n",
       "  <thead>\n",
       "    <tr style=\"text-align: right;\">\n",
       "      <th></th>\n",
       "      <th>section</th>\n",
       "      <th>news_id</th>\n",
       "      <th>title</th>\n",
       "      <th>dateline</th>\n",
       "      <th>provider_link_page</th>\n",
       "    </tr>\n",
       "  </thead>\n",
       "  <tbody>\n",
       "    <tr>\n",
       "      <th>0</th>\n",
       "      <td>web developer</td>\n",
       "      <td>1400201.202</td>\n",
       "      <td>[1287, 301, 1178, 248, 293, 1899, 1970, 1968, ...</td>\n",
       "      <td>2020-09-10T11:27:44.000+09:00</td>\n",
       "      <td>http://www.daejonilbo.com/news/newsitem.asp?pk...</td>\n",
       "    </tr>\n",
       "    <tr>\n",
       "      <th>1</th>\n",
       "      <td>web developer</td>\n",
       "      <td>1400601.202</td>\n",
       "      <td>[7161, 42, 331, 3337, 127, 99, 110]</td>\n",
       "      <td>2020-09-10T21:19:32.000+09:00</td>\n",
       "      <td>http://www.ccdailynews.com/news/articleView.ht...</td>\n",
       "    </tr>\n",
       "    <tr>\n",
       "      <th>2</th>\n",
       "      <td>web developer</td>\n",
       "      <td>8100201.202</td>\n",
       "      <td>[78, 6459, 160, 285, 389, 43, 7, 3399, 216, 12...</td>\n",
       "      <td>2020-09-10T20:55:57.000+09:00</td>\n",
       "      <td>https://imnews.imbc.com/replay/2020/nwdesk/art...</td>\n",
       "    </tr>\n",
       "    <tr>\n",
       "      <th>3</th>\n",
       "      <td>web developer</td>\n",
       "      <td>1601001.202</td>\n",
       "      <td>[1901, 3529, 2228, 1500, 96, 5908, 57, 118, 60...</td>\n",
       "      <td>2020-09-10T20:11:08.000+09:00</td>\n",
       "      <td>http://www.domin.co.kr/news/articleView.html?i...</td>\n",
       "    </tr>\n",
       "    <tr>\n",
       "      <th>4</th>\n",
       "      <td>web developer</td>\n",
       "      <td>7101201.202</td>\n",
       "      <td>[1963, 280, 172, 2595, 1, 113, 134, 2519, 2917]</td>\n",
       "      <td>2020-09-10T18:59:11.000+09:00</td>\n",
       "      <td>http://www.dt.co.kr/contents.html?article_no=2...</td>\n",
       "    </tr>\n",
       "    <tr>\n",
       "      <th>5</th>\n",
       "      <td>web developer</td>\n",
       "      <td>7101201.202</td>\n",
       "      <td>[599, 92, 81, 546, 1, 1347, 3114, 998, 135, 74...</td>\n",
       "      <td>2020-09-10T18:59:12.000+09:00</td>\n",
       "      <td>http://www.dt.co.kr/contents.html?article_no=2...</td>\n",
       "    </tr>\n",
       "  </tbody>\n",
       "</table>\n",
       "</div>"
      ],
      "text/plain": [
       "         section      news_id  \\\n",
       "0  web developer  1400201.202   \n",
       "1  web developer  1400601.202   \n",
       "2  web developer  8100201.202   \n",
       "3  web developer  1601001.202   \n",
       "4  web developer  7101201.202   \n",
       "5  web developer  7101201.202   \n",
       "\n",
       "                                               title  \\\n",
       "0  [1287, 301, 1178, 248, 293, 1899, 1970, 1968, ...   \n",
       "1                [7161, 42, 331, 3337, 127, 99, 110]   \n",
       "2  [78, 6459, 160, 285, 389, 43, 7, 3399, 216, 12...   \n",
       "3  [1901, 3529, 2228, 1500, 96, 5908, 57, 118, 60...   \n",
       "4    [1963, 280, 172, 2595, 1, 113, 134, 2519, 2917]   \n",
       "5  [599, 92, 81, 546, 1, 1347, 3114, 998, 135, 74...   \n",
       "\n",
       "                        dateline  \\\n",
       "0  2020-09-10T11:27:44.000+09:00   \n",
       "1  2020-09-10T21:19:32.000+09:00   \n",
       "2  2020-09-10T20:55:57.000+09:00   \n",
       "3  2020-09-10T20:11:08.000+09:00   \n",
       "4  2020-09-10T18:59:11.000+09:00   \n",
       "5  2020-09-10T18:59:12.000+09:00   \n",
       "\n",
       "                                  provider_link_page  \n",
       "0  http://www.daejonilbo.com/news/newsitem.asp?pk...  \n",
       "1  http://www.ccdailynews.com/news/articleView.ht...  \n",
       "2  https://imnews.imbc.com/replay/2020/nwdesk/art...  \n",
       "3  http://www.domin.co.kr/news/articleView.html?i...  \n",
       "4  http://www.dt.co.kr/contents.html?article_no=2...  \n",
       "5  http://www.dt.co.kr/contents.html?article_no=2...  "
      ]
     },
     "execution_count": 11,
     "metadata": {},
     "output_type": "execute_result"
    }
   ],
   "source": [
    "news_data.head(6)"
   ]
  },
  {
   "cell_type": "code",
   "execution_count": 72,
   "metadata": {},
   "outputs": [
    {
     "data": {
      "text/plain": [
       "array([1400201.202, 1400601.202, 8100201.202, 1601001.202, 7101201.202,\n",
       "       7100501.202, 2100601.202, 2100201.202, 2100311.202, 2100851.202,\n",
       "       1101001.202, 2100801.202, 1400401.202, 1100501.202, 1100701.202,\n",
       "       1300201.202, 1400701.202, 1400351.202, 2100501.202, 1500701.202,\n",
       "       1400501.202, 1600501.202, 2100701.202, 1100611.202, 1100201.202,\n",
       "       8100401.202, 1500301.202, 1500401.202, 1500901.202, 1100901.202,\n",
       "       1100401.202, 1400551.202, 1500801.202, 1600301.202, 1300101.202,\n",
       "       1700101.202, 1200101.202, 1600201.202, 1700201.202, 1100101.202,\n",
       "       1600801.202, 1200201.202, 1500601.202, 1100301.202, 1500501.202,\n",
       "       1500151.202, 1601101.202, 1500051.202, 8100301.202, 8200101.202,\n",
       "       8100101.202])"
      ]
     },
     "execution_count": 72,
     "metadata": {},
     "output_type": "execute_result"
    }
   ],
   "source": [
    "news_data['news_id'].unique()"
   ]
  },
  {
   "cell_type": "markdown",
   "metadata": {},
   "source": [
    "### data preprocessing"
   ]
  },
  {
   "cell_type": "code",
   "execution_count": 81,
   "metadata": {},
   "outputs": [],
   "source": [
    "import gensim\n",
    "from gensim.models.doc2vec import Doc2Vec, TaggedDocument\n",
    "\n",
    "tagged_data = [TaggedDocument(words=[i.lower() for i in _d], \n",
    "                              tags=[idx]) for idx, _d in enumerate(news_data['title'])]"
   ]
  },
  {
   "cell_type": "code",
   "execution_count": 82,
   "metadata": {},
   "outputs": [
    {
     "data": {
      "text/plain": [
       "[TaggedDocument(words=['예산', '군 ', '기록', '관 ', '전국 ', '자치', '단체 ', '롤', '모델 ', '부', '각'], tags=[0]),\n",
       " TaggedDocument(words=['건강한 ', '일', '터 ', '자가진단 ', '모', '형 ', '개발'], tags=[1]),\n",
       " TaggedDocument(words=['신', '천지', '발', '레', '학', '원', '이 ', '지식', '산업', '이상', '한 ', '지식산업센터'], tags=[2]),\n",
       " TaggedDocument(words=['산림', '조합 ', '전북', '본부 ', '2020 ', '벌초', '도', '우', '미', '서비스 ', '실시'], tags=[3]),\n",
       " TaggedDocument(words=['올해의 ', '천', '문', '연구원', '에 ', '안', '영', '숙 ', '박사'], tags=[4])]"
      ]
     },
     "execution_count": 82,
     "metadata": {},
     "output_type": "execute_result"
    }
   ],
   "source": [
    "tagged_data[:5]"
   ]
  },
  {
   "cell_type": "code",
   "execution_count": 83,
   "metadata": {},
   "outputs": [
    {
     "data": {
      "text/plain": [
       "68618"
      ]
     },
     "execution_count": 83,
     "metadata": {},
     "output_type": "execute_result"
    }
   ],
   "source": [
    "len(tagged_data)"
   ]
  },
  {
   "cell_type": "markdown",
   "metadata": {},
   "source": [
    "### Model train"
   ]
  },
  {
   "cell_type": "code",
   "execution_count": 84,
   "metadata": {
    "scrolled": true
   },
   "outputs": [
    {
     "name": "stderr",
     "output_type": "stream",
     "text": [
      "C:\\Users\\MyLaptop\\anaconda3\\lib\\site-packages\\gensim\\models\\doc2vec.py:319: UserWarning: The parameter `size` is deprecated, will be removed in 4.0.0, use `vector_size` instead.\n",
      "  warnings.warn(\"The parameter `size` is deprecated, will be removed in 4.0.0, use `vector_size` instead.\")\n"
     ]
    },
    {
     "name": "stdout",
     "output_type": "stream",
     "text": [
      "iteration 0\n"
     ]
    },
    {
     "name": "stderr",
     "output_type": "stream",
     "text": [
      "C:\\Users\\MyLaptop\\anaconda3\\lib\\site-packages\\ipykernel_launcher.py:17: DeprecationWarning: Call to deprecated `iter` (Attribute will be removed in 4.0.0, use self.epochs instead).\n",
      "WARNING:gensim.models.base_any2vec:Effective 'alpha' higher than previous training cycles\n"
     ]
    },
    {
     "name": "stdout",
     "output_type": "stream",
     "text": [
      "iteration 1\n",
      "iteration 2\n",
      "iteration 3\n",
      "iteration 4\n",
      "iteration 5\n",
      "iteration 6\n",
      "iteration 7\n",
      "iteration 8\n",
      "iteration 9\n",
      "iteration 10\n",
      "iteration 11\n",
      "iteration 12\n",
      "iteration 13\n",
      "iteration 14\n",
      "iteration 15\n",
      "iteration 16\n",
      "iteration 17\n",
      "iteration 18\n",
      "iteration 19\n",
      "iteration 20\n",
      "iteration 21\n",
      "iteration 22\n",
      "iteration 23\n",
      "iteration 24\n",
      "iteration 25\n",
      "iteration 26\n",
      "iteration 27\n",
      "iteration 28\n",
      "iteration 29\n",
      "iteration 30\n",
      "iteration 31\n",
      "iteration 32\n",
      "iteration 33\n",
      "iteration 34\n",
      "iteration 35\n",
      "iteration 36\n",
      "iteration 37\n",
      "iteration 38\n",
      "iteration 39\n",
      "iteration 40\n",
      "iteration 41\n",
      "iteration 42\n",
      "iteration 43\n",
      "iteration 44\n",
      "iteration 45\n",
      "iteration 46\n",
      "iteration 47\n",
      "iteration 48\n",
      "iteration 49\n",
      "iteration 50\n",
      "iteration 51\n",
      "iteration 52\n",
      "iteration 53\n",
      "iteration 54\n",
      "iteration 55\n",
      "iteration 56\n",
      "iteration 57\n",
      "iteration 58\n",
      "iteration 59\n",
      "iteration 60\n",
      "iteration 61\n",
      "iteration 62\n",
      "iteration 63\n",
      "iteration 64\n",
      "iteration 65\n",
      "iteration 66\n",
      "iteration 67\n",
      "iteration 68\n",
      "iteration 69\n",
      "iteration 70\n",
      "iteration 71\n",
      "iteration 72\n",
      "iteration 73\n",
      "iteration 74\n",
      "iteration 75\n",
      "iteration 76\n",
      "iteration 77\n",
      "iteration 78\n",
      "iteration 79\n",
      "iteration 80\n",
      "iteration 81\n",
      "iteration 82\n",
      "iteration 83\n",
      "iteration 84\n",
      "iteration 85\n",
      "iteration 86\n",
      "iteration 87\n",
      "iteration 88\n",
      "iteration 89\n",
      "iteration 90\n",
      "iteration 91\n",
      "iteration 92\n",
      "iteration 93\n",
      "iteration 94\n",
      "iteration 95\n",
      "iteration 96\n",
      "iteration 97\n",
      "iteration 98\n",
      "iteration 99\n",
      "Model Saved\n"
     ]
    }
   ],
   "source": [
    "max_epochs = 100\n",
    "vec_size = 20\n",
    "alpha = 0.025\n",
    "\n",
    "d2v_model = Doc2Vec(size=vec_size,\n",
    "                alpha=alpha, \n",
    "                min_alpha=0.00025,\n",
    "                min_count=1,\n",
    "                dm =1)\n",
    "  \n",
    "d2v_model.build_vocab(tagged_data)\n",
    "\n",
    "for epoch in range(max_epochs):\n",
    "    print('iteration {0}'.format(epoch))\n",
    "    d2v_model.train(tagged_data,\n",
    "                total_examples=d2v_model.corpus_count,\n",
    "                epochs=d2v_model.iter)\n",
    "    # decrease the learning rate\n",
    "    d2v_model.alpha -= 0.0002\n",
    "    # fix the learning rate, no decay\n",
    "    d2v_model.min_alpha = d2v_model.alpha\n",
    "\n",
    "d2v_model.save(\"d2v.model\")\n",
    "print(\"Model Saved\")"
   ]
  },
  {
   "cell_type": "code",
   "execution_count": 91,
   "metadata": {
    "scrolled": true
   },
   "outputs": [
    {
     "data": {
      "text/plain": [
       "[]"
      ]
     },
     "execution_count": 91,
     "metadata": {},
     "output_type": "execute_result"
    }
   ],
   "source": [
    "# tags\n",
    "\n",
    "d2v_model.docvecs.offset2doctag"
   ]
  },
  {
   "cell_type": "code",
   "execution_count": 89,
   "metadata": {
    "scrolled": true
   },
   "outputs": [
    {
     "name": "stderr",
     "output_type": "stream",
     "text": [
      "C:\\Users\\MyLaptop\\anaconda3\\lib\\site-packages\\ipykernel_launcher.py:1: DeprecationWarning: Call to deprecated `doctag_syn0` (Attribute will be removed in 4.0.0, use docvecs.vectors_docs instead).\n",
      "  \"\"\"Entry point for launching an IPython kernel.\n"
     ]
    },
    {
     "data": {
      "text/plain": [
       "array([[ 0.62977177, -6.0020404 , -3.0430608 , ..., -5.310898  ,\n",
       "         0.26875967, -2.408109  ],\n",
       "       [ 1.7644455 ,  0.976511  , -1.3608624 , ...,  2.2232146 ,\n",
       "        -7.3721538 ,  4.118886  ],\n",
       "       [ 4.5147076 ,  2.2187421 , -2.5592365 , ..., -4.35489   ,\n",
       "         3.7881103 , -4.6801043 ],\n",
       "       ...,\n",
       "       [-2.3975663 , -1.0016649 ,  0.13753901, ...,  2.1369393 ,\n",
       "         4.0569606 ,  1.6593772 ],\n",
       "       [-2.9675379 ,  2.806499  , -5.6495695 , ...,  5.55664   ,\n",
       "         5.066531  ,  5.2266197 ],\n",
       "       [ 5.094768  ,  1.9410326 , -3.2910101 , ..., -4.487082  ,\n",
       "        -1.598795  , -1.1193295 ]], dtype=float32)"
      ]
     },
     "execution_count": 89,
     "metadata": {},
     "output_type": "execute_result"
    }
   ],
   "source": [
    "# vetors\n",
    "d2v_model.docvecs.doctag_syn0"
   ]
  },
  {
   "cell_type": "markdown",
   "metadata": {},
   "source": [
    "### title => vetor"
   ]
  },
  {
   "cell_type": "code",
   "execution_count": 92,
   "metadata": {},
   "outputs": [
    {
     "name": "stderr",
     "output_type": "stream",
     "text": [
      "C:\\Users\\MyLaptop\\anaconda3\\lib\\site-packages\\ipykernel_launcher.py:1: DeprecationWarning: Call to deprecated `doctag_syn0` (Attribute will be removed in 4.0.0, use docvecs.vectors_docs instead).\n",
      "  \"\"\"Entry point for launching an IPython kernel.\n",
      "C:\\Users\\MyLaptop\\anaconda3\\lib\\site-packages\\ipykernel_launcher.py:2: SettingWithCopyWarning: \n",
      "A value is trying to be set on a copy of a slice from a DataFrame\n",
      "\n",
      "See the caveats in the documentation: https://pandas.pydata.org/pandas-docs/stable/user_guide/indexing.html#returning-a-view-versus-a-copy\n",
      "  \n"
     ]
    }
   ],
   "source": [
    "for idx, v in enumerate(d2v_model.docvecs.doctag_syn0):\n",
    "    news_data['title'][idx] = v"
   ]
  },
  {
   "cell_type": "code",
   "execution_count": 93,
   "metadata": {
    "scrolled": true
   },
   "outputs": [
    {
     "data": {
      "text/html": [
       "<div>\n",
       "<style scoped>\n",
       "    .dataframe tbody tr th:only-of-type {\n",
       "        vertical-align: middle;\n",
       "    }\n",
       "\n",
       "    .dataframe tbody tr th {\n",
       "        vertical-align: top;\n",
       "    }\n",
       "\n",
       "    .dataframe thead th {\n",
       "        text-align: right;\n",
       "    }\n",
       "</style>\n",
       "<table border=\"1\" class=\"dataframe\">\n",
       "  <thead>\n",
       "    <tr style=\"text-align: right;\">\n",
       "      <th></th>\n",
       "      <th>section</th>\n",
       "      <th>news_id</th>\n",
       "      <th>title</th>\n",
       "      <th>dateline</th>\n",
       "      <th>provider_link_page</th>\n",
       "    </tr>\n",
       "  </thead>\n",
       "  <tbody>\n",
       "    <tr>\n",
       "      <th>0</th>\n",
       "      <td>web developer</td>\n",
       "      <td>1400201.202</td>\n",
       "      <td>[0.62977177, -6.0020404, -3.0430608, 7.746626,...</td>\n",
       "      <td>2020-09-10T11:27:44.000+09:00</td>\n",
       "      <td>http://www.daejonilbo.com/news/newsitem.asp?pk...</td>\n",
       "    </tr>\n",
       "    <tr>\n",
       "      <th>1</th>\n",
       "      <td>web developer</td>\n",
       "      <td>1400601.202</td>\n",
       "      <td>[1.7644455, 0.976511, -1.3608624, 1.514463, 0....</td>\n",
       "      <td>2020-09-10T21:19:32.000+09:00</td>\n",
       "      <td>http://www.ccdailynews.com/news/articleView.ht...</td>\n",
       "    </tr>\n",
       "    <tr>\n",
       "      <th>2</th>\n",
       "      <td>web developer</td>\n",
       "      <td>8100201.202</td>\n",
       "      <td>[4.5147076, 2.2187421, -2.5592365, 1.9661222, ...</td>\n",
       "      <td>2020-09-10T20:55:57.000+09:00</td>\n",
       "      <td>https://imnews.imbc.com/replay/2020/nwdesk/art...</td>\n",
       "    </tr>\n",
       "    <tr>\n",
       "      <th>3</th>\n",
       "      <td>web developer</td>\n",
       "      <td>1601001.202</td>\n",
       "      <td>[0.9904615, -0.093818046, 1.7925162, 0.8770222...</td>\n",
       "      <td>2020-09-10T20:11:08.000+09:00</td>\n",
       "      <td>http://www.domin.co.kr/news/articleView.html?i...</td>\n",
       "    </tr>\n",
       "    <tr>\n",
       "      <th>4</th>\n",
       "      <td>web developer</td>\n",
       "      <td>7101201.202</td>\n",
       "      <td>[0.09731135, 5.122567, 0.17382027, 1.8286847, ...</td>\n",
       "      <td>2020-09-10T18:59:11.000+09:00</td>\n",
       "      <td>http://www.dt.co.kr/contents.html?article_no=2...</td>\n",
       "    </tr>\n",
       "  </tbody>\n",
       "</table>\n",
       "</div>"
      ],
      "text/plain": [
       "         section      news_id  \\\n",
       "0  web developer  1400201.202   \n",
       "1  web developer  1400601.202   \n",
       "2  web developer  8100201.202   \n",
       "3  web developer  1601001.202   \n",
       "4  web developer  7101201.202   \n",
       "\n",
       "                                               title  \\\n",
       "0  [0.62977177, -6.0020404, -3.0430608, 7.746626,...   \n",
       "1  [1.7644455, 0.976511, -1.3608624, 1.514463, 0....   \n",
       "2  [4.5147076, 2.2187421, -2.5592365, 1.9661222, ...   \n",
       "3  [0.9904615, -0.093818046, 1.7925162, 0.8770222...   \n",
       "4  [0.09731135, 5.122567, 0.17382027, 1.8286847, ...   \n",
       "\n",
       "                        dateline  \\\n",
       "0  2020-09-10T11:27:44.000+09:00   \n",
       "1  2020-09-10T21:19:32.000+09:00   \n",
       "2  2020-09-10T20:55:57.000+09:00   \n",
       "3  2020-09-10T20:11:08.000+09:00   \n",
       "4  2020-09-10T18:59:11.000+09:00   \n",
       "\n",
       "                                  provider_link_page  \n",
       "0  http://www.daejonilbo.com/news/newsitem.asp?pk...  \n",
       "1  http://www.ccdailynews.com/news/articleView.ht...  \n",
       "2  https://imnews.imbc.com/replay/2020/nwdesk/art...  \n",
       "3  http://www.domin.co.kr/news/articleView.html?i...  \n",
       "4  http://www.dt.co.kr/contents.html?article_no=2...  "
      ]
     },
     "execution_count": 93,
     "metadata": {},
     "output_type": "execute_result"
    }
   ],
   "source": [
    "news_data.head(5)"
   ]
  },
  {
   "cell_type": "markdown",
   "metadata": {},
   "source": [
    "### section one_hot_vector"
   ]
  },
  {
   "cell_type": "code",
   "execution_count": 12,
   "metadata": {},
   "outputs": [
    {
     "data": {
      "text/plain": [
       "LabelEncoder()"
      ]
     },
     "execution_count": 12,
     "metadata": {},
     "output_type": "execute_result"
    }
   ],
   "source": [
    "from sklearn import preprocessing\n",
    "\n",
    "le = preprocessing.LabelEncoder()\n",
    "le.fit(news_data['section'])"
   ]
  },
  {
   "cell_type": "code",
   "execution_count": 13,
   "metadata": {},
   "outputs": [
    {
     "data": {
      "text/plain": [
       "['AI developer',\n",
       " 'SIS developer',\n",
       " 'SW developer',\n",
       " 'data developer',\n",
       " 'embedded developer',\n",
       " 'mobile developer',\n",
       " 'web developer']"
      ]
     },
     "execution_count": 13,
     "metadata": {},
     "output_type": "execute_result"
    }
   ],
   "source": [
    "list(le.classes_)"
   ]
  },
  {
   "cell_type": "code",
   "execution_count": 14,
   "metadata": {},
   "outputs": [],
   "source": [
    "news_data['section'] = le.transform(news_data['section'])"
   ]
  },
  {
   "cell_type": "code",
   "execution_count": 15,
   "metadata": {},
   "outputs": [
    {
     "data": {
      "text/html": [
       "<div>\n",
       "<style scoped>\n",
       "    .dataframe tbody tr th:only-of-type {\n",
       "        vertical-align: middle;\n",
       "    }\n",
       "\n",
       "    .dataframe tbody tr th {\n",
       "        vertical-align: top;\n",
       "    }\n",
       "\n",
       "    .dataframe thead th {\n",
       "        text-align: right;\n",
       "    }\n",
       "</style>\n",
       "<table border=\"1\" class=\"dataframe\">\n",
       "  <thead>\n",
       "    <tr style=\"text-align: right;\">\n",
       "      <th></th>\n",
       "      <th>section</th>\n",
       "      <th>news_id</th>\n",
       "      <th>title</th>\n",
       "      <th>dateline</th>\n",
       "      <th>provider_link_page</th>\n",
       "    </tr>\n",
       "  </thead>\n",
       "  <tbody>\n",
       "    <tr>\n",
       "      <th>0</th>\n",
       "      <td>6</td>\n",
       "      <td>1400201.202</td>\n",
       "      <td>[1287, 301, 1178, 248, 293, 1899, 1970, 1968, ...</td>\n",
       "      <td>2020-09-10T11:27:44.000+09:00</td>\n",
       "      <td>http://www.daejonilbo.com/news/newsitem.asp?pk...</td>\n",
       "    </tr>\n",
       "    <tr>\n",
       "      <th>1</th>\n",
       "      <td>6</td>\n",
       "      <td>1400601.202</td>\n",
       "      <td>[7161, 42, 331, 3337, 127, 99, 110]</td>\n",
       "      <td>2020-09-10T21:19:32.000+09:00</td>\n",
       "      <td>http://www.ccdailynews.com/news/articleView.ht...</td>\n",
       "    </tr>\n",
       "    <tr>\n",
       "      <th>2</th>\n",
       "      <td>6</td>\n",
       "      <td>8100201.202</td>\n",
       "      <td>[78, 6459, 160, 285, 389, 43, 7, 3399, 216, 12...</td>\n",
       "      <td>2020-09-10T20:55:57.000+09:00</td>\n",
       "      <td>https://imnews.imbc.com/replay/2020/nwdesk/art...</td>\n",
       "    </tr>\n",
       "    <tr>\n",
       "      <th>3</th>\n",
       "      <td>6</td>\n",
       "      <td>1601001.202</td>\n",
       "      <td>[1901, 3529, 2228, 1500, 96, 5908, 57, 118, 60...</td>\n",
       "      <td>2020-09-10T20:11:08.000+09:00</td>\n",
       "      <td>http://www.domin.co.kr/news/articleView.html?i...</td>\n",
       "    </tr>\n",
       "    <tr>\n",
       "      <th>4</th>\n",
       "      <td>6</td>\n",
       "      <td>7101201.202</td>\n",
       "      <td>[1963, 280, 172, 2595, 1, 113, 134, 2519, 2917]</td>\n",
       "      <td>2020-09-10T18:59:11.000+09:00</td>\n",
       "      <td>http://www.dt.co.kr/contents.html?article_no=2...</td>\n",
       "    </tr>\n",
       "  </tbody>\n",
       "</table>\n",
       "</div>"
      ],
      "text/plain": [
       "   section      news_id                                              title  \\\n",
       "0        6  1400201.202  [1287, 301, 1178, 248, 293, 1899, 1970, 1968, ...   \n",
       "1        6  1400601.202                [7161, 42, 331, 3337, 127, 99, 110]   \n",
       "2        6  8100201.202  [78, 6459, 160, 285, 389, 43, 7, 3399, 216, 12...   \n",
       "3        6  1601001.202  [1901, 3529, 2228, 1500, 96, 5908, 57, 118, 60...   \n",
       "4        6  7101201.202    [1963, 280, 172, 2595, 1, 113, 134, 2519, 2917]   \n",
       "\n",
       "                        dateline  \\\n",
       "0  2020-09-10T11:27:44.000+09:00   \n",
       "1  2020-09-10T21:19:32.000+09:00   \n",
       "2  2020-09-10T20:55:57.000+09:00   \n",
       "3  2020-09-10T20:11:08.000+09:00   \n",
       "4  2020-09-10T18:59:11.000+09:00   \n",
       "\n",
       "                                  provider_link_page  \n",
       "0  http://www.daejonilbo.com/news/newsitem.asp?pk...  \n",
       "1  http://www.ccdailynews.com/news/articleView.ht...  \n",
       "2  https://imnews.imbc.com/replay/2020/nwdesk/art...  \n",
       "3  http://www.domin.co.kr/news/articleView.html?i...  \n",
       "4  http://www.dt.co.kr/contents.html?article_no=2...  "
      ]
     },
     "execution_count": 15,
     "metadata": {},
     "output_type": "execute_result"
    }
   ],
   "source": [
    "news_data.head(5)"
   ]
  },
  {
   "cell_type": "code",
   "execution_count": 16,
   "metadata": {
    "scrolled": true
   },
   "outputs": [
    {
     "data": {
      "text/html": [
       "<div>\n",
       "<style scoped>\n",
       "    .dataframe tbody tr th:only-of-type {\n",
       "        vertical-align: middle;\n",
       "    }\n",
       "\n",
       "    .dataframe tbody tr th {\n",
       "        vertical-align: top;\n",
       "    }\n",
       "\n",
       "    .dataframe thead th {\n",
       "        text-align: right;\n",
       "    }\n",
       "</style>\n",
       "<table border=\"1\" class=\"dataframe\">\n",
       "  <thead>\n",
       "    <tr style=\"text-align: right;\">\n",
       "      <th></th>\n",
       "      <th>section</th>\n",
       "      <th>news_id</th>\n",
       "      <th>title</th>\n",
       "      <th>dateline</th>\n",
       "      <th>provider_link_page</th>\n",
       "    </tr>\n",
       "  </thead>\n",
       "  <tbody>\n",
       "    <tr>\n",
       "      <th>68613</th>\n",
       "      <td>2</td>\n",
       "      <td>7101201.202</td>\n",
       "      <td>[4663, 3993, 7895, 131, 389, 3, 2712, 4995, 16...</td>\n",
       "      <td>2020-08-26T15:20:03.000+09:00</td>\n",
       "      <td>http://www.dt.co.kr/contents.html?article_no=2...</td>\n",
       "    </tr>\n",
       "    <tr>\n",
       "      <th>68614</th>\n",
       "      <td>2</td>\n",
       "      <td>1100701.202</td>\n",
       "      <td>[2027, 165, 3, 848, 87, 52, 92, 2822, 1, 1591,...</td>\n",
       "      <td>2020-08-26T15:30:30.000+09:00</td>\n",
       "      <td>http://www.segye.com/content/html/2020/08/26/2...</td>\n",
       "    </tr>\n",
       "    <tr>\n",
       "      <th>68615</th>\n",
       "      <td>2</td>\n",
       "      <td>1100101.202</td>\n",
       "      <td>[7250, 3413, 1, 2946, 3841, 157, 78, 5482, 2859]</td>\n",
       "      <td>2020-08-26T15:30:13.000+09:00</td>\n",
       "      <td>http://news.khan.co.kr/kh_news/khan_art_view.h...</td>\n",
       "    </tr>\n",
       "    <tr>\n",
       "      <th>68616</th>\n",
       "      <td>2</td>\n",
       "      <td>1101001.202</td>\n",
       "      <td>[2946, 3841, 157, 336, 11, 3006, 3413, 12, 2859]</td>\n",
       "      <td>2020-08-26T15:48:52.000+09:00</td>\n",
       "      <td>http://www.hani.co.kr/arti/area/chungcheong/95...</td>\n",
       "    </tr>\n",
       "    <tr>\n",
       "      <th>68617</th>\n",
       "      <td>2</td>\n",
       "      <td>1100611.202</td>\n",
       "      <td>[685, 63, 3, 742, 1695, 719, 15, 3646, 7895, 5...</td>\n",
       "      <td>2020-08-26T15:22:55.000+09:00</td>\n",
       "      <td>http://www.seoul.co.kr/news/newsView.php?id=20...</td>\n",
       "    </tr>\n",
       "  </tbody>\n",
       "</table>\n",
       "</div>"
      ],
      "text/plain": [
       "       section      news_id  \\\n",
       "68613        2  7101201.202   \n",
       "68614        2  1100701.202   \n",
       "68615        2  1100101.202   \n",
       "68616        2  1101001.202   \n",
       "68617        2  1100611.202   \n",
       "\n",
       "                                                   title  \\\n",
       "68613  [4663, 3993, 7895, 131, 389, 3, 2712, 4995, 16...   \n",
       "68614  [2027, 165, 3, 848, 87, 52, 92, 2822, 1, 1591,...   \n",
       "68615   [7250, 3413, 1, 2946, 3841, 157, 78, 5482, 2859]   \n",
       "68616   [2946, 3841, 157, 336, 11, 3006, 3413, 12, 2859]   \n",
       "68617  [685, 63, 3, 742, 1695, 719, 15, 3646, 7895, 5...   \n",
       "\n",
       "                            dateline  \\\n",
       "68613  2020-08-26T15:20:03.000+09:00   \n",
       "68614  2020-08-26T15:30:30.000+09:00   \n",
       "68615  2020-08-26T15:30:13.000+09:00   \n",
       "68616  2020-08-26T15:48:52.000+09:00   \n",
       "68617  2020-08-26T15:22:55.000+09:00   \n",
       "\n",
       "                                      provider_link_page  \n",
       "68613  http://www.dt.co.kr/contents.html?article_no=2...  \n",
       "68614  http://www.segye.com/content/html/2020/08/26/2...  \n",
       "68615  http://news.khan.co.kr/kh_news/khan_art_view.h...  \n",
       "68616  http://www.hani.co.kr/arti/area/chungcheong/95...  \n",
       "68617  http://www.seoul.co.kr/news/newsView.php?id=20...  "
      ]
     },
     "execution_count": 16,
     "metadata": {},
     "output_type": "execute_result"
    }
   ],
   "source": [
    "news_data.tail(5)"
   ]
  },
  {
   "cell_type": "code",
   "execution_count": null,
   "metadata": {},
   "outputs": [],
   "source": [
    "# list(le.inverse_transform())"
   ]
  },
  {
   "cell_type": "markdown",
   "metadata": {},
   "source": [
    "### train_test_split"
   ]
  },
  {
   "cell_type": "code",
   "execution_count": 17,
   "metadata": {},
   "outputs": [
    {
     "data": {
      "text/plain": [
       "((54894,), (13724,), (54894,), (13724,))"
      ]
     },
     "execution_count": 17,
     "metadata": {},
     "output_type": "execute_result"
    }
   ],
   "source": [
    "from sklearn.model_selection import train_test_split\n",
    "\n",
    "X_train, X_test, y_train, y_test = train_test_split(news_data['title'].values, news_data['section'].values, \n",
    "                                                    test_size=0.2,\n",
    "                                                    stratify=news_data['section'],\n",
    "                                                    shuffle=True,\n",
    "                                                    random_state=42)\n",
    "\n",
    "X_train.shape, X_test.shape, y_train.shape, y_test.shape"
   ]
  },
  {
   "cell_type": "code",
   "execution_count": 18,
   "metadata": {},
   "outputs": [
    {
     "data": {
      "text/plain": [
       "array([list([4721, 5303, 33, 1162, 78, 3199, 510, 42, 7440, 87, 7159, 5711, 7895, 3537, 4853, 3618]),\n",
       "       list([2694, 651, 6979, 7895, 1153, 2226, 2636, 337, 113, 48, 5009, 124, 27, 14, 1096]),\n",
       "       list([473, 28, 7026, 1347, 5520, 5912, 2582, 207, 1068, 6354, 7895, 7041, 5535]),\n",
       "       ...,\n",
       "       list([1341, 6182, 2393, 1536, 716, 76, 2139, 7167, 2014, 5626, 212, 4068, 563, 4269, 43]),\n",
       "       list([132, 2989, 7947, 7038, 1749, 1896, 3, 7175, 1, 498, 848]),\n",
       "       list([3382, 312, 46, 300, 984, 126, 3986, 7895, 7948, 7973, 7968, 5248, 7977, 5986, 7979, 3238, 707])],\n",
       "      dtype=object)"
      ]
     },
     "execution_count": 18,
     "metadata": {},
     "output_type": "execute_result"
    }
   ],
   "source": [
    "X_train"
   ]
  },
  {
   "cell_type": "markdown",
   "metadata": {},
   "source": [
    "### 우리에게 필요한 단어만 추출"
   ]
  },
  {
   "cell_type": "code",
   "execution_count": 21,
   "metadata": {},
   "outputs": [
    {
     "name": "stderr",
     "output_type": "stream",
     "text": [
      "C:\\Users\\MyLaptop\\anaconda3\\lib\\site-packages\\ipykernel_launcher.py:5: DeprecationWarning: Call to deprecated `doctag_syn0` (Attribute will be removed in 4.0.0, use docvecs.vectors_docs instead).\n",
      "  \"\"\"\n"
     ]
    }
   ],
   "source": [
    "from gensim.models.doc2vec import Doc2Vec\n",
    "\n",
    "d2v_model= Doc2Vec.load(\"d2v.model\")\n",
    "\n",
    "VOCAB_SIZE = len(d2v_model.docvecs.doctag_syn0)\n",
    "EMBEDDING_DIM = 20\n",
    "\n",
    "embedding_matrix = np.zeros((VOCAB_SIZE, EMBEDDING_DIM))"
   ]
  },
  {
   "cell_type": "code",
   "execution_count": 22,
   "metadata": {},
   "outputs": [
    {
     "data": {
      "text/plain": [
       "(68618, 20)"
      ]
     },
     "execution_count": 22,
     "metadata": {},
     "output_type": "execute_result"
    }
   ],
   "source": [
    "for idx, word in enumerate(tokenizer.subwords):\n",
    "    embedding_vector = d2v_model.infer_vector([word]) if word in tokenizer.subwords else None\n",
    "    if embedding_vector is not None:\n",
    "        embedding_matrix[idx] = embedding_vector\n",
    "embedding_matrix.shape"
   ]
  },
  {
   "cell_type": "markdown",
   "metadata": {},
   "source": [
    "### 패딩"
   ]
  },
  {
   "cell_type": "code",
   "execution_count": 23,
   "metadata": {},
   "outputs": [
    {
     "name": "stdout",
     "output_type": "stream",
     "text": [
      "95\n"
     ]
    }
   ],
   "source": [
    "max_length = 0\n",
    "\n",
    "for idx, data in enumerate(X_train):\n",
    "    if max_length < len(data):\n",
    "        max_length = len(data)\n",
    "print(max_length)"
   ]
  },
  {
   "cell_type": "code",
   "execution_count": 84,
   "metadata": {},
   "outputs": [],
   "source": [
    "from tensorflow.keras.preprocessing.sequence import pad_sequences\n",
    "\n",
    "max_len = 95\n",
    "X_train = pad_sequences(X_train, maxlen=max_length, dtype='float64')\n",
    "X_test = pad_sequences(X_test, maxlen=max_length, dtype='float64')"
   ]
  },
  {
   "cell_type": "markdown",
   "metadata": {},
   "source": [
    "### CNN"
   ]
  },
  {
   "cell_type": "code",
   "execution_count": 85,
   "metadata": {
    "scrolled": true
   },
   "outputs": [
    {
     "name": "stdout",
     "output_type": "stream",
     "text": [
      "Model: \"sequential_1\"\n",
      "_________________________________________________________________\n",
      "Layer (type)                 Output Shape              Param #   \n",
      "=================================================================\n",
      "embedding_1 (Embedding)      (None, 95, 20)            1372360   \n",
      "_________________________________________________________________\n",
      "conv1d_1 (Conv1D)            (None, 93, 256)           15616     \n",
      "_________________________________________________________________\n",
      "global_max_pooling1d_1 (Glob (None, 256)               0         \n",
      "_________________________________________________________________\n",
      "flatten_1 (Flatten)          (None, 256)               0         \n",
      "_________________________________________________________________\n",
      "dense_1 (Dense)              (None, 7)                 1799      \n",
      "=================================================================\n",
      "Total params: 1,389,775\n",
      "Trainable params: 17,415\n",
      "Non-trainable params: 1,372,360\n",
      "_________________________________________________________________\n",
      "Train on 54894 samples, validate on 13724 samples\n",
      "Epoch 1/100\n",
      "54894/54894 [==============================] - 9s 156us/sample - loss: 1.9445 - val_loss: 1.9410\n",
      "Epoch 2/100\n",
      "54894/54894 [==============================] - 9s 158us/sample - loss: 1.9330 - val_loss: 1.9296\n",
      "Epoch 3/100\n",
      "54894/54894 [==============================] - 9s 160us/sample - loss: 1.9164 - val_loss: 1.9198\n",
      "Epoch 4/100\n",
      "54894/54894 [==============================] - 9s 165us/sample - loss: 1.8995 - val_loss: 1.9041\n",
      "Epoch 5/100\n",
      "54894/54894 [==============================] - 9s 164us/sample - loss: 1.8822 - val_loss: 1.8964\n",
      "Epoch 6/100\n",
      "54894/54894 [==============================] - 9s 161us/sample - loss: 1.8660 - val_loss: 1.8919\n",
      "Epoch 7/100\n",
      "54894/54894 [==============================] - 9s 163us/sample - loss: 1.8514 - val_loss: 1.8862\n",
      "Epoch 8/100\n",
      "54894/54894 [==============================] - 9s 164us/sample - loss: 1.8352 - val_loss: 1.8748\n",
      "Epoch 9/100\n",
      "54894/54894 [==============================] - 9s 166us/sample - loss: 1.8218 - val_loss: 1.8730\n",
      "Epoch 10/100\n",
      "54894/54894 [==============================] - 9s 169us/sample - loss: 1.8078 - val_loss: 1.8666\n",
      "Epoch 11/100\n",
      "54894/54894 [==============================] - 9s 168us/sample - loss: 1.7946 - val_loss: 1.8664\n",
      "Epoch 12/100\n",
      "54894/54894 [==============================] - 9s 168us/sample - loss: 1.7817 - val_loss: 1.8616\n",
      "Epoch 13/100\n",
      "54894/54894 [==============================] - 9s 167us/sample - loss: 1.7698 - val_loss: 1.8707\n",
      "Epoch 14/100\n",
      "54894/54894 [==============================] - 9s 168us/sample - loss: 1.7588 - val_loss: 1.8599\n",
      "Epoch 15/100\n",
      "54894/54894 [==============================] - 9s 167us/sample - loss: 1.7475 - val_loss: 1.8605\n",
      "Epoch 16/100\n",
      "54894/54894 [==============================] - 9s 167us/sample - loss: 1.7362 - val_loss: 1.8627\n",
      "Epoch 17/100\n",
      "54894/54894 [==============================] - 9s 169us/sample - loss: 1.7272 - val_loss: 1.8639\n",
      "Epoch 18/100\n",
      "54894/54894 [==============================] - 9s 169us/sample - loss: 1.7177 - val_loss: 1.8676\n",
      "Epoch 19/100\n",
      "54894/54894 [==============================] - 9s 168us/sample - loss: 1.7085 - val_loss: 1.8564\n",
      "Epoch 20/100\n",
      "54894/54894 [==============================] - 9s 166us/sample - loss: 1.7008 - val_loss: 1.8520\n",
      "Epoch 21/100\n",
      "54894/54894 [==============================] - 9s 165us/sample - loss: 1.6921 - val_loss: 1.8560\n",
      "Epoch 22/100\n",
      "54894/54894 [==============================] - 9s 166us/sample - loss: 1.6851 - val_loss: 1.8632\n",
      "Epoch 23/100\n",
      "54894/54894 [==============================] - 9s 168us/sample - loss: 1.6787 - val_loss: 1.8566\n",
      "Epoch 24/100\n",
      "54894/54894 [==============================] - 9s 165us/sample - loss: 1.6703 - val_loss: 1.8633\n",
      "Epoch 25/100\n",
      "54894/54894 [==============================] - 9s 166us/sample - loss: 1.6634 - val_loss: 1.8577\n",
      "Epoch 26/100\n",
      "54894/54894 [==============================] - 9s 166us/sample - loss: 1.6579 - val_loss: 1.8798\n",
      "Epoch 27/100\n",
      "54894/54894 [==============================] - 9s 165us/sample - loss: 1.6527 - val_loss: 1.8607\n",
      "Epoch 28/100\n",
      "54894/54894 [==============================] - 9s 165us/sample - loss: 1.6462 - val_loss: 1.8692\n",
      "Epoch 29/100\n",
      "54894/54894 [==============================] - 9s 166us/sample - loss: 1.6427 - val_loss: 1.8644\n",
      "Epoch 30/100\n",
      "54894/54894 [==============================] - 9s 167us/sample - loss: 1.6373 - val_loss: 1.8704\n",
      "Epoch 31/100\n",
      "54894/54894 [==============================] - 9s 167us/sample - loss: 1.6307 - val_loss: 1.9041\n",
      "Epoch 32/100\n",
      "54894/54894 [==============================] - 9s 165us/sample - loss: 1.6263 - val_loss: 1.8792\n",
      "Epoch 33/100\n",
      "54894/54894 [==============================] - 9s 166us/sample - loss: 1.6235 - val_loss: 1.8840\n",
      "Epoch 34/100\n",
      "54894/54894 [==============================] - 9s 166us/sample - loss: 1.6177 - val_loss: 1.8899\n",
      "Epoch 35/100\n",
      "54894/54894 [==============================] - 9s 166us/sample - loss: 1.6137 - val_loss: 1.8899\n",
      "Epoch 36/100\n",
      "54894/54894 [==============================] - 9s 167us/sample - loss: 1.6099 - val_loss: 1.8846\n",
      "Epoch 37/100\n",
      "54894/54894 [==============================] - 9s 167us/sample - loss: 1.6047 - val_loss: 1.8879\n",
      "Epoch 38/100\n",
      "54894/54894 [==============================] - 9s 168us/sample - loss: 1.6016 - val_loss: 1.8888\n",
      "Epoch 39/100\n",
      "54894/54894 [==============================] - 9s 166us/sample - loss: 1.5978 - val_loss: 1.8936\n",
      "Epoch 40/100\n",
      "54894/54894 [==============================] - 9s 167us/sample - loss: 1.5948 - val_loss: 1.9151\n",
      "Epoch 41/100\n",
      "54894/54894 [==============================] - 9s 166us/sample - loss: 1.5910 - val_loss: 1.9286\n",
      "Epoch 42/100\n",
      "54894/54894 [==============================] - 9s 166us/sample - loss: 1.5885 - val_loss: 1.8943\n",
      "Epoch 43/100\n",
      "54894/54894 [==============================] - 10s 175us/sample - loss: 1.5857 - val_loss: 1.9079\n",
      "Epoch 44/100\n",
      "54894/54894 [==============================] - 9s 172us/sample - loss: 1.5831 - val_loss: 1.8950\n",
      "Epoch 45/100\n",
      "54894/54894 [==============================] - 9s 173us/sample - loss: 1.5791 - val_loss: 1.9003\n",
      "Epoch 46/100\n",
      "54894/54894 [==============================] - 9s 166us/sample - loss: 1.5772 - val_loss: 1.8993\n",
      "Epoch 47/100\n",
      "54894/54894 [==============================] - 10s 174us/sample - loss: 1.5740 - val_loss: 1.9194\n",
      "Epoch 48/100\n",
      "54894/54894 [==============================] - 9s 167us/sample - loss: 1.5718 - val_loss: 1.9160\n",
      "Epoch 49/100\n",
      "54894/54894 [==============================] - 9s 166us/sample - loss: 1.5690 - val_loss: 1.9062\n",
      "Epoch 50/100\n",
      "54894/54894 [==============================] - 9s 166us/sample - loss: 1.5675 - val_loss: 1.9076\n",
      "Epoch 51/100\n",
      "54894/54894 [==============================] - 9s 168us/sample - loss: 1.5634 - val_loss: 1.9041\n",
      "Epoch 52/100\n",
      "54894/54894 [==============================] - 9s 166us/sample - loss: 1.5605 - val_loss: 1.9096\n",
      "Epoch 53/100\n",
      "54894/54894 [==============================] - 9s 172us/sample - loss: 1.5598 - val_loss: 1.9123\n",
      "Epoch 54/100\n",
      "54894/54894 [==============================] - 10s 176us/sample - loss: 1.5562 - val_loss: 1.9407\n",
      "Epoch 55/100\n",
      "54894/54894 [==============================] - 9s 169us/sample - loss: 1.5558 - val_loss: 1.9170\n",
      "Epoch 56/100\n",
      "54894/54894 [==============================] - 10s 177us/sample - loss: 1.5533 - val_loss: 1.9159\n",
      "Epoch 57/100\n",
      "54894/54894 [==============================] - 10s 183us/sample - loss: 1.5509 - val_loss: 1.9303\n",
      "Epoch 58/100\n",
      "54894/54894 [==============================] - 10s 174us/sample - loss: 1.5491 - val_loss: 1.9217\n",
      "Epoch 59/100\n",
      "54894/54894 [==============================] - 9s 170us/sample - loss: 1.5479 - val_loss: 1.9387\n",
      "Epoch 60/100\n",
      "54894/54894 [==============================] - 9s 173us/sample - loss: 1.5460 - val_loss: 1.9301\n",
      "Epoch 61/100\n",
      "54894/54894 [==============================] - 12s 223us/sample - loss: 1.5435 - val_loss: 1.9240\n",
      "Epoch 62/100\n",
      "54894/54894 [==============================] - 12s 222us/sample - loss: 1.5428 - val_loss: 1.9416\n",
      "Epoch 63/100\n",
      "54894/54894 [==============================] - 13s 231us/sample - loss: 1.5402 - val_loss: 1.9290\n",
      "Epoch 64/100\n",
      "54894/54894 [==============================] - 13s 231us/sample - loss: 1.5390 - val_loss: 1.9394\n",
      "Epoch 65/100\n"
     ]
    },
    {
     "name": "stdout",
     "output_type": "stream",
     "text": [
      "54894/54894 [==============================] - 12s 214us/sample - loss: 1.5378 - val_loss: 1.9588\n",
      "Epoch 66/100\n",
      "54894/54894 [==============================] - 10s 174us/sample - loss: 1.5363 - val_loss: 1.9343\n",
      "Epoch 67/100\n",
      "54894/54894 [==============================] - 10s 176us/sample - loss: 1.5348 - val_loss: 1.9304\n",
      "Epoch 68/100\n",
      "54894/54894 [==============================] - 9s 166us/sample - loss: 1.5331 - val_loss: 1.9291\n",
      "Epoch 69/100\n",
      "54894/54894 [==============================] - 9s 165us/sample - loss: 1.5313 - val_loss: 1.9549\n",
      "Epoch 70/100\n",
      "54894/54894 [==============================] - 9s 166us/sample - loss: 1.5291 - val_loss: 1.9394\n",
      "Epoch 71/100\n",
      "54894/54894 [==============================] - 9s 165us/sample - loss: 1.5268 - val_loss: 1.9394\n",
      "Epoch 72/100\n",
      "54894/54894 [==============================] - 9s 165us/sample - loss: 1.5265 - val_loss: 1.9373\n",
      "Epoch 73/100\n",
      "54894/54894 [==============================] - 9s 165us/sample - loss: 1.5248 - val_loss: 1.9825\n",
      "Epoch 74/100\n",
      "54894/54894 [==============================] - 9s 170us/sample - loss: 1.5235 - val_loss: 1.9608\n",
      "Epoch 75/100\n",
      "54894/54894 [==============================] - 9s 169us/sample - loss: 1.5240 - val_loss: 1.9520\n",
      "Epoch 76/100\n",
      "54894/54894 [==============================] - 9s 169us/sample - loss: 1.5201 - val_loss: 1.9452\n",
      "Epoch 77/100\n",
      "54894/54894 [==============================] - 9s 168us/sample - loss: 1.5193 - val_loss: 1.9428\n",
      "Epoch 78/100\n",
      "54894/54894 [==============================] - 9s 171us/sample - loss: 1.5203 - val_loss: 1.9681\n",
      "Epoch 79/100\n",
      "54894/54894 [==============================] - 9s 172us/sample - loss: 1.5189 - val_loss: 1.9583\n",
      "Epoch 80/100\n",
      "54894/54894 [==============================] - 10s 177us/sample - loss: 1.5167 - val_loss: 1.9557\n",
      "Epoch 81/100\n",
      "54894/54894 [==============================] - 9s 168us/sample - loss: 1.5161 - val_loss: 1.9670\n",
      "Epoch 82/100\n",
      "54894/54894 [==============================] - 9s 169us/sample - loss: 1.5150 - val_loss: 1.9527\n",
      "Epoch 83/100\n",
      "54894/54894 [==============================] - 9s 170us/sample - loss: 1.5126 - val_loss: 1.9603\n",
      "Epoch 84/100\n",
      "54894/54894 [==============================] - 9s 168us/sample - loss: 1.5127 - val_loss: 1.9679\n",
      "Epoch 85/100\n",
      "54894/54894 [==============================] - 9s 168us/sample - loss: 1.5106 - val_loss: 1.9685\n",
      "Epoch 86/100\n",
      "54894/54894 [==============================] - 9s 170us/sample - loss: 1.5104 - val_loss: 1.9622\n",
      "Epoch 87/100\n",
      "54894/54894 [==============================] - 9s 171us/sample - loss: 1.5092 - val_loss: 1.9616\n",
      "Epoch 88/100\n",
      "54894/54894 [==============================] - 9s 169us/sample - loss: 1.5074 - val_loss: 1.9657\n",
      "Epoch 89/100\n",
      "54894/54894 [==============================] - 9s 169us/sample - loss: 1.5056 - val_loss: 1.9653\n",
      "Epoch 90/100\n",
      "54894/54894 [==============================] - 9s 170us/sample - loss: 1.5057 - val_loss: 1.9775\n",
      "Epoch 91/100\n",
      "54894/54894 [==============================] - 9s 168us/sample - loss: 1.5046 - val_loss: 1.9588\n",
      "Epoch 92/100\n",
      "54894/54894 [==============================] - 9s 168us/sample - loss: 1.5048 - val_loss: 1.9632\n",
      "Epoch 93/100\n",
      "54894/54894 [==============================] - 9s 168us/sample - loss: 1.5012 - val_loss: 1.9721\n",
      "Epoch 94/100\n",
      "54894/54894 [==============================] - 9s 167us/sample - loss: 1.5024 - val_loss: 1.9927\n",
      "Epoch 95/100\n",
      "54894/54894 [==============================] - 9s 169us/sample - loss: 1.4996 - val_loss: 1.9706\n",
      "Epoch 96/100\n",
      "54894/54894 [==============================] - 9s 169us/sample - loss: 1.4989 - val_loss: 1.9734\n",
      "Epoch 97/100\n",
      "54894/54894 [==============================] - 9s 170us/sample - loss: 1.4995 - val_loss: 1.9837\n",
      "Epoch 98/100\n",
      "54894/54894 [==============================] - 9s 168us/sample - loss: 1.4985 - val_loss: 1.9736\n",
      "Epoch 99/100\n",
      "54894/54894 [==============================] - 9s 172us/sample - loss: 1.4970 - val_loss: 1.9759\n",
      "Epoch 100/100\n",
      "54894/54894 [==============================] - 9s 171us/sample - loss: 1.4965 - val_loss: 1.9797\n"
     ]
    }
   ],
   "source": [
    "from tensorflow.keras.models import Sequential\n",
    "from tensorflow.keras.layers import Dense, Embedding, Conv1D, GlobalMaxPooling1D, Flatten\n",
    "\n",
    "INPUT_LENGTH = max_length\n",
    "\n",
    "model = Sequential()\n",
    "model.add(Embedding(VOCAB_SIZE, EMBEDDING_DIM, weights=[embedding_matrix], input_length=INPUT_LENGTH, trainable=False))\n",
    "model.add(Conv1D(256, 3, padding='valid', activation='relu'))\n",
    "model.add(GlobalMaxPooling1D())\n",
    "model.add(Flatten())\n",
    "model.add(Dense(7, activation='softmax'))\n",
    "\n",
    "model.summary()\n",
    "\n",
    "model.compile(loss='sparse_categorical_crossentropy', optimizer='adam', metrix=['acc'])\n",
    "history = model.fit(X_train, y_train, validation_data=(X_test, y_test), epochs=100, batch_size=32)"
   ]
  },
  {
   "cell_type": "markdown",
   "metadata": {},
   "source": [
    "### 그래프"
   ]
  },
  {
   "cell_type": "code",
   "execution_count": 88,
   "metadata": {},
   "outputs": [
    {
     "data": {
      "image/png": "[encoded data removed]",
      "text/plain": [
       "<Figure size 432x288 with 1 Axes>"
      ]
     },
     "metadata": {
      "needs_background": "light"
     },
     "output_type": "display_data"
    }
   ],
   "source": [
    "# val 그래프\n",
    "plt.figure(\"val_graph\")\n",
    "plt.plot(history.history['loss'], 'y', label='train_loss')\n",
    "plt.plot(history.history['val_loss'],'b', label='val_loss')\n",
    "\n",
    "plt.xlabel('Epochs')\n",
    "plt.ylabel('Loss')\n",
    "plt.legend()\n",
    "plt.show()"
   ]
  },
  {
   "cell_type": "markdown",
   "metadata": {},
   "source": [
    "### test_data_tokenization"
   ]
  },
  {
   "cell_type": "code",
   "execution_count": 134,
   "metadata": {},
   "outputs": [
    {
     "name": "stdout",
     "output_type": "stream",
     "text": [
      "['취임 ', '100일', ' ', '김', '학', '도 ', '중진공 ', '이사장 ', '포스트코로나 ', '디지털혁신', '으로 ', '중소', '벤처 ', '성장 ', '지원']\n",
      "\n",
      "V1_infer [ 0.2421675   0.03730394 -0.5262478   0.5312966   0.01300814  0.03111137\n",
      " -0.35957956  0.23648357 -0.40715393  0.6428977  -0.52112985  0.03386642\n",
      " -0.40234062  0.46031618 -0.38961002  0.87212086  0.27304694 -0.13469835\n",
      " -0.16556157  0.44027072]\n"
     ]
    }
   ],
   "source": [
    "s = \"취임 100일 김학도 중진공 이사장 포스트코로나 디지털혁신으로 중소벤처 성장 지원\"\n",
    "test_data = [tokenizer.decode([num]) for num in tokenizer.encode(s)]\n",
    "v1 = d2v_model.infer_vector(test_data)\n",
    "print(test_data)\n",
    "print(\"\")\n",
    "print(\"V1_infer\", v1)"
   ]
  },
  {
   "cell_type": "code",
   "execution_count": 148,
   "metadata": {},
   "outputs": [],
   "source": [
    "v2 = pad_sequences([v1], maxlen=max_length, dtype='float64')"
   ]
  },
  {
   "cell_type": "code",
   "execution_count": 153,
   "metadata": {},
   "outputs": [
    {
     "data": {
      "text/plain": [
       "array([[ 0.        ,  0.        ,  0.        ,  0.        ,  0.        ,\n",
       "         0.        ,  0.        ,  0.        ,  0.        ,  0.        ,\n",
       "         0.        ,  0.        ,  0.        ,  0.        ,  0.        ,\n",
       "         0.        ,  0.        ,  0.        ,  0.        ,  0.        ,\n",
       "         0.        ,  0.        ,  0.        ,  0.        ,  0.        ,\n",
       "         0.        ,  0.        ,  0.        ,  0.        ,  0.        ,\n",
       "         0.        ,  0.        ,  0.        ,  0.        ,  0.        ,\n",
       "         0.        ,  0.        ,  0.        ,  0.        ,  0.        ,\n",
       "         0.        ,  0.        ,  0.        ,  0.        ,  0.        ,\n",
       "         0.        ,  0.        ,  0.        ,  0.        ,  0.        ,\n",
       "         0.        ,  0.        ,  0.        ,  0.        ,  0.        ,\n",
       "         0.        ,  0.        ,  0.        ,  0.        ,  0.        ,\n",
       "         0.        ,  0.        ,  0.        ,  0.        ,  0.        ,\n",
       "         0.        ,  0.        ,  0.        ,  0.        ,  0.        ,\n",
       "         0.        ,  0.        ,  0.        ,  0.        ,  0.        ,\n",
       "         0.2421675 ,  0.03730394, -0.5262478 ,  0.53129661,  0.01300814,\n",
       "         0.03111137, -0.35957956,  0.23648357, -0.40715393,  0.64289773,\n",
       "        -0.52112985,  0.03386642, -0.40234062,  0.46031618, -0.38961002,\n",
       "         0.87212086,  0.27304694, -0.13469835, -0.16556157,  0.44027072]])"
      ]
     },
     "execution_count": 153,
     "metadata": {},
     "output_type": "execute_result"
    }
   ],
   "source": [
    "v2"
   ]
  },
  {
   "cell_type": "code",
   "execution_count": 127,
   "metadata": {},
   "outputs": [
    {
     "data": {
      "text/plain": [
       "array([[ 0.        ,  0.        ,  0.        ,  0.        ,  0.        ,\n",
       "         0.        ,  0.        ,  0.        ,  0.        ,  0.        ,\n",
       "         0.        ,  0.        ,  0.        ,  0.        ,  0.        ,\n",
       "         0.        ,  0.        ,  0.        ,  0.        ,  0.        ,\n",
       "         0.        ,  0.        ,  0.        ,  0.        ,  0.        ,\n",
       "         0.        ,  0.        ,  0.        ,  0.        ,  0.        ,\n",
       "         0.        ,  0.        ,  0.        ,  0.        ,  0.        ,\n",
       "         0.        ,  0.        ,  0.        ,  0.        ,  0.        ,\n",
       "         0.        ,  0.        ,  0.        ,  0.        ,  0.        ,\n",
       "         0.        ,  0.        ,  0.        ,  0.        ,  0.        ,\n",
       "         0.        ,  0.        ,  0.        ,  0.        ,  0.        ,\n",
       "         0.        ,  0.        ,  0.        ,  0.        ,  0.        ,\n",
       "         0.        ,  0.        ,  0.        ,  0.        ,  0.        ,\n",
       "         0.        ,  0.        ,  0.        ,  0.        ,  0.        ,\n",
       "         0.        ,  0.        ,  0.        ,  0.        ,  0.        ,\n",
       "         0.36726287,  0.0199274 , -0.45648801,  0.26246393, -0.0835887 ,\n",
       "        -0.08113948, -0.17526066,  0.14768106, -0.21617764,  0.38069361,\n",
       "        -0.10695288,  0.09472126, -0.30456316,  0.16261096, -0.07397658,\n",
       "         0.69646776,  0.14357385,  0.02754358, -0.17662981,  0.3180269 ]])"
      ]
     },
     "execution_count": 127,
     "metadata": {},
     "output_type": "execute_result"
    }
   ],
   "source": [
    "v2"
   ]
  },
  {
   "cell_type": "markdown",
   "metadata": {},
   "source": [
    "### predict"
   ]
  },
  {
   "cell_type": "code",
   "execution_count": 154,
   "metadata": {},
   "outputs": [
    {
     "data": {
      "text/plain": [
       "array([0], dtype=int64)"
      ]
     },
     "execution_count": 154,
     "metadata": {},
     "output_type": "execute_result"
    }
   ],
   "source": [
    "result = model.predict_classes(v2)\n",
    "result"
   ]
  }
 ],
 "metadata": {
  "kernelspec": {
   "display_name": "Python 3",
   "language": "python",
   "name": "python3"
  }
 },
 "nbformat": 4,
 "nbformat_minor": 4
}

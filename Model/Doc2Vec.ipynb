{
 "cells": [
  {
   "cell_type": "markdown",
   "metadata": {},
   "source": [
    "### data load"
   ]
  },
  {
   "cell_type": "code",
   "execution_count": 211,
   "metadata": {},
   "outputs": [
    {
     "data": {
      "text/html": [
       "<div>\n",
       "<style scoped>\n",
       "    .dataframe tbody tr th:only-of-type {\n",
       "        vertical-align: middle;\n",
       "    }\n",
       "\n",
       "    .dataframe tbody tr th {\n",
       "        vertical-align: top;\n",
       "    }\n",
       "\n",
       "    .dataframe thead th {\n",
       "        text-align: right;\n",
       "    }\n",
       "</style>\n",
       "<table border=\"1\" class=\"dataframe\">\n",
       "  <thead>\n",
       "    <tr style=\"text-align: right;\">\n",
       "      <th></th>\n",
       "      <th>section</th>\n",
       "      <th>news_id</th>\n",
       "      <th>title</th>\n",
       "      <th>dateline</th>\n",
       "      <th>provider</th>\n",
       "      <th>category</th>\n",
       "      <th>link</th>\n",
       "      <th>similarity</th>\n",
       "      <th>raw_stream</th>\n",
       "    </tr>\n",
       "  </thead>\n",
       "  <tbody>\n",
       "    <tr>\n",
       "      <th>0</th>\n",
       "      <td>SIS developer</td>\n",
       "      <td>1200101.202</td>\n",
       "      <td>경기도일자리재단, 지역사회와 함께하는 '외부 네트워크 청렴 캠페인'</td>\n",
       "      <td>2020-09-17T14:15:05.000+09:00</td>\n",
       "      <td>경기일보</td>\n",
       "      <td>['지역&gt;울산', '지역&gt;부산', '지역&gt;경기']</td>\n",
       "      <td>www.kyeonggi.com/news/articleView.html?idxno=2...</td>\n",
       "      <td>코로나 유재석 지역사회 전형수 참여자 일자리 경기도일자리재단 부천 킨텍스 김문수 조...</td>\n",
       "      <td>경기도일자리재단 지역사회 외부 네트워크 청렴 캠페인 경기도일자리재단 확산 지역 사회...</td>\n",
       "    </tr>\n",
       "    <tr>\n",
       "      <th>1</th>\n",
       "      <td>SW developer</td>\n",
       "      <td>1200101.202</td>\n",
       "      <td>이천시 코로나19 관련 전화 한통으로 청사출입 가능한 시스템 운영</td>\n",
       "      <td>2020-09-15T15:10:13.000+09:00</td>\n",
       "      <td>경기일보</td>\n",
       "      <td>['지역&gt;경남', '지역&gt;충남', '지역&gt;제주']</td>\n",
       "      <td>www.kyeonggi.com/news/articleView.html?idxno=2...</td>\n",
       "      <td>코로나 이천시 행정복지센터 엄태준 전화번호 민원인 사업소 출입일시 출입관리 출입 전...</td>\n",
       "      <td>이천시 코로나19 전화 청사 출입 가능 운영 이천시 전화 방문 출입관리 출입 관리 ...</td>\n",
       "    </tr>\n",
       "    <tr>\n",
       "      <th>2</th>\n",
       "      <td>AI developer</td>\n",
       "      <td>1200101.202</td>\n",
       "      <td>부천시 ITS구축 공모 선정… AI융합 핵심도시 기반 강화</td>\n",
       "      <td>2020-09-15T11:39:44.000+09:00</td>\n",
       "      <td>경기일보</td>\n",
       "      <td>['지역&gt;경기', '지역&gt;충남', '지역&gt;대전']</td>\n",
       "      <td>www.kyeonggi.com/news/articleView.html?idxno=2...</td>\n",
       "      <td>부천시 교통혁신도시 스마트도시 보행자 ai 지능형 교통체계 장덕천 사업비 교통정보 ...</td>\n",
       "      <td>부천시 구축 공모 선정 AI 융합 핵심 도시 강화 부천시 추진 교통혁신도시 최고 교...</td>\n",
       "    </tr>\n",
       "    <tr>\n",
       "      <th>3</th>\n",
       "      <td>SW developer</td>\n",
       "      <td>1200101.202</td>\n",
       "      <td>구리시 지능형 교통시스템 도입으로 출·퇴근길 교통체증 해결</td>\n",
       "      <td>2020-09-14T19:26:21.000+09:00</td>\n",
       "      <td>경기일보</td>\n",
       "      <td>['지역&gt;충남', '지역&gt;강원', '지역&gt;경기']</td>\n",
       "      <td>www.kyeonggi.com/news/articleView.html?idxno=2...</td>\n",
       "      <td>출퇴근길 구리시 아차산로 공모사업 교통시스템 지자체 교차로 실시간 사거리 교문사거리...</td>\n",
       "      <td>교통시스템 구리시 지능 교통 퇴근길 교통 체증 해결 구리시 국토부 주관 공모사업 지...</td>\n",
       "    </tr>\n",
       "    <tr>\n",
       "      <th>4</th>\n",
       "      <td>SW developer</td>\n",
       "      <td>1200101.202</td>\n",
       "      <td>고양시 안심콜 출입관리 시스템 전국 확대 시행</td>\n",
       "      <td>2020-09-14T16:15:39.000+09:00</td>\n",
       "      <td>경기일보</td>\n",
       "      <td>['IT_과학&gt;보안']</td>\n",
       "      <td>www.kyeonggi.com/news/articleView.html?idxno=2...</td>\n",
       "      <td>안심콜 고양시 전화번호 코로나 이재준 중대본 출입관리 정보취약 정보취약계층 고양 중...</td>\n",
       "      <td>출입관리 시행 고양시 안심콜 출입 관리 전국 확대 고양시 전국 안심콜 출입 관리 안...</td>\n",
       "    </tr>\n",
       "  </tbody>\n",
       "</table>\n",
       "</div>"
      ],
      "text/plain": [
       "        section       news_id                                  title  \\\n",
       "0  SIS developer  1200101.202  경기도일자리재단, 지역사회와 함께하는 '외부 네트워크 청렴 캠페인'   \n",
       "1   SW developer  1200101.202   이천시 코로나19 관련 전화 한통으로 청사출입 가능한 시스템 운영   \n",
       "2   AI developer  1200101.202       부천시 ITS구축 공모 선정… AI융합 핵심도시 기반 강화   \n",
       "3   SW developer  1200101.202       구리시 지능형 교통시스템 도입으로 출·퇴근길 교통체증 해결   \n",
       "4   SW developer  1200101.202              고양시 안심콜 출입관리 시스템 전국 확대 시행   \n",
       "\n",
       "                        dateline provider                     category  \\\n",
       "0  2020-09-17T14:15:05.000+09:00     경기일보  ['지역>울산', '지역>부산', '지역>경기']   \n",
       "1  2020-09-15T15:10:13.000+09:00     경기일보  ['지역>경남', '지역>충남', '지역>제주']   \n",
       "2  2020-09-15T11:39:44.000+09:00     경기일보  ['지역>경기', '지역>충남', '지역>대전']   \n",
       "3  2020-09-14T19:26:21.000+09:00     경기일보  ['지역>충남', '지역>강원', '지역>경기']   \n",
       "4  2020-09-14T16:15:39.000+09:00     경기일보                 ['IT_과학>보안']   \n",
       "\n",
       "                                                link  \\\n",
       "0  www.kyeonggi.com/news/articleView.html?idxno=2...   \n",
       "1  www.kyeonggi.com/news/articleView.html?idxno=2...   \n",
       "2  www.kyeonggi.com/news/articleView.html?idxno=2...   \n",
       "3  www.kyeonggi.com/news/articleView.html?idxno=2...   \n",
       "4  www.kyeonggi.com/news/articleView.html?idxno=2...   \n",
       "\n",
       "                                          similarity  \\\n",
       "0  코로나 유재석 지역사회 전형수 참여자 일자리 경기도일자리재단 부천 킨텍스 김문수 조...   \n",
       "1  코로나 이천시 행정복지센터 엄태준 전화번호 민원인 사업소 출입일시 출입관리 출입 전...   \n",
       "2  부천시 교통혁신도시 스마트도시 보행자 ai 지능형 교통체계 장덕천 사업비 교통정보 ...   \n",
       "3  출퇴근길 구리시 아차산로 공모사업 교통시스템 지자체 교차로 실시간 사거리 교문사거리...   \n",
       "4  안심콜 고양시 전화번호 코로나 이재준 중대본 출입관리 정보취약 정보취약계층 고양 중...   \n",
       "\n",
       "                                          raw_stream  \n",
       "0  경기도일자리재단 지역사회 외부 네트워크 청렴 캠페인 경기도일자리재단 확산 지역 사회...  \n",
       "1  이천시 코로나19 전화 청사 출입 가능 운영 이천시 전화 방문 출입관리 출입 관리 ...  \n",
       "2  부천시 구축 공모 선정 AI 융합 핵심 도시 강화 부천시 추진 교통혁신도시 최고 교...  \n",
       "3  교통시스템 구리시 지능 교통 퇴근길 교통 체증 해결 구리시 국토부 주관 공모사업 지...  \n",
       "4  출입관리 시행 고양시 안심콜 출입 관리 전국 확대 고양시 전국 안심콜 출입 관리 안...  "
      ]
     },
     "execution_count": 211,
     "metadata": {},
     "output_type": "execute_result"
    }
   ],
   "source": [
    "import pandas as pd\n",
    "import numpy as np\n",
    "import re\n",
    "\n",
    "news_data = pd.read_csv('18.01~20.09.csv', encoding='cp949')\n",
    "news_data.head(5)"
   ]
  },
  {
   "cell_type": "code",
   "execution_count": 5,
   "metadata": {},
   "outputs": [
    {
     "name": "stdout",
     "output_type": "stream",
     "text": [
      "<class 'pandas.core.frame.DataFrame'>\n",
      "RangeIndex: 94527 entries, 0 to 94526\n",
      "Data columns (total 9 columns):\n",
      " #   Column      Non-Null Count  Dtype  \n",
      "---  ------      --------------  -----  \n",
      " 0   section     94527 non-null  object \n",
      " 1   news_id     94527 non-null  float64\n",
      " 2   title       94527 non-null  object \n",
      " 3   dateline    94527 non-null  object \n",
      " 4   provider    94527 non-null  object \n",
      " 5   category    94527 non-null  object \n",
      " 6   link        90544 non-null  object \n",
      " 7   similarity  94527 non-null  object \n",
      " 8   raw_stream  94527 non-null  object \n",
      "dtypes: float64(1), object(8)\n",
      "memory usage: 6.5+ MB\n"
     ]
    }
   ],
   "source": [
    "news_data.info()"
   ]
  },
  {
   "cell_type": "markdown",
   "metadata": {},
   "source": [
    "### 데이터 전처리"
   ]
  },
  {
   "cell_type": "code",
   "execution_count": 175,
   "metadata": {},
   "outputs": [],
   "source": [
    "from gensim.models.doc2vec import Doc2Vec, TaggedDocument\n",
    "from konlpy.tag import Okt, Kkma"
   ]
  },
  {
   "cell_type": "code",
   "execution_count": 212,
   "metadata": {
    "scrolled": true
   },
   "outputs": [
    {
     "name": "stderr",
     "output_type": "stream",
     "text": [
      "C:\\Users\\MyLaptop\\anaconda3\\lib\\site-packages\\ipykernel_launcher.py:3: SettingWithCopyWarning: \n",
      "A value is trying to be set on a copy of a slice from a DataFrame\n",
      "\n",
      "See the caveats in the documentation: https://pandas.pydata.org/pandas-docs/stable/user_guide/indexing.html#returning-a-view-versus-a-copy\n",
      "  This is separate from the ipykernel package so we can avoid doing imports until\n",
      "C:\\Users\\MyLaptop\\anaconda3\\lib\\site-packages\\ipykernel_launcher.py:5: SettingWithCopyWarning: \n",
      "A value is trying to be set on a copy of a slice from a DataFrame\n",
      "\n",
      "See the caveats in the documentation: https://pandas.pydata.org/pandas-docs/stable/user_guide/indexing.html#returning-a-view-versus-a-copy\n",
      "  \"\"\"\n",
      "C:\\Users\\MyLaptop\\anaconda3\\lib\\site-packages\\ipykernel_launcher.py:11: SettingWithCopyWarning: \n",
      "A value is trying to be set on a copy of a slice from a DataFrame\n",
      "\n",
      "See the caveats in the documentation: https://pandas.pydata.org/pandas-docs/stable/user_guide/indexing.html#returning-a-view-versus-a-copy\n",
      "  # This is added back by InteractiveShellApp.init_path()\n",
      "C:\\Users\\MyLaptop\\anaconda3\\lib\\site-packages\\ipykernel_launcher.py:7: SettingWithCopyWarning: \n",
      "A value is trying to be set on a copy of a slice from a DataFrame\n",
      "\n",
      "See the caveats in the documentation: https://pandas.pydata.org/pandas-docs/stable/user_guide/indexing.html#returning-a-view-versus-a-copy\n",
      "  import sys\n"
     ]
    }
   ],
   "source": [
    "for idx in range(len(news_data)):\n",
    "    if len(news_data['raw_stream'][idx]) < 200:\n",
    "        news_data['raw_stream'][idx] = np.nan\n",
    "    if news_data['title'][idx].find('%') != -1 :\n",
    "        news_data['title'][idx] = np.nan\n",
    "    elif news_data['title'][idx].find('코', 1) == 1:\n",
    "        news_data['title'][idx] = np.nan\n",
    "    elif news_data['title'][idx].find('코', 1) == 1:\n",
    "        news_data['title'][idx] = np.nan\n",
    "    elif news_data['title'][idx].find('유', 1) == 1:\n",
    "        news_data['title'][idx] = np.nan\n",
    "    elif news_data['title'][idx].find('유', 1) == 1:\n",
    "        news_data['title'][idx] = np.nan"
   ]
  },
  {
   "cell_type": "code",
   "execution_count": 213,
   "metadata": {},
   "outputs": [
    {
     "name": "stdout",
     "output_type": "stream",
     "text": [
      "<class 'pandas.core.frame.DataFrame'>\n",
      "RangeIndex: 94527 entries, 0 to 94526\n",
      "Data columns (total 9 columns):\n",
      " #   Column      Non-Null Count  Dtype  \n",
      "---  ------      --------------  -----  \n",
      " 0   section     94527 non-null  object \n",
      " 1   news_id     94527 non-null  float64\n",
      " 2   title       89972 non-null  object \n",
      " 3   dateline    94527 non-null  object \n",
      " 4   provider    94527 non-null  object \n",
      " 5   category    94527 non-null  object \n",
      " 6   link        90544 non-null  object \n",
      " 7   similarity  94527 non-null  object \n",
      " 8   raw_stream  87066 non-null  object \n",
      "dtypes: float64(1), object(8)\n",
      "memory usage: 6.5+ MB\n"
     ]
    }
   ],
   "source": [
    "news_data.info()"
   ]
  },
  {
   "cell_type": "code",
   "execution_count": 214,
   "metadata": {},
   "outputs": [],
   "source": [
    "news_data = news_data.dropna(axis=0)"
   ]
  },
  {
   "cell_type": "code",
   "execution_count": 215,
   "metadata": {},
   "outputs": [
    {
     "name": "stdout",
     "output_type": "stream",
     "text": [
      "<class 'pandas.core.frame.DataFrame'>\n",
      "Int64Index: 79779 entries, 0 to 94526\n",
      "Data columns (total 9 columns):\n",
      " #   Column      Non-Null Count  Dtype  \n",
      "---  ------      --------------  -----  \n",
      " 0   section     79779 non-null  object \n",
      " 1   news_id     79779 non-null  float64\n",
      " 2   title       79779 non-null  object \n",
      " 3   dateline    79779 non-null  object \n",
      " 4   provider    79779 non-null  object \n",
      " 5   category    79779 non-null  object \n",
      " 6   link        79779 non-null  object \n",
      " 7   similarity  79779 non-null  object \n",
      " 8   raw_stream  79779 non-null  object \n",
      "dtypes: float64(1), object(8)\n",
      "memory usage: 6.1+ MB\n"
     ]
    }
   ],
   "source": [
    "news_data.info()"
   ]
  },
  {
   "cell_type": "code",
   "execution_count": 216,
   "metadata": {},
   "outputs": [],
   "source": [
    "news_data = news_data.reset_index()"
   ]
  },
  {
   "cell_type": "code",
   "execution_count": 12,
   "metadata": {},
   "outputs": [
    {
     "name": "stdout",
     "output_type": "stream",
     "text": [
      "['경기도일자리재단', '지역사회', '외부', '네트워크', '청렴', '캠페인', '경기도일자리재단', '확산', '지역', '사회', '청렴', '문화', '원미노인복지관', '부천', '원미', '노인', '복지관', '외부', '네트워크', '청렴', '캠페인', '행사', '진행', '공직자', '양심', '청렴', '국민', '건강', '청결', '주제', '진행', '행사', '취지', '설명', '공익신고제', '청탁금지제도', '청렴정책', '안내', '순서', '진행', '면역', '취약', '계층', '세정제', '핸드크림', '구성', '100개', '개인', '위생', '용품', '세트', '기부', '지역', '주민', '코로나19', '응원', '메시지', '전달', '상임감사', '유재석', '경기도', '일자리', '재단', '상임', '감사', '재단', '역할', '도민', '일자리', '사회', '책임', '강조', '지역사회', '기여', '청렴', '활동', '기관', '청렴의지', '조직', '내부', '지역사회', '확산', '유재석', '상임', '감사', '스트롱', '이날', '스테이', 'Stay', 'Strong', '캠페인', '참여', '캠페인', '외교', '코로나19', '극복', '응원', '시작', '공익', '캠페인', 'SNS', '코로나19', '극복', '메시지', '팻말', '사진', '참여자', '지목', '방식', '진행', '유재석', '상임', '감사', '메시지', '코로나19', '극복', '재단', '임직원', '주민들', '전달', '참여자', '관리부사장', '조승문', '킨텍스', '관리', '부사장', '상임이사', '김문수', '경기신용보증재단', '상임', '이사', '경영기획본부장', '전형수', '경기', '주택', '도시공사', '경영', '기획', '본부장', '3명', '지목']\n"
     ]
    }
   ],
   "source": [
    "for i, _d in enumerate(news_data['raw_stream']):\n",
    "    print(_d.split(\" \"))\n",
    "    break"
   ]
  },
  {
   "cell_type": "markdown",
   "metadata": {},
   "source": [
    "### 태깅작업"
   ]
  },
  {
   "cell_type": "code",
   "execution_count": 217,
   "metadata": {},
   "outputs": [],
   "source": [
    "tagged_data = [TaggedDocument(words=[word.lower() for word in _d.split(\" \")], \n",
    "                              tags=[str(i)]) for i, _d in enumerate(news_data['raw_stream'])]"
   ]
  },
  {
   "cell_type": "code",
   "execution_count": 122,
   "metadata": {
    "scrolled": true
   },
   "outputs": [
    {
     "data": {
      "text/plain": [
       "[TaggedDocument(words=['경기도일자리재단', '지역사회', '외부', '네트워크', '청렴', '캠페인', '경기도일자리재단', '확산', '지역', '사회', '청렴', '문화', '원미노인복지관', '부천', '원미', '노인', '복지관', '외부', '네트워크', '청렴', '캠페인', '행사', '진행', '공직자', '양심', '청렴', '국민', '건강', '청결', '주제', '진행', '행사', '취지', '설명', '공익신고제', '청탁금지제도', '청렴정책', '안내', '순서', '진행', '면역', '취약', '계층', '세정제', '핸드크림', '구성', '100개', '개인', '위생', '용품', '세트', '기부', '지역', '주민', '코로나19', '응원', '메시지', '전달', '상임감사', '유재석', '경기도', '일자리', '재단', '상임', '감사', '재단', '역할', '도민', '일자리', '사회', '책임', '강조', '지역사회', '기여', '청렴', '활동', '기관', '청렴의지', '조직', '내부', '지역사회', '확산', '유재석', '상임', '감사', '스트롱', '이날', '스테이', 'stay', 'strong', '캠페인', '참여', '캠페인', '외교', '코로나19', '극복', '응원', '시작', '공익', '캠페인', 'sns', '코로나19', '극복', '메시지', '팻말', '사진', '참여자', '지목', '방식', '진행', '유재석', '상임', '감사', '메시지', '코로나19', '극복', '재단', '임직원', '주민들', '전달', '참여자', '관리부사장', '조승문', '킨텍스', '관리', '부사장', '상임이사', '김문수', '경기신용보증재단', '상임', '이사', '경영기획본부장', '전형수', '경기', '주택', '도시공사', '경영', '기획', '본부장', '3명', '지목'], tags=['0']),\n",
       " TaggedDocument(words=['부천시', '구축', '공모', '선정', 'ai', '융합', '핵심', '도시', '강화', '부천시', '추진', '교통혁신도시', '최고', '교통', '혁신', '도시', '국가전략적', '지능형', '교통체계', '모델', '도시', '구축', '속도', '국토교통부', '주관', '지능형', '내년', '지자체', '지능', '교통체계', '구축', '공모', '사업', '선정', '국비', '확보', '교통', '체계', '과학', '자동차', '교통', '효율', '안전', '향상', '전자', '제어', '통신', '스마트기술', '접목', '차세대', '교통', '국비', '시비', '410억', '수준', '최고', '교통혁신도시', '조성', '15일', '사업비', '확보', '국비', '교통정보', '영상', '수집', '구축', '최적', '신호', '운영', '제어프로그램', '향상', '교통', '소통', '통행', '시간', '절감', '도약', '기틀', '내년', '자율', '주행', '환경', '단계별', '신호', '안전', '돌발', '보행자충돌', '준비', '원활', '안전', '교통환경', '제공', '계획', '장기적', '전국', '밀도', '보유', '방범', '교통', 'cctv', 'ai', '융합', '혁신', '도시', '도약', '추진', '방범', 'cctv', '영상', '생활도', '사람', '이동', '교통', 'cctv', '영상', '단일로', '제외', '차량', '보행자', '이동', 'ai융합기술', '미아', '치매환자', '실종자', '사회', '약자', '범죄', '감염자', '추적', '관리', '방법', '장덕천', '부천', '시장', '내년', '부천시', '8월', '통합관제시스템', '추진', 'ai', '교통', '주차', '안전', '복지정책', '스마트', '도시', '운영', '공유경제플랫폼', '결합', '스마트', '도시', '건설', '구성', '부천시', '산업', '혁명', '시대', '세계', '교통', '혁신', '도시', '스마트도시', '성장', '기회'], tags=['1']),\n",
       " TaggedDocument(words=['교통시스템', '구리시', '지능', '교통', '퇴근길', '교통', '체증', '해결', '구리시', '국토부', '주관', '공모사업', '지자체', '국고', '지원', '공모', '사업', '선정', '국비', '확보', '14일', '출퇴근길', '아차산로', '해소', '교차로', '교통', '체증', '만성적', '출퇴근길', '교통', '체증', '발생', '교문사거리', '워커힐', '아차산로', '지능', '교통', '구간', '지능', '교통', '설치', '효율적', '교통', '흐름', '통제', '정체', '구간', '교통정보', '실시간', '자동', '신호', '주기', '우회', '도로', '안내', '운전자', '안전', '편의', '제공', '출퇴근길', '교통', '체증', '해소', '안승남', '구리시장', '공모사업', '지능', '교통', '공모', '사업', '참여', '국비', '지원', '내년', '개선', '구간', '교통', '체증'], tags=['2']),\n",
       " TaggedDocument(words=['출입관리', '시행', '고양시', '안심콜', '출입', '관리', '전국', '확대', '고양시', '전국', '안심콜', '출입', '관리', '안심콜', '전국', '확대', '시행', '중대본', '중앙재난안전대책본부', '회의', '안심콜', '사례', '방역', '우수', '소개', '11일', '개인정보보호위원회', '강화', '코로나19', '개인', '정보', '보호', '대책', '안심콜', '설명', '확산', '적용', '계획', '안심콜', '지정', '전화번호', '전화', '출입자', '전화번호', '방문일시', '기록', '시청', '서버', '자동', '저장', '4주', '자동', '삭제', '개인', '정보', '유출', '수기', '명부', '작성', '어르신', '정보취약계층', '사용', 'qr', '코드', '단점', '해결', '평가', '이재준', '고양', '시장', '국가', '세계', '표준', '선별진료소', '드라이브', '스루', '선별', '진료소', '안심콜', '고양시', '표준', '아이디어', '시민', '행정', '실천'], tags=['3']),\n",
       " TaggedDocument(words=['인천', '서구', '언택트', '방식', '챗봇', '챗봇', '인천', '서구', '언택트', '방식', '챗봇', '14일', 'ai', '빅데이터', '중간보고회', '지능', '민원', '상담', '중간', '보고회', '언어', 'ai', '인공지능', '대표주자', '챗봇', '민원', '상담', '업무', '접목', '중단', '시간', '상담', '가능', '계획', '오픈', '챗봇', '소통', '행정', '전면', '야심작', '모바일', '중심', '민원', '소통', '부속', '사업', '이목', '서구', '관계자', '챗봇', '일반적', '구정', '현황', '물론', '주차', '교통', '환경', '분야', '민원상담', '가능', '전국', '날씨', '변화', '일상대화', '감성상담', '구축', '고도화', '향후', '단계', '고도', '구정', '분야', '상담', '음성', '플랫폼', '구축', '정보취약계층', '편리', '이용', '계획'], tags=['4'])]"
      ]
     },
     "execution_count": 122,
     "metadata": {},
     "output_type": "execute_result"
    }
   ],
   "source": [
    "tagged_data[:5]"
   ]
  },
  {
   "cell_type": "code",
   "execution_count": 218,
   "metadata": {},
   "outputs": [
    {
     "data": {
      "text/plain": [
       "79779"
      ]
     },
     "execution_count": 218,
     "metadata": {},
     "output_type": "execute_result"
    }
   ],
   "source": [
    "len(tagged_data)"
   ]
  },
  {
   "cell_type": "markdown",
   "metadata": {},
   "source": [
    "## doc2vec model"
   ]
  },
  {
   "cell_type": "code",
   "execution_count": 219,
   "metadata": {
    "scrolled": false
   },
   "outputs": [
    {
     "name": "stderr",
     "output_type": "stream",
     "text": [
      "C:\\Users\\MyLaptop\\anaconda3\\lib\\site-packages\\gensim\\models\\doc2vec.py:319: UserWarning: The parameter `size` is deprecated, will be removed in 4.0.0, use `vector_size` instead.\n",
      "  warnings.warn(\"The parameter `size` is deprecated, will be removed in 4.0.0, use `vector_size` instead.\")\n"
     ]
    },
    {
     "name": "stdout",
     "output_type": "stream",
     "text": [
      "iteration 0\n"
     ]
    },
    {
     "name": "stderr",
     "output_type": "stream",
     "text": [
      "C:\\Users\\MyLaptop\\anaconda3\\lib\\site-packages\\ipykernel_launcher.py:18: DeprecationWarning: Call to deprecated `iter` (Attribute will be removed in 4.0.0, use self.epochs instead).\n",
      "WARNING:gensim.models.base_any2vec:Effective 'alpha' higher than previous training cycles\n"
     ]
    },
    {
     "name": "stdout",
     "output_type": "stream",
     "text": [
      "iteration 1\n",
      "iteration 2\n",
      "iteration 3\n",
      "iteration 4\n",
      "iteration 5\n",
      "iteration 6\n",
      "iteration 7\n",
      "iteration 8\n",
      "iteration 9\n",
      "iteration 10\n",
      "iteration 11\n",
      "iteration 12\n",
      "iteration 13\n",
      "iteration 14\n",
      "iteration 15\n",
      "iteration 16\n",
      "iteration 17\n",
      "iteration 18\n",
      "iteration 19\n",
      "iteration 20\n",
      "iteration 21\n",
      "iteration 22\n",
      "iteration 23\n",
      "iteration 24\n",
      "iteration 25\n",
      "iteration 26\n",
      "iteration 27\n",
      "iteration 28\n",
      "iteration 29\n",
      "iteration 30\n",
      "iteration 31\n",
      "iteration 32\n",
      "iteration 33\n",
      "iteration 34\n",
      "iteration 35\n",
      "iteration 36\n",
      "iteration 37\n",
      "iteration 38\n",
      "iteration 39\n",
      "iteration 40\n",
      "iteration 41\n",
      "iteration 42\n",
      "iteration 43\n",
      "iteration 44\n",
      "iteration 45\n",
      "iteration 46\n",
      "iteration 47\n",
      "iteration 48\n",
      "iteration 49\n",
      "Model Saved\n"
     ]
    }
   ],
   "source": [
    "max_epochs = 50\n",
    "vec_size = 100\n",
    "alpha = 0.025\n",
    "\n",
    "d2v_model = Doc2Vec(windows = 5,\n",
    "                size=vec_size,\n",
    "                alpha=alpha, \n",
    "                min_alpha=0.00025,\n",
    "                min_count=10,\n",
    "                dm =1)\n",
    "  \n",
    "d2v_model.build_vocab(tagged_data)\n",
    "\n",
    "for epoch in range(max_epochs):\n",
    "    print('iteration {0}'.format(epoch))\n",
    "    d2v_model.train(tagged_data,\n",
    "                total_examples=d2v_model.corpus_count,\n",
    "                epochs=d2v_model.iter)\n",
    "    # decrease the learning rate\n",
    "    d2v_model.alpha -= 0.0002\n",
    "    # fix the learning rate, no decay\n",
    "    d2v_model.min_alpha = d2v_model.alpha\n",
    "\n",
    "d2v_model.save(\"d2v.model\")\n",
    "print(\"Model Saved\")"
   ]
  },
  {
   "cell_type": "markdown",
   "metadata": {},
   "source": [
    "### test_input_data"
   ]
  },
  {
   "cell_type": "code",
   "execution_count": 220,
   "metadata": {},
   "outputs": [],
   "source": [
    "s2 = '''\n",
    "SK텔레콤은 자사의 국민 내비게이션 서비스 T맵의 빅데이터를 기반으로 고객들에게 맞춤형 맛집을 추천하는 T맵 미식로드가 출시 2달 만에 이용 횟수 100만 건을 돌파했다고 17일 밝혔다\n",
    "T맵 미식로드는 연간 1800만 명이 사용하는 T맵에 5년간 쌓인 18억개 빅데이터를 기반으로 맛집을 추천하는 서비스로 리뷰나 별점이 아닌 실제 방문 데이터를 활용해 고객에게 맛집 탐방의 즐거움을 제공하기 위해 출시했다\n",
    "SKT는 이번 T맵 미식로드의 누적 100만 달성은 맛집에 대한 정보가 넘치는 상황에서 방문 횟수라는 신뢰할 수 있는 기준과 빅데이터를 기반으로 고객에게 맛집을 추천, 고객의 식문화 소비 편의를 높인 것이 인정받은 결과라고 밝혔다\n",
    "T맵 미식로드 이용자 분석 결과 고객들이 가장 선호하는 맛집의 유형은 유명 맛집과 현지인이 자주 찾는 맛집으로 파악됐다 이용 고객의 약 27 는 유명 맛집을 약 22는 현지인이 자주찾는 맛집을 선택했다 또한 고객들은 주로 연인 배우자와 함께 외식을 나설 때 맛집 추천 서비스를 이용하는 것으로 파악됐다\n",
    "또한 T맵 미식로드 이용 고객들은 영덕의 대게 구례의 재첩 등 지역 특산물을 맛보기 위해서라면 40km가 넘는 먼 거리의 이동도 감수하며 적극적으로 방문하는 것으로 나타났다\n",
    "평균 이동 거리가 가장 긴 음식점은 경북 영덕군에 위치한 강구항대게직판장과 전남 구례군에 위치한 섬진강재첩국수로 이곳에 방문한 고객은 평균 40km 이상을 이동한 것으로 확인됐다\n",
    "평균 이동거리가 가장 긴 상위 10개 음식점 방문 시 고객들은 평균 38km의 거리를 이동했으며 상위 10개 맛집은 횡성의 한우 맛집, 춘천의 닭갈비 맛집 인제의 황태 맛집 등 지역 특산물 맛집이 주를 이뤘다\n",
    "또한 여성보다 남성의 이용이 많으며 연령별로는 40대의 이용이 가장 많았다. 이는, T맵 미식로드가 내비게이션 기반 서비스이기 때문인 것으로 추정된다\n",
    "또한 업종별로 사람들이 많이 찾는 시간이 다른 것도 확인할 수 있었다 고깃집은 저녁 시간인 17 19시에 약 40  점심 시간인 11 12시에 약 16 의 고객이 방문했다 저녁 시간에 사람이 가장 붐볐지만 점심시간에도 꽤 많은 고객들이 고깃집을 방문했다\n",
    "이와 반대로 중국 음식점은 점심 시간인 11 13시에 약 38 저녁 시간인 17 18시에 18 의 고객이 방문했다 카페의 경우 전 시간대에 고르게 방문하는 것으로 파악됐다\n",
    "송광현 SK텔레콤 PR2실장은 T맵 미식로드를 통해 더 많은 고객들이 새로운 경험과 즐거움을 느끼기를 기대한다며 앞으로도 빅데이터 역량을 활용해 고객에게 새로운 가치를 제공하기 위해 최선을 다할 것이라고 밝혔다\n",
    "'''"
   ]
  },
  {
   "cell_type": "code",
   "execution_count": 221,
   "metadata": {},
   "outputs": [],
   "source": [
    "s2 = s2.replace(\"\\n\", \"\")"
   ]
  },
  {
   "cell_type": "code",
   "execution_count": 222,
   "metadata": {},
   "outputs": [],
   "source": [
    "s2 = s2.replace(\"[^\\w]\", \"\")"
   ]
  },
  {
   "cell_type": "code",
   "execution_count": 242,
   "metadata": {},
   "outputs": [
    {
     "data": {
      "text/plain": [
       "'SK텔레콤은 자사의 국민 내비게이션 서비스 T맵의 빅데이터를 기반으로 고객들에게 맞춤형 맛집을 추천하는 T맵 미식로드가 출시 2달 만에 이용 횟수 100만 건을 돌파했다고 17일 밝혔다T맵 미식로드는 연간 1800만 명이 사용하는 T맵에 5년간 쌓인 18억개 빅데이터를 기반으로 맛집을 추천하는 서비스로 리뷰나 별점이 아닌 실제 방문 데이터를 활용해 고객에게 맛집 탐방의 즐거움을 제공하기 위해 출시했다SKT는 이번 T맵 미식로드의 누적 100만 달성은 맛집에 대한 정보가 넘치는 상황에서 방문 횟수라는 신뢰할 수 있는 기준과 빅데이터를 기반으로 고객에게 맛집을 추천, 고객의 식문화 소비 편의를 높인 것이 인정받은 결과라고 밝혔다T맵 미식로드 이용자 분석 결과 고객들이 가장 선호하는 맛집의 유형은 유명 맛집과 현지인이 자주 찾는 맛집으로 파악됐다 이용 고객의 약 27 는 유명 맛집을 약 22는 현지인이 자주찾는 맛집을 선택했다 또한 고객들은 주로 연인 배우자와 함께 외식을 나설 때 맛집 추천 서비스를 이용하는 것으로 파악됐다또한 T맵 미식로드 이용 고객들은 영덕의 대게 구례의 재첩 등 지역 특산물을 맛보기 위해서라면 40km가 넘는 먼 거리의 이동도 감수하며 적극적으로 방문하는 것으로 나타났다평균 이동 거리가 가장 긴 음식점은 경북 영덕군에 위치한 강구항대게직판장과 전남 구례군에 위치한 섬진강재첩국수로 이곳에 방문한 고객은 평균 40km 이상을 이동한 것으로 확인됐다평균 이동거리가 가장 긴 상위 10개 음식점 방문 시 고객들은 평균 38km의 거리를 이동했으며 상위 10개 맛집은 횡성의 한우 맛집, 춘천의 닭갈비 맛집 인제의 황태 맛집 등 지역 특산물 맛집이 주를 이뤘다또한 여성보다 남성의 이용이 많으며 연령별로는 40대의 이용이 가장 많았다. 이는, T맵 미식로드가 내비게이션 기반 서비스이기 때문인 것으로 추정된다또한 업종별로 사람들이 많이 찾는 시간이 다른 것도 확인할 수 있었다 고깃집은 저녁 시간인 17 19시에 약 40  점심 시간인 11 12시에 약 16 의 고객이 방문했다 저녁 시간에 사람이 가장 붐볐지만 점심시간에도 꽤 많은 고객들이 고깃집을 방문했다이와 반대로 중국 음식점은 점심 시간인 11 13시에 약 38 저녁 시간인 17 18시에 18 의 고객이 방문했다 카페의 경우 전 시간대에 고르게 방문하는 것으로 파악됐다송광현 SK텔레콤 PR2실장은 T맵 미식로드를 통해 더 많은 고객들이 새로운 경험과 즐거움을 느끼기를 기대한다며 앞으로도 빅데이터 역량을 활용해 고객에게 새로운 가치를 제공하기 위해 최선을 다할 것이라고 밝혔다'"
      ]
     },
     "execution_count": 242,
     "metadata": {},
     "output_type": "execute_result"
    }
   ],
   "source": [
    "s2"
   ]
  },
  {
   "cell_type": "markdown",
   "metadata": {},
   "source": [
    "### setting"
   ]
  },
  {
   "cell_type": "code",
   "execution_count": 243,
   "metadata": {},
   "outputs": [
    {
     "name": "stdout",
     "output_type": "stream",
     "text": [
      "['텔레콤', '자사', '국민', '내', '션', '서비스', '맵의', '빅', '빅데이터', '데이터', '기반', '고객', '맞춤', '맞춤형', '형', '맛', '맛집', '집', '추천', '미식로드가', '출시', '2', '2달', '달', '만', '이용', '횟수', '100', '100만', '만', '건', '돌파', '17', '17일', '일', '미식로드는', '연간', '1800', '1800만', '명', '사용', '맵에', '5', '5년간', '년', '간', '18', '18억개', '억', '개', '리뷰', '별', '별점', '점', '실제', '방문', '활용', '탐방', '즐거움', '제공', '이번', '미식로드의', '누적', '달성', '정보', '상황', '신뢰', '수', '기준', '식문화', '소비', '편의', '결과', '미식로드', '이용자', '분석', '선호', '유형', '유명', '현지인', '파악', '약', '27', '22', '선택', '연인', '배우자', '외식', '때', '영덕', '대게', '구례', '재첩', '등', '지역', '특산물', '라면', '40', '거리', '이동', '감수', '적극적', '평균', '음식점', '경북', '영덕', '영덕군', '군', '위', '위치한', '치한', '강구', '강구항', '항', '직판장', '남', '구례', '구례군', '위치', '섬진강', '섬진강재첩국수', '국수', '이곳', '이상', '확인', '이동거리', '상위', '10', '10개', '시', '38', '횡', '한우', '춘천', '닭', '닭갈비', '갈비', '인제', '황태', '맛집이', '집이', '주', '여성', '남성', '연령별', '40대', '대', '이', '때문', '추정', '업종별', '사람', '시간', '고', '고깃집', '깃', '저녁', '19', '19시', '시', '점심', '11', '12', '12시', '16', '의', '점심시간', '깃집', '반대', '중국', '13', '13시', '18시', '카페', '경우', '전', '시간대', '송', '송광', '광', '2실장', '실장', '미식로드를', '통해', '경험', '기대', '앞', '역량', '가치', '최선']\n",
      "V1_infer [-0.08855538  0.3161301   0.7443307   0.37472728 -0.15484323 -0.47899237\n",
      "  0.09939975  0.03447026 -0.06776913  0.26287797 -0.01251654 -0.1114594\n",
      "  0.38525358 -0.01604573 -0.23509802 -0.15096386 -0.06543177  0.05609009\n",
      " -0.03992206 -0.60304797  0.04109189 -0.06044959 -0.24661455 -0.11750688\n",
      " -0.18963839 -0.13277842 -0.42514786  0.14926213 -0.19171572  0.06578977\n",
      "  0.36071646 -0.4754784  -0.25898778  1.0235118   0.23077585 -0.82164764\n",
      " -0.04536709 -0.1586646   0.55950654 -0.24003042  0.2874476  -0.02748477\n",
      "  0.09571806 -0.4000774  -0.22359778 -0.27516907 -0.06491835  0.33656535\n",
      "  0.16035996 -0.14605327  0.5779522   0.07865048  0.2461526  -0.3608024\n",
      " -0.31904086 -0.0339735   0.20769049  0.01126913 -0.17198034 -0.350103\n",
      " -0.40517613  0.18441983  0.42277095 -0.0835636   0.5833019  -0.14619948\n",
      "  0.9586819   0.42702103 -0.03013592 -0.684832   -0.7312561   0.06234679\n",
      "  0.15420558  0.6750795  -0.236898    0.37878656 -0.07453758 -0.11140269\n",
      " -0.38514277 -0.2052057   0.35259134 -0.30148417 -0.2991421  -0.08665627\n",
      "  0.70788515  0.05608453  0.81253177 -0.3798592   0.2536795  -1.0906391\n",
      "  0.29748598  0.1171784   0.6049651   0.23131204  0.19862019  0.25672057\n",
      "  0.30608776 -0.6934471  -0.19961195  0.49705374]\n"
     ]
    }
   ],
   "source": [
    "from gensim.models.doc2vec import Doc2Vec\n",
    "from konlpy.tag import Okt, Kkma\n",
    "\n",
    "kkma = Kkma()\n",
    "test_data = kkma.nouns(s2.lower())\n",
    "print(test_data)\n",
    "v1 = d2v_model.infer_vector(test_data)\n",
    "print(\"V1_infer\", v1)"
   ]
  },
  {
   "cell_type": "markdown",
   "metadata": {},
   "source": [
    "### 입력 데이터와 유사한 문서 리스트"
   ]
  },
  {
   "cell_type": "code",
   "execution_count": 246,
   "metadata": {},
   "outputs": [
    {
     "name": "stdout",
     "output_type": "stream",
     "text": [
      "Document 9411 - similarity: 0.70350\n",
      "Document 10138 - similarity: 0.57783\n",
      "Document 43790 - similarity: 0.56985\n",
      "Document 3745 - similarity: 0.56379\n",
      "Document 3473 - similarity: 0.54929\n",
      "Document 32706 - similarity: 0.53353\n",
      "Document 60226 - similarity: 0.52342\n",
      "Document 45617 - similarity: 0.51956\n",
      "Document 56360 - similarity: 0.51712\n",
      "Document 48520 - similarity: 0.50659\n",
      "Document 17392 - similarity: 0.50524\n",
      "Document 60225 - similarity: 0.50513\n",
      "Document 34817 - similarity: 0.50238\n",
      "Document 60423 - similarity: 0.50088\n",
      "Document 28527 - similarity: 0.50040\n",
      "Document 40427 - similarity: 0.50036\n",
      "Document 56363 - similarity: 0.49884\n",
      "Document 42508 - similarity: 0.49433\n",
      "Document 52895 - similarity: 0.48807\n",
      "Document 46696 - similarity: 0.48597\n"
     ]
    }
   ],
   "source": [
    "doc_sim_lst = d2v_model.docvecs.most_similar(positive=[v1], topn=20)\n",
    "\n",
    "i = 0\n",
    "lst = []\n",
    "\n",
    "for doc_id, sim in doc_sim_lst:\n",
    "    lst.append(doc_id)\n",
    "    print(f\"Document {doc_id} - similarity: {sim:.5f}\")\n",
    "    i+=1\n",
    "    if i == 100:\n",
    "        break"
   ]
  },
  {
   "cell_type": "code",
   "execution_count": 250,
   "metadata": {},
   "outputs": [
    {
     "name": "stdout",
     "output_type": "stream",
     "text": [
      "top 1 \"빅데이터 맛집 통했다\" SKT ‘T맵 미식로드’ 누적이용 100만 돌파\n",
      "top 2 SKT, 빅데이터로 맛집 추천…'T맵 미식로드' 출시\n",
      "top 3 1800만명 쓰는 T맵이 18억 빅데이터로 맛집 찾아준다\n",
      "top 4 SKT \"T맵 빅데이터로 맛집 찾아드려요\"\n",
      "top 5 맛집 찾기, 알고보면 내비게이션 앱이 甲\n",
      "top 6 SKT, 빅데이터 기반 맛집 추천 서비스 `T맵 미식로드` 출시\n",
      "top 7 스타벅스 ‘빅데이터 추천 서비스 도입 후 모바일 주문 증가’\n",
      "top 8 한국소비자원 \"모바일 내비게이션 만족도 1위 'T맵'\"\n",
      "top 9 스타벅스 ‘빅데이터 추천 서비스 도입 후 모바일 주문 증가’\n",
      "top 10 모바일 내비게이션 소비자 종합만족도 1위는 T맵\n",
      "top 11 소비자 가장 선호하는 모바일 간편결제는 ‘카카오페이’\n",
      "top 12 “오늘 이런 음료 어떠세요”…스타벅스, 빅데이터 활용하니 주문 ‘쑥’\n",
      "top 13 LGU+-투아트, 시각장애인 전용 음성안내 앱 ‘설리번+’ 선봬\n",
      "top 14 [ONE SHOT] 빅데이터로 본 서울 지하철…가장 분주한 역은 어디?\n",
      "top 15 SK텔레콤 'T맵 미식로드' 출시...빅데이터 기반 맛집 추천 서비스\n",
      "top 16 SK텔레콤 \"'T맵 미식로드' 빅데이터 추천으로 전국 맛집 탐방해요\"\n",
      "top 17 따뜻한 음료 한잔 어떠세요?…스타벅스 빅데이터 도입후 모바일 주문건수 월 10만건 증가\n",
      "top 18 LG유플러스-투아트, 시각장애인 전용 앱 '설리번+' 출시\n",
      "top 19 신한BNP파리바자산운용,?빅데이터·ESG 펀드 활용 대구지역 구호활동\n",
      "top 20 \"카메라로 보고 음성으로 알려준다\"… LGU+, 시각장애인용 앱 선봬\n"
     ]
    }
   ],
   "source": [
    "for idx, i in enumerate(lst):\n",
    "    num = int(i)\n",
    "    print(\"top\",idx+1, news_data['title'][num])"
   ]
  },
  {
   "cell_type": "markdown",
   "metadata": {},
   "source": [
    "### tags 1 과 유사한 문서리스트"
   ]
  },
  {
   "cell_type": "code",
   "execution_count": 92,
   "metadata": {},
   "outputs": [
    {
     "name": "stdout",
     "output_type": "stream",
     "text": [
      "Document 27103 - similarity: 0.64350\n",
      "Document 31062 - similarity: 0.63236\n",
      "Document 1888 - similarity: 0.61544\n",
      "Document 43313 - similarity: 0.61369\n",
      "Document 1887 - similarity: 0.61165\n",
      "Document 13 - similarity: 0.60814\n",
      "Document 28922 - similarity: 0.60212\n",
      "Document 27130 - similarity: 0.59979\n",
      "Document 42423 - similarity: 0.59850\n",
      "Document 24688 - similarity: 0.58981\n",
      "Document 22852 - similarity: 0.58867\n",
      "Document 27107 - similarity: 0.57842\n",
      "Document 17203 - similarity: 0.55643\n",
      "Document 42420 - similarity: 0.55601\n",
      "Document 53786 - similarity: 0.55527\n",
      "Document 42419 - similarity: 0.55033\n",
      "Document 48655 - similarity: 0.54761\n",
      "Document 43307 - similarity: 0.54570\n",
      "Document 43306 - similarity: 0.54427\n",
      "Document 28919 - similarity: 0.53921\n",
      "아산시, 코로나19 ‘안심콜 출입관리 시스템’ 도입\n",
      "고양시 ‘안심콜 출입관리 시스템’ 전국으로 확대\n",
      "충남 태안군, '모바일 방명록 시스템' 도입...전화로 출입기록\n",
      "아산시 코로나19 '안심콜 출입관리 시스템' 도입\n",
      "충남 태안군, '모바일 방명록 시스템' 도입...전화로 출입기록\n",
      "과천경찰서, 청사 출입시 QR코드 시스템 운영\n",
      "아산시, 코로나19 '안심콜 출입관리 시스템' 도입\n",
      "양주시 장흥면. 코로나19 스마트방역시스템 구축\n",
      "아산시 '안심콜' 출입관리시스템 도입\n",
      "고양시 최초 도입 '안심콜 출입관리 시스템' 전국 확대\n",
      "고양시 '안심콜 출입관리 시스템' 전국서 확대\n",
      "고양시, ‘안심콜 출입관리 시스템’ 전국 확대 시행\n",
      "'고양시 안심콜 출입관리 시스템' 전국 확대 시행\n",
      "태안군, 모바일 방명록 시스템 도입\n",
      "고양시 ‘안심콜 출입관리 시스템’ 전국 확대 시행\n",
      "태안군, 모바일 방명록 시스템 도입\n",
      "고양시 안심콜 출입관리 시스템 전국 확대 시행\n",
      "태안군 '모바일 방명록 시스템' 도입\n",
      "태안군 '모바일 방명록 시스템' 도입\n",
      "태안군 '전화 한 통화로 출입 OK!' 모바일 방명록 시스템 도입\n"
     ]
    }
   ],
   "source": [
    "doc_sim_lst = d2v_model.docvecs.most_similar('1', topn=20)\n",
    "\n",
    "i = 0\n",
    "lst = []\n",
    "\n",
    "for doc_id, sim in doc_sim_lst:\n",
    "    lst.append(doc_id)\n",
    "    print(f\"Document {doc_id} - similarity: {sim:.5f}\")\n",
    "    i+=1\n",
    "    if i == 20:\n",
    "        break\n",
    "        \n",
    "for i in lst:\n",
    "    num = int(i)\n",
    "    print(news_data['title'][num])"
   ]
  }
 ],
 "metadata": {
  "kernelspec": {
   "display_name": "Python 3",
   "language": "python",
   "name": "python3"
  },
  "language_info": {
   "codemirror_mode": {
    "name": "ipython",
    "version": 3
   },
   "file_extension": ".py",
   "mimetype": "text/x-python",
   "name": "python",
   "nbconvert_exporter": "python",
   "pygments_lexer": "ipython3",
   "version": "3.7.6"
  }
 },
 "nbformat": 4,
 "nbformat_minor": 4
}

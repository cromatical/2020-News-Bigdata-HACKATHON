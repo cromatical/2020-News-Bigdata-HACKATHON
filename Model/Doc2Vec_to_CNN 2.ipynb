{
 "cells": [
  {
   "cell_type": "markdown",
   "metadata": {},
   "source": [
    "### data load"
   ]
  },
  {
   "cell_type": "code",
   "execution_count": 1,
   "metadata": {
    "scrolled": true
   },
   "outputs": [
    {
     "data": {
      "text/html": [
       "<div>\n",
       "<style scoped>\n",
       "    .dataframe tbody tr th:only-of-type {\n",
       "        vertical-align: middle;\n",
       "    }\n",
       "\n",
       "    .dataframe tbody tr th {\n",
       "        vertical-align: top;\n",
       "    }\n",
       "\n",
       "    .dataframe thead th {\n",
       "        text-align: right;\n",
       "    }\n",
       "</style>\n",
       "<table border=\"1\" class=\"dataframe\">\n",
       "  <thead>\n",
       "    <tr style=\"text-align: right;\">\n",
       "      <th></th>\n",
       "      <th>section</th>\n",
       "      <th>news_id</th>\n",
       "      <th>title</th>\n",
       "      <th>dateline</th>\n",
       "      <th>provider</th>\n",
       "      <th>category</th>\n",
       "      <th>link</th>\n",
       "      <th>similarity</th>\n",
       "      <th>raw_stream</th>\n",
       "    </tr>\n",
       "  </thead>\n",
       "  <tbody>\n",
       "    <tr>\n",
       "      <th>0</th>\n",
       "      <td>SIS developer</td>\n",
       "      <td>1200101.202</td>\n",
       "      <td>경기도일자리재단, 지역사회와 함께하는 '외부 네트워크 청렴 캠페인'</td>\n",
       "      <td>2020-09-17T14:15:05.000+09:00</td>\n",
       "      <td>경기일보</td>\n",
       "      <td>['지역&gt;울산', '지역&gt;부산', '지역&gt;경기']</td>\n",
       "      <td>www.kyeonggi.com/news/articleView.html?idxno=2...</td>\n",
       "      <td>코로나 유재석 지역사회 전형수 참여자 일자리 경기도일자리재단 부천 킨텍스 김문수 조...</td>\n",
       "      <td>경기도일자리재단 지역사회 외부 네트워크 청렴 캠페인 경기도일자리재단 확산 지역 사회...</td>\n",
       "    </tr>\n",
       "    <tr>\n",
       "      <th>1</th>\n",
       "      <td>SW developer</td>\n",
       "      <td>1200101.202</td>\n",
       "      <td>이천시 코로나19 관련 전화 한통으로 청사출입 가능한 시스템 운영</td>\n",
       "      <td>2020-09-15T15:10:13.000+09:00</td>\n",
       "      <td>경기일보</td>\n",
       "      <td>['지역&gt;경남', '지역&gt;충남', '지역&gt;제주']</td>\n",
       "      <td>www.kyeonggi.com/news/articleView.html?idxno=2...</td>\n",
       "      <td>코로나 이천시 행정복지센터 엄태준 전화번호 민원인 사업소 출입일시 출입관리 출입 전...</td>\n",
       "      <td>이천시 코로나19 전화 청사 출입 가능 운영 이천시 전화 방문 출입관리 출입 관리 ...</td>\n",
       "    </tr>\n",
       "    <tr>\n",
       "      <th>2</th>\n",
       "      <td>AI developer</td>\n",
       "      <td>1200101.202</td>\n",
       "      <td>부천시 ITS구축 공모 선정… AI융합 핵심도시 기반 강화</td>\n",
       "      <td>2020-09-15T11:39:44.000+09:00</td>\n",
       "      <td>경기일보</td>\n",
       "      <td>['지역&gt;경기', '지역&gt;충남', '지역&gt;대전']</td>\n",
       "      <td>www.kyeonggi.com/news/articleView.html?idxno=2...</td>\n",
       "      <td>부천시 교통혁신도시 스마트도시 보행자 ai 지능형 교통체계 장덕천 사업비 교통정보 ...</td>\n",
       "      <td>부천시 구축 공모 선정 AI 융합 핵심 도시 강화 부천시 추진 교통혁신도시 최고 교...</td>\n",
       "    </tr>\n",
       "    <tr>\n",
       "      <th>3</th>\n",
       "      <td>SW developer</td>\n",
       "      <td>1200101.202</td>\n",
       "      <td>구리시 지능형 교통시스템 도입으로 출·퇴근길 교통체증 해결</td>\n",
       "      <td>2020-09-14T19:26:21.000+09:00</td>\n",
       "      <td>경기일보</td>\n",
       "      <td>['지역&gt;충남', '지역&gt;강원', '지역&gt;경기']</td>\n",
       "      <td>www.kyeonggi.com/news/articleView.html?idxno=2...</td>\n",
       "      <td>출퇴근길 구리시 아차산로 공모사업 교통시스템 지자체 교차로 실시간 사거리 교문사거리...</td>\n",
       "      <td>교통시스템 구리시 지능 교통 퇴근길 교통 체증 해결 구리시 국토부 주관 공모사업 지...</td>\n",
       "    </tr>\n",
       "    <tr>\n",
       "      <th>4</th>\n",
       "      <td>SW developer</td>\n",
       "      <td>1200101.202</td>\n",
       "      <td>고양시 안심콜 출입관리 시스템 전국 확대 시행</td>\n",
       "      <td>2020-09-14T16:15:39.000+09:00</td>\n",
       "      <td>경기일보</td>\n",
       "      <td>['IT_과학&gt;보안']</td>\n",
       "      <td>www.kyeonggi.com/news/articleView.html?idxno=2...</td>\n",
       "      <td>안심콜 고양시 전화번호 코로나 이재준 중대본 출입관리 정보취약 정보취약계층 고양 중...</td>\n",
       "      <td>출입관리 시행 고양시 안심콜 출입 관리 전국 확대 고양시 전국 안심콜 출입 관리 안...</td>\n",
       "    </tr>\n",
       "  </tbody>\n",
       "</table>\n",
       "</div>"
      ],
      "text/plain": [
       "        section       news_id                                  title  \\\n",
       "0  SIS developer  1200101.202  경기도일자리재단, 지역사회와 함께하는 '외부 네트워크 청렴 캠페인'   \n",
       "1   SW developer  1200101.202   이천시 코로나19 관련 전화 한통으로 청사출입 가능한 시스템 운영   \n",
       "2   AI developer  1200101.202       부천시 ITS구축 공모 선정… AI융합 핵심도시 기반 강화   \n",
       "3   SW developer  1200101.202       구리시 지능형 교통시스템 도입으로 출·퇴근길 교통체증 해결   \n",
       "4   SW developer  1200101.202              고양시 안심콜 출입관리 시스템 전국 확대 시행   \n",
       "\n",
       "                        dateline provider                     category  \\\n",
       "0  2020-09-17T14:15:05.000+09:00     경기일보  ['지역>울산', '지역>부산', '지역>경기']   \n",
       "1  2020-09-15T15:10:13.000+09:00     경기일보  ['지역>경남', '지역>충남', '지역>제주']   \n",
       "2  2020-09-15T11:39:44.000+09:00     경기일보  ['지역>경기', '지역>충남', '지역>대전']   \n",
       "3  2020-09-14T19:26:21.000+09:00     경기일보  ['지역>충남', '지역>강원', '지역>경기']   \n",
       "4  2020-09-14T16:15:39.000+09:00     경기일보                 ['IT_과학>보안']   \n",
       "\n",
       "                                                link  \\\n",
       "0  www.kyeonggi.com/news/articleView.html?idxno=2...   \n",
       "1  www.kyeonggi.com/news/articleView.html?idxno=2...   \n",
       "2  www.kyeonggi.com/news/articleView.html?idxno=2...   \n",
       "3  www.kyeonggi.com/news/articleView.html?idxno=2...   \n",
       "4  www.kyeonggi.com/news/articleView.html?idxno=2...   \n",
       "\n",
       "                                          similarity  \\\n",
       "0  코로나 유재석 지역사회 전형수 참여자 일자리 경기도일자리재단 부천 킨텍스 김문수 조...   \n",
       "1  코로나 이천시 행정복지센터 엄태준 전화번호 민원인 사업소 출입일시 출입관리 출입 전...   \n",
       "2  부천시 교통혁신도시 스마트도시 보행자 ai 지능형 교통체계 장덕천 사업비 교통정보 ...   \n",
       "3  출퇴근길 구리시 아차산로 공모사업 교통시스템 지자체 교차로 실시간 사거리 교문사거리...   \n",
       "4  안심콜 고양시 전화번호 코로나 이재준 중대본 출입관리 정보취약 정보취약계층 고양 중...   \n",
       "\n",
       "                                          raw_stream  \n",
       "0  경기도일자리재단 지역사회 외부 네트워크 청렴 캠페인 경기도일자리재단 확산 지역 사회...  \n",
       "1  이천시 코로나19 전화 청사 출입 가능 운영 이천시 전화 방문 출입관리 출입 관리 ...  \n",
       "2  부천시 구축 공모 선정 AI 융합 핵심 도시 강화 부천시 추진 교통혁신도시 최고 교...  \n",
       "3  교통시스템 구리시 지능 교통 퇴근길 교통 체증 해결 구리시 국토부 주관 공모사업 지...  \n",
       "4  출입관리 시행 고양시 안심콜 출입 관리 전국 확대 고양시 전국 안심콜 출입 관리 안...  "
      ]
     },
     "execution_count": 1,
     "metadata": {},
     "output_type": "execute_result"
    }
   ],
   "source": [
    "import pandas as pd\n",
    "import numpy as np\n",
    "\n",
    "news_data = pd.read_csv(\"18.01~20.09.csv\", encoding='cp949')\n",
    "news_data.head(5)"
   ]
  },
  {
   "cell_type": "code",
   "execution_count": 132,
   "metadata": {
    "scrolled": true
   },
   "outputs": [
    {
     "name": "stdout",
     "output_type": "stream",
     "text": [
      "<class 'pandas.core.frame.DataFrame'>\n",
      "RangeIndex: 94527 entries, 0 to 94526\n",
      "Data columns (total 9 columns):\n",
      " #   Column      Non-Null Count  Dtype  \n",
      "---  ------      --------------  -----  \n",
      " 0   section     94527 non-null  object \n",
      " 1   news_id     94527 non-null  float64\n",
      " 2   title       94527 non-null  object \n",
      " 3   dateline    94527 non-null  object \n",
      " 4   provider    94527 non-null  object \n",
      " 5   category    94527 non-null  object \n",
      " 6   link        90544 non-null  object \n",
      " 7   similarity  94527 non-null  object \n",
      " 8   raw_stream  94527 non-null  object \n",
      "dtypes: float64(1), object(8)\n",
      "memory usage: 6.5+ MB\n"
     ]
    }
   ],
   "source": [
    "news_data.info()"
   ]
  },
  {
   "cell_type": "markdown",
   "metadata": {},
   "source": [
    "### 데이터 전처리"
   ]
  },
  {
   "cell_type": "code",
   "execution_count": 2,
   "metadata": {
    "scrolled": true
   },
   "outputs": [
    {
     "name": "stderr",
     "output_type": "stream",
     "text": [
      "C:\\Users\\MyLaptop\\anaconda3\\lib\\site-packages\\ipykernel_launcher.py:6: SettingWithCopyWarning: \n",
      "A value is trying to be set on a copy of a slice from a DataFrame\n",
      "\n",
      "See the caveats in the documentation: https://pandas.pydata.org/pandas-docs/stable/user_guide/indexing.html#returning-a-view-versus-a-copy\n",
      "  \n",
      "C:\\Users\\MyLaptop\\anaconda3\\lib\\site-packages\\ipykernel_launcher.py:8: SettingWithCopyWarning: \n",
      "A value is trying to be set on a copy of a slice from a DataFrame\n",
      "\n",
      "See the caveats in the documentation: https://pandas.pydata.org/pandas-docs/stable/user_guide/indexing.html#returning-a-view-versus-a-copy\n",
      "  \n",
      "C:\\Users\\MyLaptop\\anaconda3\\lib\\site-packages\\ipykernel_launcher.py:14: SettingWithCopyWarning: \n",
      "A value is trying to be set on a copy of a slice from a DataFrame\n",
      "\n",
      "See the caveats in the documentation: https://pandas.pydata.org/pandas-docs/stable/user_guide/indexing.html#returning-a-view-versus-a-copy\n",
      "  \n",
      "C:\\Users\\MyLaptop\\anaconda3\\lib\\site-packages\\ipykernel_launcher.py:10: SettingWithCopyWarning: \n",
      "A value is trying to be set on a copy of a slice from a DataFrame\n",
      "\n",
      "See the caveats in the documentation: https://pandas.pydata.org/pandas-docs/stable/user_guide/indexing.html#returning-a-view-versus-a-copy\n",
      "  # Remove the CWD from sys.path while we load stuff.\n"
     ]
    }
   ],
   "source": [
    "# 200자 내외 뉴스데이터 제거\n",
    "# 주식관련 뉴스데이터 제거\n",
    "\n",
    "for idx in range(len(news_data)):\n",
    "    if len(news_data['raw_stream'][idx]) < 200:\n",
    "        news_data['raw_stream'][idx] = np.nan\n",
    "    if news_data['title'][idx].find('%') != -1 :\n",
    "        news_data['title'][idx] = np.nan\n",
    "    elif news_data['title'][idx].find('코', 1) == 1:\n",
    "        news_data['title'][idx] = np.nan\n",
    "    elif news_data['title'][idx].find('코', 1) == 1:\n",
    "        news_data['title'][idx] = np.nan\n",
    "    elif news_data['title'][idx].find('유', 1) == 1:\n",
    "        news_data['title'][idx] = np.nan\n",
    "    elif news_data['title'][idx].find('유', 1) == 1:\n",
    "        news_data['title'][idx] = np.nan"
   ]
  },
  {
   "cell_type": "code",
   "execution_count": 134,
   "metadata": {},
   "outputs": [
    {
     "name": "stdout",
     "output_type": "stream",
     "text": [
      "<class 'pandas.core.frame.DataFrame'>\n",
      "RangeIndex: 94527 entries, 0 to 94526\n",
      "Data columns (total 9 columns):\n",
      " #   Column      Non-Null Count  Dtype  \n",
      "---  ------      --------------  -----  \n",
      " 0   section     94527 non-null  object \n",
      " 1   news_id     94527 non-null  float64\n",
      " 2   title       89972 non-null  object \n",
      " 3   dateline    94527 non-null  object \n",
      " 4   provider    94527 non-null  object \n",
      " 5   category    94527 non-null  object \n",
      " 6   link        90544 non-null  object \n",
      " 7   similarity  94527 non-null  object \n",
      " 8   raw_stream  87066 non-null  object \n",
      "dtypes: float64(1), object(8)\n",
      "memory usage: 6.5+ MB\n"
     ]
    }
   ],
   "source": [
    "news_data.info()"
   ]
  },
  {
   "cell_type": "code",
   "execution_count": 3,
   "metadata": {},
   "outputs": [],
   "source": [
    "news_data = news_data.dropna(axis=0)"
   ]
  },
  {
   "cell_type": "code",
   "execution_count": 4,
   "metadata": {},
   "outputs": [],
   "source": [
    "news_data = news_data.reset_index()"
   ]
  },
  {
   "cell_type": "code",
   "execution_count": 5,
   "metadata": {
    "scrolled": false
   },
   "outputs": [
    {
     "name": "stdout",
     "output_type": "stream",
     "text": [
      "<class 'pandas.core.frame.DataFrame'>\n",
      "RangeIndex: 79779 entries, 0 to 79778\n",
      "Data columns (total 10 columns):\n",
      " #   Column      Non-Null Count  Dtype  \n",
      "---  ------      --------------  -----  \n",
      " 0   index       79779 non-null  int64  \n",
      " 1   section     79779 non-null  object \n",
      " 2   news_id     79779 non-null  float64\n",
      " 3   title       79779 non-null  object \n",
      " 4   dateline    79779 non-null  object \n",
      " 5   provider    79779 non-null  object \n",
      " 6   category    79779 non-null  object \n",
      " 7   link        79779 non-null  object \n",
      " 8   similarity  79779 non-null  object \n",
      " 9   raw_stream  79779 non-null  object \n",
      "dtypes: float64(1), int64(1), object(8)\n",
      "memory usage: 6.1+ MB\n"
     ]
    }
   ],
   "source": [
    "news_data.info()"
   ]
  },
  {
   "cell_type": "code",
   "execution_count": 5,
   "metadata": {
    "scrolled": true
   },
   "outputs": [
    {
     "name": "stderr",
     "output_type": "stream",
     "text": [
      "C:\\Users\\MyLaptop\\anaconda3\\lib\\site-packages\\ipykernel_launcher.py:2: SettingWithCopyWarning: \n",
      "A value is trying to be set on a copy of a slice from a DataFrame\n",
      "\n",
      "See the caveats in the documentation: https://pandas.pydata.org/pandas-docs/stable/user_guide/indexing.html#returning-a-view-versus-a-copy\n",
      "  \n"
     ]
    }
   ],
   "source": [
    "for idx in range(len(news_data)):\n",
    "    news_data['raw_stream'][idx] = news_data['raw_stream'][idx].split(\" \")"
   ]
  },
  {
   "cell_type": "markdown",
   "metadata": {},
   "source": [
    "### 우리에게 필요한 단어 추출"
   ]
  },
  {
   "cell_type": "code",
   "execution_count": 6,
   "metadata": {},
   "outputs": [
    {
     "name": "stderr",
     "output_type": "stream",
     "text": [
      "C:\\Users\\MyLaptop\\anaconda3\\lib\\site-packages\\ipykernel_launcher.py:5: DeprecationWarning: Call to deprecated `doctag_syn0` (Attribute will be removed in 4.0.0, use docvecs.vectors_docs instead).\n",
      "  \"\"\"\n"
     ]
    }
   ],
   "source": [
    "from gensim.models.doc2vec import Doc2Vec\n",
    "\n",
    "d2v_model= Doc2Vec.load(\"d2v.model\")\n",
    "\n",
    "VOCAB_SIZE = len(d2v_model.docvecs.doctag_syn0)\n",
    "EMBEDDING_DIM = 100\n",
    "\n",
    "embedding_matrix = np.zeros((VOCAB_SIZE, EMBEDDING_DIM))"
   ]
  },
  {
   "cell_type": "code",
   "execution_count": 7,
   "metadata": {},
   "outputs": [
    {
     "data": {
      "text/plain": [
       "(79779, 100)"
      ]
     },
     "execution_count": 7,
     "metadata": {},
     "output_type": "execute_result"
    }
   ],
   "source": [
    "for idx, news in enumerate(news_data['raw_stream']):\n",
    "    embedding_vector = d2v_model.infer_vector(news)\n",
    "    if embedding_vector is not None:\n",
    "        embedding_matrix[idx] = embedding_vector\n",
    "embedding_matrix.shape"
   ]
  },
  {
   "cell_type": "markdown",
   "metadata": {},
   "source": [
    "### section one_hot_vector"
   ]
  },
  {
   "cell_type": "code",
   "execution_count": 8,
   "metadata": {},
   "outputs": [],
   "source": [
    "from sklearn import preprocessing\n",
    "\n",
    "le = preprocessing.LabelEncoder()\n",
    "le.fit(news_data['section '])\n",
    "news_data['section '] = le.transform(news_data['section '])"
   ]
  },
  {
   "cell_type": "code",
   "execution_count": 143,
   "metadata": {},
   "outputs": [
    {
     "data": {
      "text/plain": [
       "array(['SIS developer', 'AI developer', 'SW developer',\n",
       "       'mobile developer', 'data developer', 'web developer',\n",
       "       'embedded developer'], dtype=object)"
      ]
     },
     "execution_count": 143,
     "metadata": {},
     "output_type": "execute_result"
    }
   ],
   "source": [
    "news_data['section '].unique()"
   ]
  },
  {
   "cell_type": "code",
   "execution_count": 148,
   "metadata": {},
   "outputs": [
    {
     "data": {
      "text/plain": [
       "array([1, 0, 2, 5, 3, 6, 4])"
      ]
     },
     "execution_count": 148,
     "metadata": {},
     "output_type": "execute_result"
    }
   ],
   "source": [
    "news_data['section '].unique()"
   ]
  },
  {
   "cell_type": "markdown",
   "metadata": {},
   "source": [
    "### train_test_split"
   ]
  },
  {
   "cell_type": "code",
   "execution_count": 9,
   "metadata": {},
   "outputs": [
    {
     "data": {
      "text/plain": [
       "((63823,), (15956,), (63823,), (15956,))"
      ]
     },
     "execution_count": 9,
     "metadata": {},
     "output_type": "execute_result"
    }
   ],
   "source": [
    "from sklearn.model_selection import train_test_split\n",
    "\n",
    "X_train, X_test, y_train, y_test = train_test_split(news_data['raw_stream'].values, news_data['section '].values, \n",
    "                                                    test_size=0.2,\n",
    "                                                    stratify=news_data['section '],\n",
    "                                                    shuffle=True,\n",
    "                                                    random_state=42)\n",
    "\n",
    "X_train.shape, X_test.shape, y_train.shape, y_test.shape"
   ]
  },
  {
   "cell_type": "markdown",
   "metadata": {},
   "source": [
    "### padding"
   ]
  },
  {
   "cell_type": "code",
   "execution_count": 10,
   "metadata": {},
   "outputs": [],
   "source": [
    "from tensorflow.keras.preprocessing.text import Tokenizer\n",
    "\n",
    "tokenizer = Tokenizer(50000)\n",
    "tokenizer.fit_on_texts(X_train)\n",
    "\n",
    "X_train = tokenizer.texts_to_sequences(X_train)\n",
    "X_test = tokenizer.texts_to_sequences(X_test)"
   ]
  },
  {
   "cell_type": "code",
   "execution_count": 11,
   "metadata": {},
   "outputs": [],
   "source": [
    "from tensorflow.keras.preprocessing.sequence import pad_sequences\n",
    "\n",
    "max_length = 100\n",
    "\n",
    "X_train = pad_sequences(X_train, maxlen=max_length, dtype='float64')\n",
    "X_test = pad_sequences(X_test, maxlen=max_length, dtype='float64')"
   ]
  },
  {
   "cell_type": "code",
   "execution_count": 14,
   "metadata": {},
   "outputs": [
    {
     "data": {
      "text/plain": [
       "(63823, 100)"
      ]
     },
     "execution_count": 14,
     "metadata": {},
     "output_type": "execute_result"
    }
   ],
   "source": [
    "X_train.shape"
   ]
  },
  {
   "cell_type": "markdown",
   "metadata": {},
   "source": [
    "### CNN"
   ]
  },
  {
   "cell_type": "code",
   "execution_count": 13,
   "metadata": {
    "scrolled": true
   },
   "outputs": [
    {
     "name": "stdout",
     "output_type": "stream",
     "text": [
      "Model: \"sequential_1\"\n",
      "_________________________________________________________________\n",
      "Layer (type)                 Output Shape              Param #   \n",
      "=================================================================\n",
      "embedding_1 (Embedding)      (None, 100, 100)          7977900   \n",
      "_________________________________________________________________\n",
      "conv1d_1 (Conv1D)            (None, 98, 256)           77056     \n",
      "_________________________________________________________________\n",
      "global_max_pooling1d_1 (Glob (None, 256)               0         \n",
      "_________________________________________________________________\n",
      "flatten_1 (Flatten)          (None, 256)               0         \n",
      "_________________________________________________________________\n",
      "dense_1 (Dense)              (None, 7)                 1799      \n",
      "=================================================================\n",
      "Total params: 8,056,755\n",
      "Trainable params: 78,855\n",
      "Non-trainable params: 7,977,900\n",
      "_________________________________________________________________\n",
      "Train on 63823 samples, validate on 15956 samples\n",
      "Epoch 1/20\n",
      "63823/63823 [==============================] - 165s 3ms/sample - loss: 0.7852 - val_loss: 0.6673\n",
      "Epoch 2/20\n",
      "63823/63823 [==============================] - 160s 3ms/sample - loss: 0.5702 - val_loss: 0.5961\n",
      "Epoch 3/20\n",
      "63823/63823 [==============================] - 158s 2ms/sample - loss: 0.4798 - val_loss: 0.6078\n",
      "Epoch 4/20\n",
      "63823/63823 [==============================] - 159s 2ms/sample - loss: 0.4094 - val_loss: 0.6302\n",
      "Epoch 5/20\n",
      "63823/63823 [==============================] - 157s 2ms/sample - loss: 0.3546 - val_loss: 0.7348\n",
      "Epoch 6/20\n",
      "63823/63823 [==============================] - 158s 2ms/sample - loss: 0.3077 - val_loss: 0.7357\n",
      "Epoch 7/20\n",
      "63823/63823 [==============================] - 159s 2ms/sample - loss: 0.2716 - val_loss: 0.6796\n",
      "Epoch 8/20\n",
      "63823/63823 [==============================] - 158s 2ms/sample - loss: 0.2439 - val_loss: 0.7315\n",
      "Epoch 9/20\n",
      "63823/63823 [==============================] - 157s 2ms/sample - loss: 0.2293 - val_loss: 0.8007\n",
      "Epoch 10/20\n",
      "63823/63823 [==============================] - 158s 2ms/sample - loss: 0.2114 - val_loss: 0.8381\n",
      "Epoch 11/20\n",
      "63823/63823 [==============================] - 161s 3ms/sample - loss: 0.2038 - val_loss: 0.8339\n",
      "Epoch 12/20\n",
      "63823/63823 [==============================] - 159s 2ms/sample - loss: 0.1984 - val_loss: 0.8346\n",
      "Epoch 13/20\n",
      "63823/63823 [==============================] - 160s 3ms/sample - loss: 0.1880 - val_loss: 0.8574\n",
      "Epoch 14/20\n",
      "63823/63823 [==============================] - 158s 2ms/sample - loss: 0.1839 - val_loss: 0.9381\n",
      "Epoch 15/20\n",
      "63823/63823 [==============================] - 156s 2ms/sample - loss: 0.1817 - val_loss: 0.9089\n",
      "Epoch 16/20\n",
      "63823/63823 [==============================] - 157s 2ms/sample - loss: 0.1770 - val_loss: 0.8899\n",
      "Epoch 17/20\n",
      "63823/63823 [==============================] - 157s 2ms/sample - loss: 0.1783 - val_loss: 0.9128\n",
      "Epoch 18/20\n",
      "63823/63823 [==============================] - 157s 2ms/sample - loss: 0.1734 - val_loss: 0.9159\n",
      "Epoch 19/20\n",
      "63823/63823 [==============================] - 157s 2ms/sample - loss: 0.1678 - val_loss: 0.9084\n",
      "Epoch 20/20\n",
      "63823/63823 [==============================] - 156s 2ms/sample - loss: 0.1640 - val_loss: 0.9532\n"
     ]
    }
   ],
   "source": [
    "from tensorflow.keras.models import Sequential\n",
    "from tensorflow.keras.layers import Dense, Embedding, Conv1D, GlobalMaxPooling1D, Flatten\n",
    "\n",
    "\n",
    "model = Sequential()\n",
    "model.add(Embedding(VOCAB_SIZE, EMBEDDING_DIM, weights=[embedding_matrix], input_length=max_length, trainable=False))\n",
    "model.add(Conv1D(256, 3, padding='valid', activation='relu'))\n",
    "model.add(GlobalMaxPooling1D())\n",
    "model.add(Flatten())\n",
    "model.add(Dense(7, activation='softmax'))\n",
    "\n",
    "model.summary()\n",
    "\n",
    "model.compile(loss='sparse_categorical_crossentropy', optimizer='adam', metrix=['acc'])\n",
    "history = model.fit(X_train, y_train, validation_data=(X_test, y_test), epochs=20, batch_size=32)"
   ]
  },
  {
   "cell_type": "code",
   "execution_count": null,
   "metadata": {},
   "outputs": [],
   "source": [
    "model.save('doc2vec_cnn.h5') "
   ]
  },
  {
   "cell_type": "markdown",
   "metadata": {},
   "source": [
    "### graph 확인"
   ]
  },
  {
   "cell_type": "code",
   "execution_count": 177,
   "metadata": {},
   "outputs": [
    {
     "data": {
      "image/png": "[encoded data removed]",
      "text/plain": [
       "<Figure size 432x288 with 1 Axes>"
      ]
     },
     "metadata": {
      "needs_background": "light"
     },
     "output_type": "display_data"
    }
   ],
   "source": [
    "import matplotlib.pyplot as plt\n",
    "\n",
    "# val 그래프\n",
    "plt.figure(\"val_graph\")\n",
    "plt.plot(history.history['loss'], 'y', label='train_loss')\n",
    "plt.plot(history.history['val_loss'],'b', label='val_loss')\n",
    "\n",
    "plt.xlabel('Epochs')\n",
    "plt.ylabel('Loss')\n",
    "plt.legend()\n",
    "plt.show()"
   ]
  },
  {
   "cell_type": "markdown",
   "metadata": {},
   "source": [
    "### 각 클래스 정확도 확인"
   ]
  },
  {
   "cell_type": "code",
   "execution_count": null,
   "metadata": {},
   "outputs": [],
   "source": [
    "import numpy as np\n",
    "\n",
    "AI = []\n",
    "SIS = []\n",
    "SW = []\n",
    "da= []\n",
    "embedded = [] \n",
    "mobile = []\n",
    "web = []\n",
    "\n",
    "\n",
    "for data, label  in zip(X_test, y_test):\n",
    "    v2 = pad_sequences([data], maxlen=max_length, dtype='float64')\n",
    "    result = model.predict_classes(v2)\n",
    "    if result[0] == 0:   \n",
    "        if result[0] == label:\n",
    "            AI.append(1)\n",
    "        else:\n",
    "            AI.append(0)\n",
    "            \n",
    "    elif result[0] == 1:   \n",
    "        if result[0] == label:\n",
    "            SIS.append(1)\n",
    "        else:\n",
    "            SIS.append(0)\n",
    "            \n",
    "    elif result[0] == 2: \n",
    "        if result[0] == label:\n",
    "            SW.append(1)\n",
    "        else:\n",
    "            SW.append(0)\n",
    "            \n",
    "    elif result[0] == 3:   \n",
    "        if result[0] == label:\n",
    "            da.append(1)\n",
    "        else:\n",
    "            da.append(0)\n",
    "            \n",
    "    elif result[0] == 4:   \n",
    "        if result[0] == label:\n",
    "            embedded.append(1)\n",
    "        else:\n",
    "            embedded.append(0)\n",
    "            \n",
    "    elif result[0] == 5:   \n",
    "        if result[0] == label:\n",
    "            mobile.append(1)\n",
    "        else:\n",
    "            mobile.append(0)\n",
    "            \n",
    "    elif result[0] == 6:   \n",
    "        if result[0] == label:\n",
    "            web.append(1)\n",
    "        else:\n",
    "            web.append(0)"
   ]
  },
  {
   "cell_type": "code",
   "execution_count": 187,
   "metadata": {},
   "outputs": [
    {
     "name": "stdout",
     "output_type": "stream",
     "text": [
      "AI data개수: 5920 정확도: 0.8050675675675676\n",
      "SIS data개수: 2523 정확도: 0.8180737217598097\n",
      "SW data개수: 3214 정확도: 0.7563783447417548\n",
      "da data개수: 765 정확도: 0.7333333333333333\n",
      "embedded data개수: 16 정확도: 0.625\n",
      "mobile data개수: 3497 정확도: 0.7680869316557049\n",
      "web data개수: 21 정확도: 0.47619047619047616\n",
      "total data개수: 15956 정확도: 0.7117329107498066\n"
     ]
    }
   ],
   "source": [
    "TOTLA = []\n",
    "NAME = ['AI', 'SIS', 'SW', 'da', 'embedded', 'mobile', 'web']\n",
    "\n",
    "TOTLA.append(AI)\n",
    "TOTLA.append(SIS)\n",
    "TOTLA.append(SW)\n",
    "TOTLA.append(da)\n",
    "TOTLA.append(embedded)\n",
    "TOTLA.append(mobile)\n",
    "TOTLA.append(web)\n",
    "\n",
    "avg = []\n",
    "s = []\n",
    "for name, i in zip(NAME, TOTLA):         \n",
    "    avg.append(np.mean(i))\n",
    "    s.append(len(i))\n",
    "    print(f'{name} data개수:', len(i), '정확도:', np.mean(i))\n",
    "print('total data개수:', np.sum(s), '정확도:', np.mean(avg))"
   ]
  },
  {
   "cell_type": "code",
   "execution_count": null,
   "metadata": {},
   "outputs": [],
   "source": []
  },
  {
   "cell_type": "code",
   "execution_count": null,
   "metadata": {},
   "outputs": [],
   "source": []
  },
  {
   "cell_type": "markdown",
   "metadata": {},
   "source": [
    "### Predict"
   ]
  },
  {
   "cell_type": "code",
   "execution_count": 188,
   "metadata": {
    "scrolled": true
   },
   "outputs": [
    {
     "name": "stdout",
     "output_type": "stream",
     "text": [
      "['국내', '최초', '웹소설', '오픈', '플랫폼', '조아라가', '국내', '최대', '규모의', '콘텐츠', '플랫폼', '카카오페이지와', '함께', '다음', '달', '13일부터', '기다리면', '무료', '공모전을', '개최한다.', '조아라와', '카카오페이지가', '공동으로', '진행하는', '이번', '공모전', '참여는', '조아라', '플랫폼에서', '이뤄지며', '수상작은', '조아라뿐', '아니라', '카카오페이지의', '기다리면', '무료에서', '연재된다.기다리면', '무료', '공모전은', '빛을', '발하지', '못한', '소설이', '독자들에게', '재조명', '받을', '수', '있도록', '기획됐다.', '예전부터', '연재해온', '소설일지라도', '유료화된', '소설이', '아니라면', '공모전에', '참여할', '수', '있는것.', '이는', '그동안', '무료로', '연재된', '모든', '소설의', '참여가', '가능하다는', '의미로', '오랜', '시간', '연재를', '했으나', '빛을', '보지', '못해', '작가가', '아쉬움을', '느낀', '소설,', '습작', '기간만을', '가진', '소설', '등으로', '참여', '범위를', '확대했다.공모전에는', '신인기성작가', '구분', '없이', '누구나', '지원할', '수', '있으며', '참여', '가능한', '장르는', '판타지,', '게임,', '무협,', '퓨전,', '스포츠,', '역사', '총', '6개', '장르다.', '조아라와', '카카오페이지는', '수상작품을', '대상으로', '웹툰화', '개발을', '검토해', 'IP', '확장', '기회를', '제공할', '예정이다.조아라는', '누구나', '소설을', '연재할', '수', '있는', '오픈', '플랫폼으로', '100%', '독자', '호응도(체류시간,', '조회', '수,', '추천', '수,', '평점,', '선호작', '수', '등)에', '의해', '인기', '작품을', '발견해', '내는', '시스템을', '갖고', '있다.', '이번', '공모전은', '조아라의', '이러한', '독자', '참여', '특성을', '활용해', '수상작을', '선정한', '후', '카카오페이지의', '기다리면', '무료라는', '성공적인', '비즈니스', '모델로', '트렌드를', '주도할', '소설을', '더', '많은', '독자들에게', '소개하는', '데', '목표를', '두고', '있다.공모전', '접수', '기간은', '10월', '13일부터', '11월', '11일까지며', '조아라', '플랫폼에서', '연재를', '시작하면', '된다.', '1화당', '5000자', '이상,', '최소', '13만', '자', '이상', '소설이', '연재돼야', '하며', '수위는', '전체', '및', '15세', '연령가다.', '최종', '수상작은', '11월', '25일', '발표될', '예정이다']\n",
      "\n",
      "V1_infer [-5.08225381e-01  4.02051330e-01  5.82347512e-01 -4.92477655e-01\n",
      "  4.28557128e-01 -1.35023043e-01  2.74233818e-01  1.16350554e-01\n",
      " -1.40099138e-01 -2.69886166e-01  8.49129260e-02 -1.31358191e-01\n",
      "  7.62398183e-01 -2.11418346e-01 -4.74868640e-02  4.00257140e-01\n",
      " -1.71801120e-01  2.92349428e-01 -1.73012525e-01 -6.67143092e-02\n",
      "  2.78315336e-01 -3.04578453e-01 -3.29696655e-01 -2.80881613e-01\n",
      "  5.96202016e-02  5.20277977e-01  3.90760601e-02 -5.81266880e-01\n",
      " -7.37121701e-02  2.00421795e-01  1.38577104e-01 -2.36405656e-01\n",
      "  2.57143885e-01  1.12070978e-01 -9.97206271e-02 -3.28456134e-01\n",
      "  1.10605560e-01 -4.36731219e-01  2.04409257e-01 -2.77716070e-01\n",
      "  5.35453796e-01 -2.63770163e-01  1.65785313e-01  2.06864357e-01\n",
      " -8.89308929e-01  2.40888298e-02 -2.17407182e-01 -4.18510556e-01\n",
      "  2.21776947e-01  1.91111833e-01  7.70817697e-02  8.33396763e-02\n",
      " -3.45378309e-01  2.75040329e-01 -4.35740769e-01 -5.57697117e-01\n",
      "  5.30531824e-01  2.11153880e-01 -6.82578743e-01  4.97240089e-02\n",
      "  3.28886788e-04 -4.83407587e-01  9.67485428e-01 -5.13133347e-01\n",
      "  1.20381834e-02  7.61901140e-02  6.62680149e-01  1.94458410e-01\n",
      " -1.23278171e-01 -4.26546931e-02 -7.27840304e-01  3.88986856e-01\n",
      " -2.97207590e-02  3.46387625e-02  1.67889297e-01  2.18199238e-01\n",
      " -1.03248514e-01  3.04022491e-01 -8.61717835e-02  6.84435427e-01\n",
      " -1.74485728e-01 -2.20100373e-01  3.60554218e-01  1.46849155e-01\n",
      " -8.85027498e-02 -8.80172849e-01  6.56529009e-01 -3.06523681e-01\n",
      "  2.35779166e-01  8.06157291e-02  7.34125555e-01  8.05045247e-01\n",
      "  2.22493276e-01  1.28009081e-01 -1.42603979e-01  5.86857617e-01\n",
      "  2.28159115e-01 -6.97121680e-01  4.78006005e-02  8.51599053e-02]\n"
     ]
    }
   ],
   "source": [
    "test_data = s2.split(\" \")\n",
    "v1 = d2v_model.infer_vector(test_data)\n",
    "print(test_data)\n",
    "print(\"\")\n",
    "print(\"V1_infer\", v1)"
   ]
  },
  {
   "cell_type": "code",
   "execution_count": 189,
   "metadata": {},
   "outputs": [],
   "source": [
    "v2 = pad_sequences([v1], maxlen=max_length, dtype='float64')"
   ]
  },
  {
   "cell_type": "code",
   "execution_count": 190,
   "metadata": {},
   "outputs": [
    {
     "data": {
      "text/plain": [
       "array([2], dtype=int64)"
      ]
     },
     "execution_count": 190,
     "metadata": {},
     "output_type": "execute_result"
    }
   ],
   "source": [
    "result = model.predict_classes(v2)\n",
    "result"
   ]
  },
  {
   "cell_type": "code",
   "execution_count": null,
   "metadata": {},
   "outputs": [],
   "source": []
  },
  {
   "cell_type": "code",
   "execution_count": null,
   "metadata": {},
   "outputs": [],
   "source": []
  },
  {
   "cell_type": "markdown",
   "metadata": {},
   "source": [
    "### test"
   ]
  },
  {
   "cell_type": "code",
   "execution_count": 14,
   "metadata": {},
   "outputs": [],
   "source": [
    "s = ['''\n",
    "카카오 들어오라 하세요 더불어민주당 윤영찬 의원이 9월 8일 보좌진에게 보낸 메신저 내용이 언론에 공개되면서 정치권에서 포털 뉴스 편집 논란이 불거졌다 국민의힘은 정부 여당의 언론통제 라고 주장하며 윤 의원의 사퇴를 촉구했고, 윤 의원은 9월 9일 자신의 페이스북에 보좌진과 나눈 문자가 보도됐고 비판을 받고 있다며 송구하다 저의 잘못이다라고 고개를 숙였다 이어 제가 의문을 갖고 묻고자 했던 것은 뉴스 편집 알고리즘의 객관성과 공정성이었다고 덧붙였다  한국언론진흥재단의 2018년 언론 수용자 의식 조사에 따르면 우리나라 국민의 71.4%는 네이버 뉴스를 이용하는 것으로 나타났다. 또한 2019년 한국언론진흥재단 미디어연구센터의 온라인 설문조사에 따르면 네이버를 통해 뉴스나 시사정보를 접한다고 응답한 비율이 62.8%로 월등히 높았고 다음이 19.4%, 유튜브가 5.3%로 뒤를 이었다 사람들이 뉴스를 가장 많이 소비하고 있는 양대 포털사이트 카카오 다음과 네이버의 뉴스 편집 알고리즘을 들여다봤다\n",
    "사람 대신 AI가 뉴스 편집 다음 뉴스의 경우 사용자별 맞춤형 콘텐츠 추천 시스템 루빅스(RUBICS)를 통해 자동으로 기사를 배치한다. 이후 뉴스 서비스 원칙과 인터넷뉴스서비스사업자의 기사 배열에 관한 자율규약에 따라 모니터링이 이뤄진다 카카오는 2015년부터 네이버는 2018년부터 AI인공지능 뉴스 편집 기술을 도입했다 \n",
    "과거에는 하루 3만여 개씩 출고되는 기사를 뉴스 에디터들이 체크하고 정치 경제 사회 카테고리별로 분담해 편집 원칙에 따라 기사를 메인에 직접 배치했다 그러다 2015년 6월부터는 뉴스를 자동으로 수집한 뒤 중복 문서나 어뷰징 문서 서비스 원칙에 반하는 문서를 걸러내고 이후 남은 기사를 루빅스 풀에 넣어 루빅스가 첫 화면에 기사를 자동 배치하는 방식으로 바뀌었다. 이 기사들은 카카오만의 알고리즘을 통해 개인 맞춤형으로 추천되기에 카카오톡 채널, 포털사이트 다음 등에 사람마다 다른 기사가 뜬다. \n",
    "9월 14일 휴대전화와 노트북컴퓨터 익스플로러와 크롬 동료의 휴대전화 등으로 다음 메인 화면에 접속해보니 모두 다른 뉴스 화면이 떴다. 몇 차례 새로 고치자 비슷한 뉴스가 떴지만 완벽하게 같은 화면은 나오지 않았다 \n",
    "''','''\n",
    "카카오엔터프라이즈는 인공지능 플랫폼 '카카오 i'를 탑재한 음성 인식 컨트롤러 '미니링크(mini LINK)'를 21일 출시했다. 미니링크는 스마트 스피커 '카카오미니'의 기능을 블루투스 스피커, 차량 등 다른 기기와 연결해 사용할 수 있다는 의미에서 붙여진 이름이다.\n",
    "\n",
    "또 카카오프렌즈의 캐릭터 '라이언'과 니니즈 캐릭터 '죠르디' 케이스 및 스트랩도 같이 출시했다.\n",
    "\n",
    "\n",
    "손에 들거나 목에 거는 것이 번거롭다면 기본으로 제공되는 마그네틱 트레이와 차량용 클립을 이용해 원하는 곳에 미니링크를 붙여서 사용하면 된다.\n",
    "\n",
    "미니링크는 한 손에 들어오는 작은 사이즈로 '휴대용 카카오미니'처럼 사용할 수 있다.\n",
    "카카오톡 메시지 확인과 보내기가 가능하고 원하는 음악을 감상하거나 추천 받을 수 있다. 뉴스, 환율, 주가, 운세 등의 지식·생활 정보뿐 아니라 △알람·메모 등록 △배달음식 주문 △교통·길 찾기 정보 △어학 사전 △영화·TV 정보도 이용할 수 있다.\n",
    "\n",
    "음성 명령 없이 버튼만으로 조작이 가능한 것도 장점이다. 이용자는 '헤이카카오' 라고 부를 필요 없이 '미니링크' 전면부에 위치한 '시동'(웨이크업) 버튼을 누른 후 원하는 정보나 기능을 말하면 된다. 미니링크의 가운데 버튼을 누르면 미니링크의 자체 스피커나 스마트폰·외부기기 등 출력 스피커 설정을 바꿀 수 있다.\n",
    "\n",
    "메시지 확인·전송의 경우 미니링크 오른쪽의 카카오톡 버튼을 짧게 한번 누르면 새로운 카카오톡 메시지를 읽어주고, 짧게 두 번 누르면 읽고 있던 채팅방에 새 메시지를 보낼 수 있다. 헤이카카오앱 설정을 통해 버튼 두 번으로 특정 친구에게 메시지를 보내는 것도 가능하다.\n",
    "\n",
    "카카오엔터프라이즈 측은 \"미니링크는 시간,장소에 구애받지 않고 언제 어디서나 카카오i를 사용할 수 있도록 했다\"며 \"'카카오미니', '카카오미니 C'에 이어 '미니링크' 까지 이용자들의 다양한 니즈를 감안해 지속적으로 디바이스를 진화시키고 있다\"고 밝혔다.\n",
    "\n",
    "미니링크는 이날부터 카카오톡 선물하기에서 판매를 시작한다. 미니링크 본체는 3만2300원, 캐릭터 케이스 패키지는 4만1300원이다. 미니링크는 헤이카카오 안드로이드앱의 '기기관리' 설정에서 연결해 사용할 수 있으며 iOS는 4분기중 지원할 예정이다.\n",
    "''',\n",
    "'''\n",
    "대전도시철도에 전국에서 처음으로 인공지능(AI)이 도입된다. \n",
    "\n",
    "안전사고를 예방하고, 불법촬영 등을 감시할 뿐만 아니라, 기계시설물의 고장을 사전에 예방하는 등 인공지능이 고객 안전 지킴이 역할을 하게 되고, 도시철도 운영효율도 크게 높아질 전망이다.\n",
    "\n",
    "대전시와 대전도시철도공사는 과학기술정보통신부가 주관한 ‘디지털 뉴딜 사업’인공지능(AI) 분야에 2건의 사업이 선정돼 국비 53억 원을 확보했다고 21일 밝혔다.\n",
    "\n",
    "첫 번째 사업은 도시철도 폐쇄회로텔레비전(CCTV)에 인공지능(AI)기술을 적용하는 사업으로 도시철도 역사에서 이상행동이 일어나면 즉각 대처하도록 학습용 데이터를 구축하는 사업이다.\n",
    "\n",
    "이 사업을 통해 대전도시철도공사는 일명‘대전형 3마(걱정마, 꼼짝마, 찍지마) 스테이션’을 구축한다는 구상이다.\n",
    "\n",
    "인공지능을 통해 에스컬레이터 넘어짐 사고, 고객 폭력 사고, 몰래카메라 등 최근 증가하고 있는 도시철도 사고 및 범죄 예방을 획기적으로 감소시키는데 큰 역할을 할 것으로 기대된다.\n",
    "\n",
    "이 사업은 대전도시철도공사가 주관하고 대전시, 한국기계연구원, 한밭대, 플랜아이, 데이터메이커 등 지역기업이 참여해 정부에 제안한 사업으로 공모에 선정돼 국비 35억 원을 지원받는다.\n",
    "\n",
    " \n",
    "\n",
    "\n",
    "도시철도 이용객 이상행동 유형 / 대전시 제공\n",
    "두 번째 사업은 도시철도에 설치된 기계시설물에 사물인터넷(IoT) 센서를 설치하고, 이를 통해 수집된 데이터를 인공지능이 분석해 고장을 사전에 예지하는 사업이다.\n",
    "\n",
    "이 사업을 통해 인공지능기반 도시철도 기계관리 시스템이 구축됨으로써 기계를 안전하게 관리할 수 있을 뿐만 아니라, 고장을 사전에 예지하고 최적의 교체시기 판단 등으로 기계의 수명이 크게 올라갈 것으로 기대된다.\n",
    "\n",
    "이 사업은 대전시가 주관했고, 대전도시철도공사, 한국기계연구원과 데이터메이커 등 5개 지역기업이 참여했으며, 국비 18억 원을 지원받게 된다. \n",
    "\n",
    " \n",
    "\n",
    "\n",
    "도시철도 기계시설물 전류ㆍ진동데이터 구축 시스템 / 대전시\n",
    "두 사업을 추진하는 과정에서 데이터 가공을 위한 일자리 약 130개가 창출될 것으로 기대된다.\n",
    "\n",
    "대전시 문창용 과학산업국장은 “이번 사업은 공공기관이 갖고 있는 데이터와 행정지원을 바탕으로 지역스타트업, 출연연, 대학이 합심하여 얻어낸 디지털 뉴딜사업이라”며 “지역 인공지능산업 발전과 시민 삶의 질 향상이라는 두 마리 토끼를 잡을 수 있는 기회를 얻었다”고 말했다.\n",
    "\n",
    "대전도시철도공사 조종현 연구개발원장은 “이번 사업은 인공지능을 도시철도에 첫 적용하는 사업인 만큼, 고객의 안전성 확보와, 도시철도 경영 효율 향상에 목표를 두고 사업을 추진하겠다”고 밝혔다.\n",
    "\n",
    "'''\n",
    "    \n",
    "    ]"
   ]
  },
  {
   "cell_type": "code",
   "execution_count": 15,
   "metadata": {},
   "outputs": [],
   "source": [
    "content_lst = [] "
   ]
  },
  {
   "cell_type": "code",
   "execution_count": 16,
   "metadata": {},
   "outputs": [],
   "source": [
    "import re\n",
    "\n",
    "for i in s:\n",
    "    i = i.replace('\\n', \" \")\n",
    "    i = re.sub('[^\\w]', ' ', i)\n",
    "    content_lst.append(i)"
   ]
  },
  {
   "cell_type": "code",
   "execution_count": 28,
   "metadata": {},
   "outputs": [
    {
     "data": {
      "text/plain": [
       "array([-0.12470572,  0.03894868,  0.7591417 , -0.18847096,  0.09347772,\n",
       "        0.2846552 , -0.0256751 , -0.00347712,  0.1592171 , -0.5350714 ,\n",
       "        0.17096499, -0.03976787,  0.03777841, -0.04733899,  0.7071015 ,\n",
       "        0.30742887, -0.11835787,  0.5595841 , -0.5593429 ,  0.57694584,\n",
       "        0.00533386,  0.29990005, -0.76061565, -0.785196  ,  0.45022961,\n",
       "       -0.14271408,  0.6079548 , -0.40444028,  0.43618685,  0.13620286,\n",
       "        0.3213781 ,  0.89786464, -0.08380085,  0.15328778,  0.08558855,\n",
       "       -1.0170805 , -0.5292296 , -0.34664866,  0.30793875, -0.35194254,\n",
       "       -0.2923201 ,  0.07709347, -0.5220576 ,  0.3234561 , -0.44191566,\n",
       "       -0.28670785,  0.1166726 , -0.40365025,  0.08493131,  0.14009058,\n",
       "       -0.48601598, -0.46078834, -0.40834764,  0.5226572 , -0.30778155,\n",
       "       -0.15080585,  0.01780927,  0.04067064, -0.845382  ,  0.02096087,\n",
       "        0.2751761 , -0.6209703 ,  0.3547332 , -0.32364187,  0.65459394,\n",
       "        0.11699024,  1.0367846 , -0.09478776, -0.39634758, -0.24534988,\n",
       "       -0.17848551,  0.13710919,  0.6373243 , -0.29923877,  0.17281508,\n",
       "        0.21243729,  0.01055399, -0.5519403 ,  0.18142323,  0.46445042,\n",
       "        0.5222128 ,  0.24466616,  0.30174363,  0.33401933, -0.15620357,\n",
       "       -0.7570653 ,  0.11271561,  0.15260394, -0.14769693, -0.23716173,\n",
       "        0.45857295,  0.53703403,  0.44719532,  0.28503785, -0.34507197,\n",
       "        0.88966554, -0.39649168, -0.28970507,  0.37426886,  0.56537926],\n",
       "      dtype=float32)"
      ]
     },
     "execution_count": 28,
     "metadata": {},
     "output_type": "execute_result"
    }
   ],
   "source": [
    "v1"
   ]
  },
  {
   "cell_type": "code",
   "execution_count": 34,
   "metadata": {},
   "outputs": [
    {
     "data": {
      "text/plain": [
       "array([[ 0.16028896,  0.31600836,  1.17203951, -0.49834508,  0.20788699,\n",
       "         0.65706992,  0.15922405,  0.49644133,  0.29822862, -0.43412143,\n",
       "         0.36224931,  0.3756384 ,  0.44083229, -0.68174791,  1.01219201,\n",
       "        -0.13857412, -0.63314569, -0.4982357 , -1.04464626,  0.28436574,\n",
       "        -0.17289223,  0.28556845, -0.6067459 ,  0.73527294, -0.10155154,\n",
       "        -0.43786708,  0.44031125, -0.34897673,  0.36717981, -0.3086617 ,\n",
       "         0.27789709,  0.06408749,  0.38449919,  0.72660047,  0.26481494,\n",
       "        -0.82827526, -0.05132429, -0.30215031,  0.45521304,  0.22518609,\n",
       "        -0.28799024,  0.15078147,  0.32595268,  0.00952135,  0.08888114,\n",
       "        -0.17353454,  0.91739583, -0.42494452, -1.53918827, -0.06286927,\n",
       "         0.429106  , -0.98768663, -0.28258884,  1.25182283, -0.0149621 ,\n",
       "         0.49455673,  0.73110807, -0.52811575, -1.40673482, -0.16012931,\n",
       "         1.8038944 , -0.42027989,  1.52922153,  0.02495989,  1.22420573,\n",
       "        -0.10494144,  0.920798  , -0.07649678, -0.55671793, -0.39922333,\n",
       "         1.21908939, -0.6831367 ,  0.7555775 ,  0.02675539,  0.31795302,\n",
       "         0.00244518,  0.19206207,  0.40049866, -0.48373097,  0.12034044,\n",
       "         0.00674572,  0.1132301 , -0.14309204, -0.4105103 ,  0.75365174,\n",
       "        -0.47939718,  0.82126647, -0.14235604, -0.18310425,  0.12348251,\n",
       "         1.05720663,  0.83443582,  0.41216183,  0.13129956, -0.20423567,\n",
       "         0.06066099, -0.23956849, -0.0372893 , -0.32639527, -0.14383686]])"
      ]
     },
     "execution_count": 34,
     "metadata": {},
     "output_type": "execute_result"
    }
   ],
   "source": [
    "test_data = content_lst[1].split(\" \")\n",
    "v1 = d2v_model.infer_vector(test_data)\n",
    "\n",
    "v2 = pad_sequences([v1], maxlen=max_length, dtype='float64')\n",
    "v2"
   ]
  },
  {
   "cell_type": "code",
   "execution_count": 33,
   "metadata": {},
   "outputs": [
    {
     "data": {
      "text/plain": [
       "array([[ 0.48214534,  1.068398  ,  0.40257704, -0.26003286, -0.49507898,\n",
       "         0.29230157, -0.21620245,  0.19065472,  0.41545758,  0.26544145,\n",
       "         0.56833202,  0.01658809, -0.24667637,  0.04278026, -0.92408395,\n",
       "        -0.24416482,  0.16166455, -1.5677582 , -0.62413669, -0.16495481,\n",
       "        -0.02943712, -0.85427296, -0.38255796,  0.10412681, -0.44332311,\n",
       "         0.15631184,  0.02267468,  0.09466697,  0.53251731, -0.53275037,\n",
       "        -0.02198898,  0.18264851,  0.28258157, -0.44983554, -0.53786933,\n",
       "        -0.53667766, -0.1034585 ,  0.04810411,  0.28146812,  0.54544413,\n",
       "         0.05381949, -0.26764569, -0.17198056, -0.25119996, -1.30941677,\n",
       "         0.19360961,  0.83009064,  0.02962929, -0.8968879 , -0.89453685,\n",
       "         0.49509013, -0.2317552 ,  0.4009999 ,  0.10260051, -0.23107128,\n",
       "        -1.5691781 ,  0.56077403,  0.56228548, -0.08072607,  0.6284138 ,\n",
       "        -0.14111081, -0.34329775,  0.39372686, -0.44868666, -0.40002927,\n",
       "        -0.61760378,  0.17444374,  0.70984584,  1.00246835, -0.44915718,\n",
       "         0.55930662, -0.56929433, -0.03722352, -0.04891003, -0.08220143,\n",
       "         1.01075804, -0.06594913,  0.54103339, -0.1207756 ,  1.19052517,\n",
       "         0.13127393, -0.390542  , -0.30560613, -0.23966378, -0.21339414,\n",
       "         0.32681966,  0.28657565, -0.77588993,  0.58566904, -0.80084902,\n",
       "         0.18403885, -0.5247764 ,  0.12271479,  0.22489034, -0.31938562,\n",
       "         0.77808881, -0.26569816,  0.76878321, -1.23454511, -0.3269136 ]])"
      ]
     },
     "execution_count": 33,
     "metadata": {},
     "output_type": "execute_result"
    }
   ],
   "source": [
    "test_data = content_lst[2].split(\" \")\n",
    "v1 = d2v_model.infer_vector(test_data)\n",
    "\n",
    "v2 = pad_sequences([v1], maxlen=max_length, dtype='float64')\n",
    "v2"
   ]
  },
  {
   "cell_type": "code",
   "execution_count": 36,
   "metadata": {},
   "outputs": [
    {
     "ename": "InvalidArgumentError",
     "evalue": "2 root error(s) found.\n  (0) Invalid argument:  indices[0,18] = -1 is not in [0, 79779)\n\t [[node sequential_1/embedding_1/embedding_lookup (defined at C:\\Users\\MyLaptop\\anaconda3\\lib\\site-packages\\tensorflow_core\\python\\framework\\ops.py:1751) ]]\n\t [[sequential_1/embedding_1/embedding_lookup/_6]]\n  (1) Invalid argument:  indices[0,18] = -1 is not in [0, 79779)\n\t [[node sequential_1/embedding_1/embedding_lookup (defined at C:\\Users\\MyLaptop\\anaconda3\\lib\\site-packages\\tensorflow_core\\python\\framework\\ops.py:1751) ]]\n0 successful operations.\n0 derived errors ignored. [Op:__inference_distributed_function_105461]\n\nFunction call stack:\ndistributed_function -> distributed_function\n",
     "output_type": "error",
     "traceback": [
      "\u001b[1;31m---------------------------------------------------------------------------\u001b[0m",
      "\u001b[1;31mInvalidArgumentError\u001b[0m                      Traceback (most recent call last)",
      "\u001b[1;32m<ipython-input-36-b3d07fefcf76>\u001b[0m in \u001b[0;36m<module>\u001b[1;34m\u001b[0m\n\u001b[1;32m----> 1\u001b[1;33m \u001b[0mresult\u001b[0m \u001b[1;33m=\u001b[0m \u001b[0mmodel\u001b[0m\u001b[1;33m.\u001b[0m\u001b[0mpredict_classes\u001b[0m\u001b[1;33m(\u001b[0m\u001b[0mv2\u001b[0m\u001b[1;33m)\u001b[0m\u001b[1;33m\u001b[0m\u001b[1;33m\u001b[0m\u001b[0m\n\u001b[0m\u001b[0;32m      2\u001b[0m \u001b[0mresult\u001b[0m\u001b[1;33m\u001b[0m\u001b[1;33m\u001b[0m\u001b[0m\n",
      "\u001b[1;32m~\\anaconda3\\lib\\site-packages\\tensorflow_core\\python\\keras\\engine\\sequential.py\u001b[0m in \u001b[0;36mpredict_classes\u001b[1;34m(self, x, batch_size, verbose)\u001b[0m\n\u001b[0;32m    325\u001b[0m         \u001b[0mA\u001b[0m \u001b[0mnumpy\u001b[0m \u001b[0marray\u001b[0m \u001b[0mof\u001b[0m \u001b[1;32mclass\u001b[0m \u001b[0mpredictions\u001b[0m\u001b[1;33m.\u001b[0m\u001b[1;33m\u001b[0m\u001b[1;33m\u001b[0m\u001b[0m\n\u001b[0;32m    326\u001b[0m     \"\"\"\n\u001b[1;32m--> 327\u001b[1;33m     \u001b[0mproba\u001b[0m \u001b[1;33m=\u001b[0m \u001b[0mself\u001b[0m\u001b[1;33m.\u001b[0m\u001b[0mpredict\u001b[0m\u001b[1;33m(\u001b[0m\u001b[0mx\u001b[0m\u001b[1;33m,\u001b[0m \u001b[0mbatch_size\u001b[0m\u001b[1;33m=\u001b[0m\u001b[0mbatch_size\u001b[0m\u001b[1;33m,\u001b[0m \u001b[0mverbose\u001b[0m\u001b[1;33m=\u001b[0m\u001b[0mverbose\u001b[0m\u001b[1;33m)\u001b[0m\u001b[1;33m\u001b[0m\u001b[1;33m\u001b[0m\u001b[0m\n\u001b[0m\u001b[0;32m    328\u001b[0m     \u001b[1;32mif\u001b[0m \u001b[0mproba\u001b[0m\u001b[1;33m.\u001b[0m\u001b[0mshape\u001b[0m\u001b[1;33m[\u001b[0m\u001b[1;33m-\u001b[0m\u001b[1;36m1\u001b[0m\u001b[1;33m]\u001b[0m \u001b[1;33m>\u001b[0m \u001b[1;36m1\u001b[0m\u001b[1;33m:\u001b[0m\u001b[1;33m\u001b[0m\u001b[1;33m\u001b[0m\u001b[0m\n\u001b[0;32m    329\u001b[0m       \u001b[1;32mreturn\u001b[0m \u001b[0mproba\u001b[0m\u001b[1;33m.\u001b[0m\u001b[0margmax\u001b[0m\u001b[1;33m(\u001b[0m\u001b[0maxis\u001b[0m\u001b[1;33m=\u001b[0m\u001b[1;33m-\u001b[0m\u001b[1;36m1\u001b[0m\u001b[1;33m)\u001b[0m\u001b[1;33m\u001b[0m\u001b[1;33m\u001b[0m\u001b[0m\n",
      "\u001b[1;32m~\\anaconda3\\lib\\site-packages\\tensorflow_core\\python\\keras\\engine\\training.py\u001b[0m in \u001b[0;36mpredict\u001b[1;34m(self, x, batch_size, verbose, steps, callbacks, max_queue_size, workers, use_multiprocessing)\u001b[0m\n\u001b[0;32m    907\u001b[0m         \u001b[0mmax_queue_size\u001b[0m\u001b[1;33m=\u001b[0m\u001b[0mmax_queue_size\u001b[0m\u001b[1;33m,\u001b[0m\u001b[1;33m\u001b[0m\u001b[1;33m\u001b[0m\u001b[0m\n\u001b[0;32m    908\u001b[0m         \u001b[0mworkers\u001b[0m\u001b[1;33m=\u001b[0m\u001b[0mworkers\u001b[0m\u001b[1;33m,\u001b[0m\u001b[1;33m\u001b[0m\u001b[1;33m\u001b[0m\u001b[0m\n\u001b[1;32m--> 909\u001b[1;33m         use_multiprocessing=use_multiprocessing)\n\u001b[0m\u001b[0;32m    910\u001b[0m \u001b[1;33m\u001b[0m\u001b[0m\n\u001b[0;32m    911\u001b[0m   \u001b[1;32mdef\u001b[0m \u001b[0mreset_metrics\u001b[0m\u001b[1;33m(\u001b[0m\u001b[0mself\u001b[0m\u001b[1;33m)\u001b[0m\u001b[1;33m:\u001b[0m\u001b[1;33m\u001b[0m\u001b[1;33m\u001b[0m\u001b[0m\n",
      "\u001b[1;32m~\\anaconda3\\lib\\site-packages\\tensorflow_core\\python\\keras\\engine\\training_v2.py\u001b[0m in \u001b[0;36mpredict\u001b[1;34m(self, model, x, batch_size, verbose, steps, callbacks, **kwargs)\u001b[0m\n\u001b[0;32m    460\u001b[0m     return self._model_iteration(\n\u001b[0;32m    461\u001b[0m         \u001b[0mmodel\u001b[0m\u001b[1;33m,\u001b[0m \u001b[0mModeKeys\u001b[0m\u001b[1;33m.\u001b[0m\u001b[0mPREDICT\u001b[0m\u001b[1;33m,\u001b[0m \u001b[0mx\u001b[0m\u001b[1;33m=\u001b[0m\u001b[0mx\u001b[0m\u001b[1;33m,\u001b[0m \u001b[0mbatch_size\u001b[0m\u001b[1;33m=\u001b[0m\u001b[0mbatch_size\u001b[0m\u001b[1;33m,\u001b[0m \u001b[0mverbose\u001b[0m\u001b[1;33m=\u001b[0m\u001b[0mverbose\u001b[0m\u001b[1;33m,\u001b[0m\u001b[1;33m\u001b[0m\u001b[1;33m\u001b[0m\u001b[0m\n\u001b[1;32m--> 462\u001b[1;33m         steps=steps, callbacks=callbacks, **kwargs)\n\u001b[0m\u001b[0;32m    463\u001b[0m \u001b[1;33m\u001b[0m\u001b[0m\n\u001b[0;32m    464\u001b[0m \u001b[1;33m\u001b[0m\u001b[0m\n",
      "\u001b[1;32m~\\anaconda3\\lib\\site-packages\\tensorflow_core\\python\\keras\\engine\\training_v2.py\u001b[0m in \u001b[0;36m_model_iteration\u001b[1;34m(self, model, mode, x, y, batch_size, verbose, sample_weight, steps, callbacks, **kwargs)\u001b[0m\n\u001b[0;32m    442\u001b[0m               \u001b[0mmode\u001b[0m\u001b[1;33m=\u001b[0m\u001b[0mmode\u001b[0m\u001b[1;33m,\u001b[0m\u001b[1;33m\u001b[0m\u001b[1;33m\u001b[0m\u001b[0m\n\u001b[0;32m    443\u001b[0m               \u001b[0mtraining_context\u001b[0m\u001b[1;33m=\u001b[0m\u001b[0mtraining_context\u001b[0m\u001b[1;33m,\u001b[0m\u001b[1;33m\u001b[0m\u001b[1;33m\u001b[0m\u001b[0m\n\u001b[1;32m--> 444\u001b[1;33m               total_epochs=1)\n\u001b[0m\u001b[0;32m    445\u001b[0m           \u001b[0mcbks\u001b[0m\u001b[1;33m.\u001b[0m\u001b[0mmake_logs\u001b[0m\u001b[1;33m(\u001b[0m\u001b[0mmodel\u001b[0m\u001b[1;33m,\u001b[0m \u001b[0mepoch_logs\u001b[0m\u001b[1;33m,\u001b[0m \u001b[0mresult\u001b[0m\u001b[1;33m,\u001b[0m \u001b[0mmode\u001b[0m\u001b[1;33m)\u001b[0m\u001b[1;33m\u001b[0m\u001b[1;33m\u001b[0m\u001b[0m\n\u001b[0;32m    446\u001b[0m \u001b[1;33m\u001b[0m\u001b[0m\n",
      "\u001b[1;32m~\\anaconda3\\lib\\site-packages\\tensorflow_core\\python\\keras\\engine\\training_v2.py\u001b[0m in \u001b[0;36mrun_one_epoch\u001b[1;34m(model, iterator, execution_function, dataset_size, batch_size, strategy, steps_per_epoch, num_samples, mode, training_context, total_epochs)\u001b[0m\n\u001b[0;32m    121\u001b[0m         step=step, mode=mode, size=current_batch_size) as batch_logs:\n\u001b[0;32m    122\u001b[0m       \u001b[1;32mtry\u001b[0m\u001b[1;33m:\u001b[0m\u001b[1;33m\u001b[0m\u001b[1;33m\u001b[0m\u001b[0m\n\u001b[1;32m--> 123\u001b[1;33m         \u001b[0mbatch_outs\u001b[0m \u001b[1;33m=\u001b[0m \u001b[0mexecution_function\u001b[0m\u001b[1;33m(\u001b[0m\u001b[0miterator\u001b[0m\u001b[1;33m)\u001b[0m\u001b[1;33m\u001b[0m\u001b[1;33m\u001b[0m\u001b[0m\n\u001b[0m\u001b[0;32m    124\u001b[0m       \u001b[1;32mexcept\u001b[0m \u001b[1;33m(\u001b[0m\u001b[0mStopIteration\u001b[0m\u001b[1;33m,\u001b[0m \u001b[0merrors\u001b[0m\u001b[1;33m.\u001b[0m\u001b[0mOutOfRangeError\u001b[0m\u001b[1;33m)\u001b[0m\u001b[1;33m:\u001b[0m\u001b[1;33m\u001b[0m\u001b[1;33m\u001b[0m\u001b[0m\n\u001b[0;32m    125\u001b[0m         \u001b[1;31m# TODO(kaftan): File bug about tf function and errors.OutOfRangeError?\u001b[0m\u001b[1;33m\u001b[0m\u001b[1;33m\u001b[0m\u001b[1;33m\u001b[0m\u001b[0m\n",
      "\u001b[1;32m~\\anaconda3\\lib\\site-packages\\tensorflow_core\\python\\keras\\engine\\training_v2_utils.py\u001b[0m in \u001b[0;36mexecution_function\u001b[1;34m(input_fn)\u001b[0m\n\u001b[0;32m     84\u001b[0m     \u001b[1;31m# `numpy` translates Tensors to values in Eager mode.\u001b[0m\u001b[1;33m\u001b[0m\u001b[1;33m\u001b[0m\u001b[1;33m\u001b[0m\u001b[0m\n\u001b[0;32m     85\u001b[0m     return nest.map_structure(_non_none_constant_value,\n\u001b[1;32m---> 86\u001b[1;33m                               distributed_function(input_fn))\n\u001b[0m\u001b[0;32m     87\u001b[0m \u001b[1;33m\u001b[0m\u001b[0m\n\u001b[0;32m     88\u001b[0m   \u001b[1;32mreturn\u001b[0m \u001b[0mexecution_function\u001b[0m\u001b[1;33m\u001b[0m\u001b[1;33m\u001b[0m\u001b[0m\n",
      "\u001b[1;32m~\\anaconda3\\lib\\site-packages\\tensorflow_core\\python\\eager\\def_function.py\u001b[0m in \u001b[0;36m__call__\u001b[1;34m(self, *args, **kwds)\u001b[0m\n\u001b[0;32m    455\u001b[0m \u001b[1;33m\u001b[0m\u001b[0m\n\u001b[0;32m    456\u001b[0m     \u001b[0mtracing_count\u001b[0m \u001b[1;33m=\u001b[0m \u001b[0mself\u001b[0m\u001b[1;33m.\u001b[0m\u001b[0m_get_tracing_count\u001b[0m\u001b[1;33m(\u001b[0m\u001b[1;33m)\u001b[0m\u001b[1;33m\u001b[0m\u001b[1;33m\u001b[0m\u001b[0m\n\u001b[1;32m--> 457\u001b[1;33m     \u001b[0mresult\u001b[0m \u001b[1;33m=\u001b[0m \u001b[0mself\u001b[0m\u001b[1;33m.\u001b[0m\u001b[0m_call\u001b[0m\u001b[1;33m(\u001b[0m\u001b[1;33m*\u001b[0m\u001b[0margs\u001b[0m\u001b[1;33m,\u001b[0m \u001b[1;33m**\u001b[0m\u001b[0mkwds\u001b[0m\u001b[1;33m)\u001b[0m\u001b[1;33m\u001b[0m\u001b[1;33m\u001b[0m\u001b[0m\n\u001b[0m\u001b[0;32m    458\u001b[0m     \u001b[1;32mif\u001b[0m \u001b[0mtracing_count\u001b[0m \u001b[1;33m==\u001b[0m \u001b[0mself\u001b[0m\u001b[1;33m.\u001b[0m\u001b[0m_get_tracing_count\u001b[0m\u001b[1;33m(\u001b[0m\u001b[1;33m)\u001b[0m\u001b[1;33m:\u001b[0m\u001b[1;33m\u001b[0m\u001b[1;33m\u001b[0m\u001b[0m\n\u001b[0;32m    459\u001b[0m       \u001b[0mself\u001b[0m\u001b[1;33m.\u001b[0m\u001b[0m_call_counter\u001b[0m\u001b[1;33m.\u001b[0m\u001b[0mcalled_without_tracing\u001b[0m\u001b[1;33m(\u001b[0m\u001b[1;33m)\u001b[0m\u001b[1;33m\u001b[0m\u001b[1;33m\u001b[0m\u001b[0m\n",
      "\u001b[1;32m~\\anaconda3\\lib\\site-packages\\tensorflow_core\\python\\eager\\def_function.py\u001b[0m in \u001b[0;36m_call\u001b[1;34m(self, *args, **kwds)\u001b[0m\n\u001b[0;32m    492\u001b[0m       \u001b[1;31m# In this case we have not created variables on the first call. So we can\u001b[0m\u001b[1;33m\u001b[0m\u001b[1;33m\u001b[0m\u001b[1;33m\u001b[0m\u001b[0m\n\u001b[0;32m    493\u001b[0m       \u001b[1;31m# run the first trace but we should fail if variables are created.\u001b[0m\u001b[1;33m\u001b[0m\u001b[1;33m\u001b[0m\u001b[1;33m\u001b[0m\u001b[0m\n\u001b[1;32m--> 494\u001b[1;33m       \u001b[0mresults\u001b[0m \u001b[1;33m=\u001b[0m \u001b[0mself\u001b[0m\u001b[1;33m.\u001b[0m\u001b[0m_stateful_fn\u001b[0m\u001b[1;33m(\u001b[0m\u001b[1;33m*\u001b[0m\u001b[0margs\u001b[0m\u001b[1;33m,\u001b[0m \u001b[1;33m**\u001b[0m\u001b[0mkwds\u001b[0m\u001b[1;33m)\u001b[0m\u001b[1;33m\u001b[0m\u001b[1;33m\u001b[0m\u001b[0m\n\u001b[0m\u001b[0;32m    495\u001b[0m       \u001b[1;32mif\u001b[0m \u001b[0mself\u001b[0m\u001b[1;33m.\u001b[0m\u001b[0m_created_variables\u001b[0m\u001b[1;33m:\u001b[0m\u001b[1;33m\u001b[0m\u001b[1;33m\u001b[0m\u001b[0m\n\u001b[0;32m    496\u001b[0m         raise ValueError(\"Creating variables on a non-first call to a function\"\n",
      "\u001b[1;32m~\\anaconda3\\lib\\site-packages\\tensorflow_core\\python\\eager\\function.py\u001b[0m in \u001b[0;36m__call__\u001b[1;34m(self, *args, **kwargs)\u001b[0m\n\u001b[0;32m   1821\u001b[0m     \u001b[1;34m\"\"\"Calls a graph function specialized to the inputs.\"\"\"\u001b[0m\u001b[1;33m\u001b[0m\u001b[1;33m\u001b[0m\u001b[0m\n\u001b[0;32m   1822\u001b[0m     \u001b[0mgraph_function\u001b[0m\u001b[1;33m,\u001b[0m \u001b[0margs\u001b[0m\u001b[1;33m,\u001b[0m \u001b[0mkwargs\u001b[0m \u001b[1;33m=\u001b[0m \u001b[0mself\u001b[0m\u001b[1;33m.\u001b[0m\u001b[0m_maybe_define_function\u001b[0m\u001b[1;33m(\u001b[0m\u001b[0margs\u001b[0m\u001b[1;33m,\u001b[0m \u001b[0mkwargs\u001b[0m\u001b[1;33m)\u001b[0m\u001b[1;33m\u001b[0m\u001b[1;33m\u001b[0m\u001b[0m\n\u001b[1;32m-> 1823\u001b[1;33m     \u001b[1;32mreturn\u001b[0m \u001b[0mgraph_function\u001b[0m\u001b[1;33m.\u001b[0m\u001b[0m_filtered_call\u001b[0m\u001b[1;33m(\u001b[0m\u001b[0margs\u001b[0m\u001b[1;33m,\u001b[0m \u001b[0mkwargs\u001b[0m\u001b[1;33m)\u001b[0m  \u001b[1;31m# pylint: disable=protected-access\u001b[0m\u001b[1;33m\u001b[0m\u001b[1;33m\u001b[0m\u001b[0m\n\u001b[0m\u001b[0;32m   1824\u001b[0m \u001b[1;33m\u001b[0m\u001b[0m\n\u001b[0;32m   1825\u001b[0m   \u001b[1;33m@\u001b[0m\u001b[0mproperty\u001b[0m\u001b[1;33m\u001b[0m\u001b[1;33m\u001b[0m\u001b[0m\n",
      "\u001b[1;32m~\\anaconda3\\lib\\site-packages\\tensorflow_core\\python\\eager\\function.py\u001b[0m in \u001b[0;36m_filtered_call\u001b[1;34m(self, args, kwargs)\u001b[0m\n\u001b[0;32m   1139\u001b[0m          if isinstance(t, (ops.Tensor,\n\u001b[0;32m   1140\u001b[0m                            resource_variable_ops.BaseResourceVariable))),\n\u001b[1;32m-> 1141\u001b[1;33m         self.captured_inputs)\n\u001b[0m\u001b[0;32m   1142\u001b[0m \u001b[1;33m\u001b[0m\u001b[0m\n\u001b[0;32m   1143\u001b[0m   \u001b[1;32mdef\u001b[0m \u001b[0m_call_flat\u001b[0m\u001b[1;33m(\u001b[0m\u001b[0mself\u001b[0m\u001b[1;33m,\u001b[0m \u001b[0margs\u001b[0m\u001b[1;33m,\u001b[0m \u001b[0mcaptured_inputs\u001b[0m\u001b[1;33m,\u001b[0m \u001b[0mcancellation_manager\u001b[0m\u001b[1;33m=\u001b[0m\u001b[1;32mNone\u001b[0m\u001b[1;33m)\u001b[0m\u001b[1;33m:\u001b[0m\u001b[1;33m\u001b[0m\u001b[1;33m\u001b[0m\u001b[0m\n",
      "\u001b[1;32m~\\anaconda3\\lib\\site-packages\\tensorflow_core\\python\\eager\\function.py\u001b[0m in \u001b[0;36m_call_flat\u001b[1;34m(self, args, captured_inputs, cancellation_manager)\u001b[0m\n\u001b[0;32m   1222\u001b[0m     \u001b[1;32mif\u001b[0m \u001b[0mexecuting_eagerly\u001b[0m\u001b[1;33m:\u001b[0m\u001b[1;33m\u001b[0m\u001b[1;33m\u001b[0m\u001b[0m\n\u001b[0;32m   1223\u001b[0m       flat_outputs = forward_function.call(\n\u001b[1;32m-> 1224\u001b[1;33m           ctx, args, cancellation_manager=cancellation_manager)\n\u001b[0m\u001b[0;32m   1225\u001b[0m     \u001b[1;32melse\u001b[0m\u001b[1;33m:\u001b[0m\u001b[1;33m\u001b[0m\u001b[1;33m\u001b[0m\u001b[0m\n\u001b[0;32m   1226\u001b[0m       \u001b[0mgradient_name\u001b[0m \u001b[1;33m=\u001b[0m \u001b[0mself\u001b[0m\u001b[1;33m.\u001b[0m\u001b[0m_delayed_rewrite_functions\u001b[0m\u001b[1;33m.\u001b[0m\u001b[0mregister\u001b[0m\u001b[1;33m(\u001b[0m\u001b[1;33m)\u001b[0m\u001b[1;33m\u001b[0m\u001b[1;33m\u001b[0m\u001b[0m\n",
      "\u001b[1;32m~\\anaconda3\\lib\\site-packages\\tensorflow_core\\python\\eager\\function.py\u001b[0m in \u001b[0;36mcall\u001b[1;34m(self, ctx, args, cancellation_manager)\u001b[0m\n\u001b[0;32m    509\u001b[0m               \u001b[0minputs\u001b[0m\u001b[1;33m=\u001b[0m\u001b[0margs\u001b[0m\u001b[1;33m,\u001b[0m\u001b[1;33m\u001b[0m\u001b[1;33m\u001b[0m\u001b[0m\n\u001b[0;32m    510\u001b[0m               \u001b[0mattrs\u001b[0m\u001b[1;33m=\u001b[0m\u001b[1;33m(\u001b[0m\u001b[1;34m\"executor_type\"\u001b[0m\u001b[1;33m,\u001b[0m \u001b[0mexecutor_type\u001b[0m\u001b[1;33m,\u001b[0m \u001b[1;34m\"config_proto\"\u001b[0m\u001b[1;33m,\u001b[0m \u001b[0mconfig\u001b[0m\u001b[1;33m)\u001b[0m\u001b[1;33m,\u001b[0m\u001b[1;33m\u001b[0m\u001b[1;33m\u001b[0m\u001b[0m\n\u001b[1;32m--> 511\u001b[1;33m               ctx=ctx)\n\u001b[0m\u001b[0;32m    512\u001b[0m         \u001b[1;32melse\u001b[0m\u001b[1;33m:\u001b[0m\u001b[1;33m\u001b[0m\u001b[1;33m\u001b[0m\u001b[0m\n\u001b[0;32m    513\u001b[0m           outputs = execute.execute_with_cancellation(\n",
      "\u001b[1;32m~\\anaconda3\\lib\\site-packages\\tensorflow_core\\python\\eager\\execute.py\u001b[0m in \u001b[0;36mquick_execute\u001b[1;34m(op_name, num_outputs, inputs, attrs, ctx, name)\u001b[0m\n\u001b[0;32m     65\u001b[0m     \u001b[1;32melse\u001b[0m\u001b[1;33m:\u001b[0m\u001b[1;33m\u001b[0m\u001b[1;33m\u001b[0m\u001b[0m\n\u001b[0;32m     66\u001b[0m       \u001b[0mmessage\u001b[0m \u001b[1;33m=\u001b[0m \u001b[0me\u001b[0m\u001b[1;33m.\u001b[0m\u001b[0mmessage\u001b[0m\u001b[1;33m\u001b[0m\u001b[1;33m\u001b[0m\u001b[0m\n\u001b[1;32m---> 67\u001b[1;33m     \u001b[0msix\u001b[0m\u001b[1;33m.\u001b[0m\u001b[0mraise_from\u001b[0m\u001b[1;33m(\u001b[0m\u001b[0mcore\u001b[0m\u001b[1;33m.\u001b[0m\u001b[0m_status_to_exception\u001b[0m\u001b[1;33m(\u001b[0m\u001b[0me\u001b[0m\u001b[1;33m.\u001b[0m\u001b[0mcode\u001b[0m\u001b[1;33m,\u001b[0m \u001b[0mmessage\u001b[0m\u001b[1;33m)\u001b[0m\u001b[1;33m,\u001b[0m \u001b[1;32mNone\u001b[0m\u001b[1;33m)\u001b[0m\u001b[1;33m\u001b[0m\u001b[1;33m\u001b[0m\u001b[0m\n\u001b[0m\u001b[0;32m     68\u001b[0m   \u001b[1;32mexcept\u001b[0m \u001b[0mTypeError\u001b[0m \u001b[1;32mas\u001b[0m \u001b[0me\u001b[0m\u001b[1;33m:\u001b[0m\u001b[1;33m\u001b[0m\u001b[1;33m\u001b[0m\u001b[0m\n\u001b[0;32m     69\u001b[0m     keras_symbolic_tensors = [\n",
      "\u001b[1;32m~\\anaconda3\\lib\\site-packages\\six.py\u001b[0m in \u001b[0;36mraise_from\u001b[1;34m(value, from_value)\u001b[0m\n",
      "\u001b[1;31mInvalidArgumentError\u001b[0m: 2 root error(s) found.\n  (0) Invalid argument:  indices[0,18] = -1 is not in [0, 79779)\n\t [[node sequential_1/embedding_1/embedding_lookup (defined at C:\\Users\\MyLaptop\\anaconda3\\lib\\site-packages\\tensorflow_core\\python\\framework\\ops.py:1751) ]]\n\t [[sequential_1/embedding_1/embedding_lookup/_6]]\n  (1) Invalid argument:  indices[0,18] = -1 is not in [0, 79779)\n\t [[node sequential_1/embedding_1/embedding_lookup (defined at C:\\Users\\MyLaptop\\anaconda3\\lib\\site-packages\\tensorflow_core\\python\\framework\\ops.py:1751) ]]\n0 successful operations.\n0 derived errors ignored. [Op:__inference_distributed_function_105461]\n\nFunction call stack:\ndistributed_function -> distributed_function\n"
     ]
    }
   ],
   "source": [
    "result = model.predict_classes(v2)\n",
    "result"
   ]
  },
  {
   "cell_type": "code",
   "execution_count": null,
   "metadata": {},
   "outputs": [],
   "source": []
  },
  {
   "cell_type": "code",
   "execution_count": null,
   "metadata": {},
   "outputs": [],
   "source": []
  },
  {
   "cell_type": "code",
   "execution_count": null,
   "metadata": {},
   "outputs": [],
   "source": []
  }
 ],
 "metadata": {
  "kernelspec": {
   "display_name": "Python 3",
   "language": "python",
   "name": "python3"
  },
  "language_info": {
   "codemirror_mode": {
    "name": "ipython",
    "version": 3
   },
   "file_extension": ".py",
   "mimetype": "text/x-python",
   "name": "python",
   "nbconvert_exporter": "python",
   "pygments_lexer": "ipython3",
   "version": "3.7.6"
  }
 },
 "nbformat": 4,
 "nbformat_minor": 4
}

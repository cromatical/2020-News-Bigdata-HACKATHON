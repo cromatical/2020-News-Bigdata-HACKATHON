{
 "cells": [
  {
   "cell_type": "markdown",
   "metadata": {},
   "source": [
    "# 빅카인즈 API 간단 사용 방법"
   ]
  },
  {
   "cell_type": "code",
   "execution_count": null,
   "metadata": {},
   "outputs": [],
   "source": [
    "import requests\n",
    "import json"
   ]
  },
  {
   "cell_type": "code",
   "execution_count": null,
   "metadata": {},
   "outputs": [],
   "source": [
    "# POST (JSON)\n",
    "headers = {'Content-Type': 'application/json; chearset=utf-8'}\n",
    "data = {\n",
    "    \"access_key\": \"5869ff0e-e2cf-4173-8c89-78692b97fdba\",\n",
    "    \"argument\": {\n",
    "        \"query\": \"취업 NOT 대학 AND 컴퓨터\",\n",
    "        \"published_at\": {\n",
    "            \"from\": \"2020-01-01\",\n",
    "            \"until\": \"2020-08-17\"\n",
    "        },\n",
    "        \"provider\": [\n",
    "            \"\",\n",
    "        ],\n",
    "        \"category\": [\n",
    "            \"\"\n",
    "        ],\n",
    "        \"category_incident\": [\n",
    "            \"\"\n",
    "        ],\n",
    "        \"byline\": \"\",\n",
    "        \"provider_subject\": [\n",
    "            \"\"\n",
    "        ],\n",
    "        \"subject_info\": [\n",
    "            \"\"\n",
    "        ],\n",
    "        \"subject_info1\": [\n",
    "            \"\"\n",
    "        ],\n",
    "        \"subject_info2\": [\n",
    "            \"\"\n",
    "        ],\n",
    "        \"subject_info3\": [\n",
    "            \"\"\n",
    "        ],\n",
    "        \"subject_info4\": [\n",
    "            \"\"\n",
    "        ],\n",
    "#         \"interval\": \"month\",\n",
    "#         \"nomalize\": False,\n",
    "        \n",
    "        \"sort\": {\"date\": \"desc\"},\n",
    "        \"hilight\": 200,\n",
    "        \"return_from\": 0,\n",
    "        \"return_size\": 1,\n",
    "        \"fields\": [\n",
    "#             \"news_id\",\n",
    "#             \"published_at\",\n",
    "#             \"provider\",\n",
    "#             \"byline\",\n",
    "#             \"title\",\n",
    "#             \"category\",\n",
    "            \"category_incident\",\n",
    "#             \"tms_ne_person\",\n",
    "#             \"tms_ne_location\",\n",
    "#             \"tms_ne_organization\",\n",
    "#             \"tms_similarity\",\n",
    "#             \"tms_raw_stream\",             11\n",
    "#             \"content\",\n",
    "#             \"contents\",\n",
    "#             \"provider_link_page\",\n",
    "            \"hilight\",\n",
    "#             \"images\"\n",
    "\n",
    "        ]\n",
    "    }\n",
    "}\n"
   ]
  },
  {
   "cell_type": "markdown",
   "metadata": {},
   "source": [
    "##### fields에 입력한 파라미터 값들로 원하는 출력를 얻을 수 있다.\n",
    "\n",
    "- category : 뉴스가 속한 카테고리가 출력\n",
    "- tms_similarity : \n",
    "- tms_raw_stream : 뉴스 본문 단어들의 집합을 출력\n",
    "- provider_link_page : 기사 링크"
   ]
  },
  {
   "cell_type": "markdown",
   "metadata": {},
   "source": [
    "사용하려는 API 마다 접속 주소가 다르다.\n",
    "\n",
    "제공되는 사용자 API 설명서 참고할 것"
   ]
  },
  {
   "cell_type": "code",
   "execution_count": null,
   "metadata": {},
   "outputs": [],
   "source": [
    "res = requests.post('http://tools.kinds.or.kr:8888/search/news', data=json.dumps(data), headers=headers)\n",
    "# print(str(res.status_code) + \" | \" + res.text)\n",
    "data = json.loads(res.text)\n",
    "data"
   ]
  }
 ],
 "metadata": {
  "kernelspec": {
   "display_name": "Python 3",
   "language": "python",
   "name": "python3"
  },
  "language_info": {
   "codemirror_mode": {
    "name": "ipython",
    "version": 3
   },
   "file_extension": ".py",
   "mimetype": "text/x-python",
   "name": "python",
   "nbconvert_exporter": "python",
   "pygments_lexer": "ipython3",
   "version": "3.7.6"
  }
 },
 "nbformat": 4,
 "nbformat_minor": 4
}
